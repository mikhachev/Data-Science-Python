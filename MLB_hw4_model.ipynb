{
 "cells": [
  {
   "cell_type": "markdown",
   "metadata": {},
   "source": [
    "Пока это скорее заглушка, ДЗ только начато"
   ]
  },
  {
   "cell_type": "markdown",
   "metadata": {},
   "source": [
    "## Задание\n",
    "\n",
    "1. Прочитайте базу my_PJME_MW.csv и сделайте ее перерасчет (ресемплинг) в представление по неделям.\n",
    "\n",
    "2. Постройте модель предсказания 4-й точки от текущей (h = 4), используя результаты автокорреляционного анализа из предшествующих уроков .\n",
    "3. Постройте модель предсказания 1-й точки от текущей (h = 1), используя результаты автокорреляционного анализа из предшествующих уроков.\n",
    "4. Примените авторекурсию и сравните результат в 4-й точке путем прямого моделирования и путем рекурсивного моделирования на длине выборки из 4-х точек. \n",
    "5. Оцените рост ошибки прогнозирования рекурсивной модели в интервалах от 1-й до 10-й, от 10-й до 20-й, от 20-й до 30-й, .. .10*i-й до (i+1)*10 -й,... ,от 90 до 100-й точках (используйте осреднение по десяткам точек)\n",
    "\n",
    "6. Сделайте вывод о том, как изменилось поведение ошибки предсказания ряда."
   ]
  },
  {
   "cell_type": "code",
   "execution_count": 1,
   "metadata": {},
   "outputs": [],
   "source": [
    "%matplotlib inline\n",
    "import matplotlib.pyplot as plt\n",
    "\n",
    "import numpy as np\n",
    "import pandas as pd \n",
    "import seaborn as sns\n",
    "\n",
    "\n",
    "from sklearn.metrics import mean_squared_error\n",
    "import os"
   ]
  },
  {
   "cell_type": "markdown",
   "metadata": {},
   "source": [
    "## Потребление энергии\n",
    "\n",
    "Временной ряд связан с измерением потребления энергии в отдельных регионах США в период 2002 по 2018 г. (PJM Hourly Energy Consumption Data\n",
    "https://www.kaggle.com/robikscube/hourly-energy-consumption). Содержит часовые измерения и после обработки добавлены метки по времени для календаря."
   ]
  },
  {
   "cell_type": "code",
   "execution_count": 67,
   "metadata": {},
   "outputs": [
    {
     "data": {
      "text/html": [
       "<div>\n",
       "<style scoped>\n",
       "    .dataframe tbody tr th:only-of-type {\n",
       "        vertical-align: middle;\n",
       "    }\n",
       "\n",
       "    .dataframe tbody tr th {\n",
       "        vertical-align: top;\n",
       "    }\n",
       "\n",
       "    .dataframe thead th {\n",
       "        text-align: right;\n",
       "    }\n",
       "</style>\n",
       "<table border=\"1\" class=\"dataframe\">\n",
       "  <thead>\n",
       "    <tr style=\"text-align: right;\">\n",
       "      <th></th>\n",
       "      <th>Time</th>\n",
       "      <th>PJME_MW</th>\n",
       "      <th>year</th>\n",
       "      <th>month</th>\n",
       "      <th>dayofmonth</th>\n",
       "      <th>quarter</th>\n",
       "      <th>dayofyear</th>\n",
       "      <th>weekofyear</th>\n",
       "      <th>dayofweek</th>\n",
       "      <th>hour</th>\n",
       "      <th>is_holiday</th>\n",
       "      <th>is_prev_holiday</th>\n",
       "      <th>is_next_holiday</th>\n",
       "    </tr>\n",
       "    <tr>\n",
       "      <th>Date</th>\n",
       "      <th></th>\n",
       "      <th></th>\n",
       "      <th></th>\n",
       "      <th></th>\n",
       "      <th></th>\n",
       "      <th></th>\n",
       "      <th></th>\n",
       "      <th></th>\n",
       "      <th></th>\n",
       "      <th></th>\n",
       "      <th></th>\n",
       "      <th></th>\n",
       "      <th></th>\n",
       "    </tr>\n",
       "  </thead>\n",
       "  <tbody>\n",
       "    <tr>\n",
       "      <th>2002-01-01</th>\n",
       "      <td>01:00:00</td>\n",
       "      <td>30393.0</td>\n",
       "      <td>2002</td>\n",
       "      <td>1</td>\n",
       "      <td>1</td>\n",
       "      <td>1</td>\n",
       "      <td>1</td>\n",
       "      <td>1</td>\n",
       "      <td>1</td>\n",
       "      <td>1</td>\n",
       "      <td>1</td>\n",
       "      <td>0</td>\n",
       "      <td>0</td>\n",
       "    </tr>\n",
       "    <tr>\n",
       "      <th>2002-01-01</th>\n",
       "      <td>02:00:00</td>\n",
       "      <td>29265.0</td>\n",
       "      <td>2002</td>\n",
       "      <td>1</td>\n",
       "      <td>1</td>\n",
       "      <td>1</td>\n",
       "      <td>1</td>\n",
       "      <td>1</td>\n",
       "      <td>1</td>\n",
       "      <td>2</td>\n",
       "      <td>1</td>\n",
       "      <td>0</td>\n",
       "      <td>0</td>\n",
       "    </tr>\n",
       "    <tr>\n",
       "      <th>2002-01-01</th>\n",
       "      <td>03:00:00</td>\n",
       "      <td>28357.0</td>\n",
       "      <td>2002</td>\n",
       "      <td>1</td>\n",
       "      <td>1</td>\n",
       "      <td>1</td>\n",
       "      <td>1</td>\n",
       "      <td>1</td>\n",
       "      <td>1</td>\n",
       "      <td>3</td>\n",
       "      <td>1</td>\n",
       "      <td>0</td>\n",
       "      <td>0</td>\n",
       "    </tr>\n",
       "    <tr>\n",
       "      <th>2002-01-01</th>\n",
       "      <td>04:00:00</td>\n",
       "      <td>27899.0</td>\n",
       "      <td>2002</td>\n",
       "      <td>1</td>\n",
       "      <td>1</td>\n",
       "      <td>1</td>\n",
       "      <td>1</td>\n",
       "      <td>1</td>\n",
       "      <td>1</td>\n",
       "      <td>4</td>\n",
       "      <td>1</td>\n",
       "      <td>0</td>\n",
       "      <td>0</td>\n",
       "    </tr>\n",
       "    <tr>\n",
       "      <th>2002-01-01</th>\n",
       "      <td>05:00:00</td>\n",
       "      <td>28057.0</td>\n",
       "      <td>2002</td>\n",
       "      <td>1</td>\n",
       "      <td>1</td>\n",
       "      <td>1</td>\n",
       "      <td>1</td>\n",
       "      <td>1</td>\n",
       "      <td>1</td>\n",
       "      <td>5</td>\n",
       "      <td>1</td>\n",
       "      <td>0</td>\n",
       "      <td>0</td>\n",
       "    </tr>\n",
       "  </tbody>\n",
       "</table>\n",
       "</div>"
      ],
      "text/plain": [
       "                Time  PJME_MW  year  month  dayofmonth  quarter  dayofyear  \\\n",
       "Date                                                                         \n",
       "2002-01-01  01:00:00  30393.0  2002      1           1        1          1   \n",
       "2002-01-01  02:00:00  29265.0  2002      1           1        1          1   \n",
       "2002-01-01  03:00:00  28357.0  2002      1           1        1          1   \n",
       "2002-01-01  04:00:00  27899.0  2002      1           1        1          1   \n",
       "2002-01-01  05:00:00  28057.0  2002      1           1        1          1   \n",
       "\n",
       "            weekofyear  dayofweek  hour  is_holiday  is_prev_holiday  \\\n",
       "Date                                                                   \n",
       "2002-01-01           1          1     1           1                0   \n",
       "2002-01-01           1          1     2           1                0   \n",
       "2002-01-01           1          1     3           1                0   \n",
       "2002-01-01           1          1     4           1                0   \n",
       "2002-01-01           1          1     5           1                0   \n",
       "\n",
       "            is_next_holiday  \n",
       "Date                         \n",
       "2002-01-01                0  \n",
       "2002-01-01                0  \n",
       "2002-01-01                0  \n",
       "2002-01-01                0  \n",
       "2002-01-01                0  "
      ]
     },
     "execution_count": 67,
     "metadata": {},
     "output_type": "execute_result"
    }
   ],
   "source": [
    "#Path_Energy = 'PJME_hourly.csv'\n",
    "Path_Energy = 'my_PJME_MW.csv'\n",
    "data = pd.read_csv(Path_Energy, index_col=[0], parse_dates=[0])\n",
    "\n",
    "data.head()"
   ]
  },
  {
   "cell_type": "code",
   "execution_count": 3,
   "metadata": {},
   "outputs": [
    {
     "name": "stderr",
     "output_type": "stream",
     "text": [
      "C:\\ProgramData\\Anaconda3\\lib\\site-packages\\pandas\\plotting\\_matplotlib\\converter.py:103: FutureWarning: Using an implicitly registered datetime converter for a matplotlib plotting method. The converter was registered by pandas on import. Future versions of pandas will require you to explicitly register matplotlib converters.\n",
      "\n",
      "To register the converters:\n",
      "\t>>> from pandas.plotting import register_matplotlib_converters\n",
      "\t>>> register_matplotlib_converters()\n",
      "  warnings.warn(msg, FutureWarning)\n"
     ]
    },
    {
     "data": {
      "image/png": "[encoded data removed]",
      "text/plain": [
       "<Figure size 1440x288 with 1 Axes>"
      ]
     },
     "metadata": {
      "needs_background": "light"
     },
     "output_type": "display_data"
    }
   ],
   "source": [
    "plt.figure(figsize =(20,4))\n",
    "plt.plot( data.index, data['PJME_MW'], 'b' )\n",
    "plt.title('PJM East потребление энергии' )\n",
    "plt.ylabel ( 'МВт' )\n",
    "plt.show()"
   ]
  },
  {
   "cell_type": "code",
   "execution_count": 90,
   "metadata": {},
   "outputs": [
    {
     "data": {
      "text/html": [
       "<div>\n",
       "<style scoped>\n",
       "    .dataframe tbody tr th:only-of-type {\n",
       "        vertical-align: middle;\n",
       "    }\n",
       "\n",
       "    .dataframe tbody tr th {\n",
       "        vertical-align: top;\n",
       "    }\n",
       "\n",
       "    .dataframe thead th {\n",
       "        text-align: right;\n",
       "    }\n",
       "</style>\n",
       "<table border=\"1\" class=\"dataframe\">\n",
       "  <thead>\n",
       "    <tr style=\"text-align: right;\">\n",
       "      <th></th>\n",
       "      <th>PJME_MW</th>\n",
       "      <th>year</th>\n",
       "      <th>month</th>\n",
       "      <th>dayofmonth</th>\n",
       "      <th>quarter</th>\n",
       "      <th>dayofyear</th>\n",
       "      <th>weekofyear</th>\n",
       "      <th>dayofweek</th>\n",
       "      <th>hour</th>\n",
       "      <th>is_holiday</th>\n",
       "      <th>is_prev_holiday</th>\n",
       "      <th>is_next_holiday</th>\n",
       "    </tr>\n",
       "    <tr>\n",
       "      <th>Date</th>\n",
       "      <th></th>\n",
       "      <th></th>\n",
       "      <th></th>\n",
       "      <th></th>\n",
       "      <th></th>\n",
       "      <th></th>\n",
       "      <th></th>\n",
       "      <th></th>\n",
       "      <th></th>\n",
       "      <th></th>\n",
       "      <th></th>\n",
       "      <th></th>\n",
       "    </tr>\n",
       "  </thead>\n",
       "  <tbody>\n",
       "    <tr>\n",
       "      <th>2002-01-06</th>\n",
       "      <td>32392.160839</td>\n",
       "      <td>2002.0</td>\n",
       "      <td>1.000000</td>\n",
       "      <td>3.517483</td>\n",
       "      <td>1.0</td>\n",
       "      <td>3.517483</td>\n",
       "      <td>1.0</td>\n",
       "      <td>3.517483</td>\n",
       "      <td>11.58042</td>\n",
       "      <td>0.160839</td>\n",
       "      <td>0.000000</td>\n",
       "      <td>0.167832</td>\n",
       "    </tr>\n",
       "    <tr>\n",
       "      <th>2002-01-13</th>\n",
       "      <td>31487.386905</td>\n",
       "      <td>2002.0</td>\n",
       "      <td>1.000000</td>\n",
       "      <td>10.000000</td>\n",
       "      <td>1.0</td>\n",
       "      <td>10.000000</td>\n",
       "      <td>2.0</td>\n",
       "      <td>3.000000</td>\n",
       "      <td>11.50000</td>\n",
       "      <td>0.000000</td>\n",
       "      <td>0.000000</td>\n",
       "      <td>0.000000</td>\n",
       "    </tr>\n",
       "    <tr>\n",
       "      <th>2002-01-20</th>\n",
       "      <td>31452.880952</td>\n",
       "      <td>2002.0</td>\n",
       "      <td>1.000000</td>\n",
       "      <td>17.000000</td>\n",
       "      <td>1.0</td>\n",
       "      <td>17.000000</td>\n",
       "      <td>3.0</td>\n",
       "      <td>3.000000</td>\n",
       "      <td>11.50000</td>\n",
       "      <td>0.000000</td>\n",
       "      <td>0.142857</td>\n",
       "      <td>0.000000</td>\n",
       "    </tr>\n",
       "    <tr>\n",
       "      <th>2002-01-27</th>\n",
       "      <td>30141.529762</td>\n",
       "      <td>2002.0</td>\n",
       "      <td>1.000000</td>\n",
       "      <td>24.000000</td>\n",
       "      <td>1.0</td>\n",
       "      <td>24.000000</td>\n",
       "      <td>4.0</td>\n",
       "      <td>3.000000</td>\n",
       "      <td>11.50000</td>\n",
       "      <td>0.142857</td>\n",
       "      <td>0.000000</td>\n",
       "      <td>0.142857</td>\n",
       "    </tr>\n",
       "    <tr>\n",
       "      <th>2002-02-03</th>\n",
       "      <td>29196.488095</td>\n",
       "      <td>2002.0</td>\n",
       "      <td>1.428571</td>\n",
       "      <td>17.714286</td>\n",
       "      <td>1.0</td>\n",
       "      <td>31.000000</td>\n",
       "      <td>5.0</td>\n",
       "      <td>3.000000</td>\n",
       "      <td>11.50000</td>\n",
       "      <td>0.000000</td>\n",
       "      <td>0.000000</td>\n",
       "      <td>0.000000</td>\n",
       "    </tr>\n",
       "  </tbody>\n",
       "</table>\n",
       "</div>"
      ],
      "text/plain": [
       "                 PJME_MW    year     month  dayofmonth  quarter  dayofyear  \\\n",
       "Date                                                                         \n",
       "2002-01-06  32392.160839  2002.0  1.000000    3.517483      1.0   3.517483   \n",
       "2002-01-13  31487.386905  2002.0  1.000000   10.000000      1.0  10.000000   \n",
       "2002-01-20  31452.880952  2002.0  1.000000   17.000000      1.0  17.000000   \n",
       "2002-01-27  30141.529762  2002.0  1.000000   24.000000      1.0  24.000000   \n",
       "2002-02-03  29196.488095  2002.0  1.428571   17.714286      1.0  31.000000   \n",
       "\n",
       "            weekofyear  dayofweek      hour  is_holiday  is_prev_holiday  \\\n",
       "Date                                                                       \n",
       "2002-01-06         1.0   3.517483  11.58042    0.160839         0.000000   \n",
       "2002-01-13         2.0   3.000000  11.50000    0.000000         0.000000   \n",
       "2002-01-20         3.0   3.000000  11.50000    0.000000         0.142857   \n",
       "2002-01-27         4.0   3.000000  11.50000    0.142857         0.000000   \n",
       "2002-02-03         5.0   3.000000  11.50000    0.000000         0.000000   \n",
       "\n",
       "            is_next_holiday  \n",
       "Date                         \n",
       "2002-01-06         0.167832  \n",
       "2002-01-13         0.000000  \n",
       "2002-01-20         0.000000  \n",
       "2002-01-27         0.142857  \n",
       "2002-02-03         0.000000  "
      ]
     },
     "execution_count": 90,
     "metadata": {},
     "output_type": "execute_result"
    }
   ],
   "source": [
    "data_w = data.copy().resample('W').mean()\n",
    "data_w.head()"
   ]
  },
  {
   "cell_type": "code",
   "execution_count": 91,
   "metadata": {},
   "outputs": [
    {
     "data": {
      "text/html": [
       "<div>\n",
       "<style scoped>\n",
       "    .dataframe tbody tr th:only-of-type {\n",
       "        vertical-align: middle;\n",
       "    }\n",
       "\n",
       "    .dataframe tbody tr th {\n",
       "        vertical-align: top;\n",
       "    }\n",
       "\n",
       "    .dataframe thead th {\n",
       "        text-align: right;\n",
       "    }\n",
       "</style>\n",
       "<table border=\"1\" class=\"dataframe\">\n",
       "  <thead>\n",
       "    <tr style=\"text-align: right;\">\n",
       "      <th></th>\n",
       "      <th>PJME_MW</th>\n",
       "      <th>month</th>\n",
       "      <th>dayofmonth</th>\n",
       "      <th>quarter</th>\n",
       "      <th>dayofyear</th>\n",
       "      <th>weekofyear</th>\n",
       "    </tr>\n",
       "    <tr>\n",
       "      <th>Date</th>\n",
       "      <th></th>\n",
       "      <th></th>\n",
       "      <th></th>\n",
       "      <th></th>\n",
       "      <th></th>\n",
       "      <th></th>\n",
       "    </tr>\n",
       "  </thead>\n",
       "  <tbody>\n",
       "    <tr>\n",
       "      <th>2002-01-06</th>\n",
       "      <td>32392.160839</td>\n",
       "      <td>1.000000</td>\n",
       "      <td>3.517483</td>\n",
       "      <td>1.0</td>\n",
       "      <td>3.517483</td>\n",
       "      <td>1.0</td>\n",
       "    </tr>\n",
       "    <tr>\n",
       "      <th>2002-01-13</th>\n",
       "      <td>31487.386905</td>\n",
       "      <td>1.000000</td>\n",
       "      <td>10.000000</td>\n",
       "      <td>1.0</td>\n",
       "      <td>10.000000</td>\n",
       "      <td>2.0</td>\n",
       "    </tr>\n",
       "    <tr>\n",
       "      <th>2002-01-20</th>\n",
       "      <td>31452.880952</td>\n",
       "      <td>1.000000</td>\n",
       "      <td>17.000000</td>\n",
       "      <td>1.0</td>\n",
       "      <td>17.000000</td>\n",
       "      <td>3.0</td>\n",
       "    </tr>\n",
       "    <tr>\n",
       "      <th>2002-01-27</th>\n",
       "      <td>30141.529762</td>\n",
       "      <td>1.000000</td>\n",
       "      <td>24.000000</td>\n",
       "      <td>1.0</td>\n",
       "      <td>24.000000</td>\n",
       "      <td>4.0</td>\n",
       "    </tr>\n",
       "    <tr>\n",
       "      <th>2002-02-03</th>\n",
       "      <td>29196.488095</td>\n",
       "      <td>1.428571</td>\n",
       "      <td>17.714286</td>\n",
       "      <td>1.0</td>\n",
       "      <td>31.000000</td>\n",
       "      <td>5.0</td>\n",
       "    </tr>\n",
       "  </tbody>\n",
       "</table>\n",
       "</div>"
      ],
      "text/plain": [
       "                 PJME_MW     month  dayofmonth  quarter  dayofyear  weekofyear\n",
       "Date                                                                          \n",
       "2002-01-06  32392.160839  1.000000    3.517483      1.0   3.517483         1.0\n",
       "2002-01-13  31487.386905  1.000000   10.000000      1.0  10.000000         2.0\n",
       "2002-01-20  31452.880952  1.000000   17.000000      1.0  17.000000         3.0\n",
       "2002-01-27  30141.529762  1.000000   24.000000      1.0  24.000000         4.0\n",
       "2002-02-03  29196.488095  1.428571   17.714286      1.0  31.000000         5.0"
      ]
     },
     "execution_count": 91,
     "metadata": {},
     "output_type": "execute_result"
    }
   ],
   "source": [
    "data_w.drop('hour', axis=1,inplace=True)\n",
    "data_w.drop('dayofweek', axis=1,inplace=True)\n",
    "data_w.drop('is_holiday', axis=1,inplace=True)\n",
    "data_w.drop('is_prev_holiday', axis=1,inplace=True)\n",
    "data_w.drop('is_next_holiday', axis=1,inplace=True)\n",
    "#Поскольку в годовом развороте ряда тренда нет (временные ряды 2 и 3), \n",
    "#то и признак 'year' можно исключить.\n",
    "data_w.drop('year', axis=1,inplace=True)\n",
    "data_w.head()"
   ]
  },
  {
   "cell_type": "markdown",
   "metadata": {},
   "source": [
    "Можно построить интегральный признак используя кластер-анализ или частичную классификацию. Начнем с признака по кластер-анализу. Воспользуемся методом kmeans, если можем предположить сколько будет кластеров, или DBSCAN, который не требует знания реального числа кластеров. "
   ]
  },
  {
   "cell_type": "code",
   "execution_count": 92,
   "metadata": {},
   "outputs": [],
   "source": [
    "from sklearn.cluster import KMeans, DBSCAN\n",
    "from sklearn.preprocessing import StandardScaler\n",
    "from sklearn.manifold import TSNE \n",
    "import seaborn as sns\n",
    "\n",
    "scl=StandardScaler()\n",
    "tsne_ =TSNE(n_components=2)\n",
    "\n",
    "X = data_w.iloc[:,:-1].values\n",
    "\n",
    "Xscale = scl.fit_transform(X)\n",
    "X_t = tsne_.fit_transform(Xscale)"
   ]
  },
  {
   "cell_type": "code",
   "execution_count": 93,
   "metadata": {},
   "outputs": [
    {
     "data": {
      "image/png": "[encoded data removed]",
      "text/plain": [
       "<Figure size 432x288 with 1 Axes>"
      ]
     },
     "metadata": {
      "needs_background": "light"
     },
     "output_type": "display_data"
    }
   ],
   "source": [
    "clast_0 = DBSCAN(eps=5, leaf_size=15 )\n",
    "clast_1 = DBSCAN(eps=2, leaf_size=5)\n",
    "X_clast =clast_0.fit_predict(X_t)\n",
    "X_scale_clast =clast_1.fit_predict(Xscale)\n",
    "\n",
    "sns.scatterplot(X_t[:,0],X_t[:,1], hue=X_clast)\n",
    "plt.show()"
   ]
  },
  {
   "cell_type": "code",
   "execution_count": 94,
   "metadata": {},
   "outputs": [
    {
     "name": "stdout",
     "output_type": "stream",
     "text": [
      "Число кластеров в календаре с масштабированием:  1\n",
      "Число кластеров в календаре:  4\n"
     ]
    }
   ],
   "source": [
    "print('Число кластеров в календаре с масштабированием: ',len(np.unique(X_scale_clast)))\n",
    "print('Число кластеров в календаре: ',len(np.unique(X_clast)))"
   ]
  },
  {
   "cell_type": "markdown",
   "metadata": {},
   "source": [
    "Принадлежность кластерам можно использовать в качестве нового признака и проверить качество обработки модели с новой координатой. В данном конкретном примере кластеризация без масштабирования, но с понижением размерности выглядит очень обосновано. Берем этот вариант за основу и добавим признак к общему описанию задачи. "
   ]
  },
  {
   "cell_type": "code",
   "execution_count": 95,
   "metadata": {},
   "outputs": [
    {
     "data": {
      "text/html": [
       "<div>\n",
       "<style scoped>\n",
       "    .dataframe tbody tr th:only-of-type {\n",
       "        vertical-align: middle;\n",
       "    }\n",
       "\n",
       "    .dataframe tbody tr th {\n",
       "        vertical-align: top;\n",
       "    }\n",
       "\n",
       "    .dataframe thead th {\n",
       "        text-align: right;\n",
       "    }\n",
       "</style>\n",
       "<table border=\"1\" class=\"dataframe\">\n",
       "  <thead>\n",
       "    <tr style=\"text-align: right;\">\n",
       "      <th></th>\n",
       "      <th>PJME_MW</th>\n",
       "      <th>month</th>\n",
       "      <th>dayofmonth</th>\n",
       "      <th>quarter</th>\n",
       "      <th>dayofyear</th>\n",
       "      <th>weekofyear</th>\n",
       "      <th>claster_feat</th>\n",
       "    </tr>\n",
       "    <tr>\n",
       "      <th>Date</th>\n",
       "      <th></th>\n",
       "      <th></th>\n",
       "      <th></th>\n",
       "      <th></th>\n",
       "      <th></th>\n",
       "      <th></th>\n",
       "      <th></th>\n",
       "    </tr>\n",
       "  </thead>\n",
       "  <tbody>\n",
       "    <tr>\n",
       "      <th>2002-01-06</th>\n",
       "      <td>32392.160839</td>\n",
       "      <td>1.000000</td>\n",
       "      <td>3.517483</td>\n",
       "      <td>1.0</td>\n",
       "      <td>3.517483</td>\n",
       "      <td>1.0</td>\n",
       "      <td>0</td>\n",
       "    </tr>\n",
       "    <tr>\n",
       "      <th>2002-01-13</th>\n",
       "      <td>31487.386905</td>\n",
       "      <td>1.000000</td>\n",
       "      <td>10.000000</td>\n",
       "      <td>1.0</td>\n",
       "      <td>10.000000</td>\n",
       "      <td>2.0</td>\n",
       "      <td>0</td>\n",
       "    </tr>\n",
       "    <tr>\n",
       "      <th>2002-01-20</th>\n",
       "      <td>31452.880952</td>\n",
       "      <td>1.000000</td>\n",
       "      <td>17.000000</td>\n",
       "      <td>1.0</td>\n",
       "      <td>17.000000</td>\n",
       "      <td>3.0</td>\n",
       "      <td>0</td>\n",
       "    </tr>\n",
       "    <tr>\n",
       "      <th>2002-01-27</th>\n",
       "      <td>30141.529762</td>\n",
       "      <td>1.000000</td>\n",
       "      <td>24.000000</td>\n",
       "      <td>1.0</td>\n",
       "      <td>24.000000</td>\n",
       "      <td>4.0</td>\n",
       "      <td>0</td>\n",
       "    </tr>\n",
       "    <tr>\n",
       "      <th>2002-02-03</th>\n",
       "      <td>29196.488095</td>\n",
       "      <td>1.428571</td>\n",
       "      <td>17.714286</td>\n",
       "      <td>1.0</td>\n",
       "      <td>31.000000</td>\n",
       "      <td>5.0</td>\n",
       "      <td>0</td>\n",
       "    </tr>\n",
       "    <tr>\n",
       "      <th>2002-02-10</th>\n",
       "      <td>31150.517857</td>\n",
       "      <td>2.000000</td>\n",
       "      <td>7.000000</td>\n",
       "      <td>1.0</td>\n",
       "      <td>38.000000</td>\n",
       "      <td>6.0</td>\n",
       "      <td>0</td>\n",
       "    </tr>\n",
       "    <tr>\n",
       "      <th>2002-02-17</th>\n",
       "      <td>30616.565476</td>\n",
       "      <td>2.000000</td>\n",
       "      <td>14.000000</td>\n",
       "      <td>1.0</td>\n",
       "      <td>45.000000</td>\n",
       "      <td>7.0</td>\n",
       "      <td>0</td>\n",
       "    </tr>\n",
       "    <tr>\n",
       "      <th>2002-02-24</th>\n",
       "      <td>29144.130952</td>\n",
       "      <td>2.000000</td>\n",
       "      <td>21.000000</td>\n",
       "      <td>1.0</td>\n",
       "      <td>52.000000</td>\n",
       "      <td>8.0</td>\n",
       "      <td>0</td>\n",
       "    </tr>\n",
       "    <tr>\n",
       "      <th>2002-03-03</th>\n",
       "      <td>29869.011905</td>\n",
       "      <td>2.428571</td>\n",
       "      <td>16.000000</td>\n",
       "      <td>1.0</td>\n",
       "      <td>59.000000</td>\n",
       "      <td>9.0</td>\n",
       "      <td>0</td>\n",
       "    </tr>\n",
       "    <tr>\n",
       "      <th>2002-03-10</th>\n",
       "      <td>29440.910714</td>\n",
       "      <td>3.000000</td>\n",
       "      <td>7.000000</td>\n",
       "      <td>1.0</td>\n",
       "      <td>66.000000</td>\n",
       "      <td>10.0</td>\n",
       "      <td>0</td>\n",
       "    </tr>\n",
       "  </tbody>\n",
       "</table>\n",
       "</div>"
      ],
      "text/plain": [
       "                 PJME_MW     month  dayofmonth  quarter  dayofyear  \\\n",
       "Date                                                                 \n",
       "2002-01-06  32392.160839  1.000000    3.517483      1.0   3.517483   \n",
       "2002-01-13  31487.386905  1.000000   10.000000      1.0  10.000000   \n",
       "2002-01-20  31452.880952  1.000000   17.000000      1.0  17.000000   \n",
       "2002-01-27  30141.529762  1.000000   24.000000      1.0  24.000000   \n",
       "2002-02-03  29196.488095  1.428571   17.714286      1.0  31.000000   \n",
       "2002-02-10  31150.517857  2.000000    7.000000      1.0  38.000000   \n",
       "2002-02-17  30616.565476  2.000000   14.000000      1.0  45.000000   \n",
       "2002-02-24  29144.130952  2.000000   21.000000      1.0  52.000000   \n",
       "2002-03-03  29869.011905  2.428571   16.000000      1.0  59.000000   \n",
       "2002-03-10  29440.910714  3.000000    7.000000      1.0  66.000000   \n",
       "\n",
       "            weekofyear  claster_feat  \n",
       "Date                                  \n",
       "2002-01-06         1.0             0  \n",
       "2002-01-13         2.0             0  \n",
       "2002-01-20         3.0             0  \n",
       "2002-01-27         4.0             0  \n",
       "2002-02-03         5.0             0  \n",
       "2002-02-10         6.0             0  \n",
       "2002-02-17         7.0             0  \n",
       "2002-02-24         8.0             0  \n",
       "2002-03-03         9.0             0  \n",
       "2002-03-10        10.0             0  "
      ]
     },
     "execution_count": 95,
     "metadata": {},
     "output_type": "execute_result"
    }
   ],
   "source": [
    "data_w['claster_feat'] = X_clast\n",
    "data_w.iloc[np.where(data_w['claster_feat']==0)[0]].iloc[:10,:]"
   ]
  },
  {
   "cell_type": "code",
   "execution_count": 96,
   "metadata": {},
   "outputs": [
    {
     "data": {
      "text/plain": [
       "PJME_MW         10\n",
       "month           10\n",
       "dayofmonth      10\n",
       "quarter         10\n",
       "dayofyear       10\n",
       "weekofyear      10\n",
       "claster_feat    10\n",
       "dtype: int64"
      ]
     },
     "execution_count": 96,
     "metadata": {},
     "output_type": "execute_result"
    }
   ],
   "source": [
    "data_w['claster_feat'] = X_clast\n",
    "data_w.iloc[np.where(data_w['claster_feat']==2)[0]].iloc[:10,:].count()"
   ]
  },
  {
   "cell_type": "markdown",
   "metadata": {},
   "source": [
    "Похоже новый сильно связан с кварталом и нет смысла в его дублировании.\n",
    "Простая, хотя и линейная модель, это PCA - метод главных компонент. Поскольку наши координаты календаря вполне связаны, то можно проверить и такой путь объединения признаков. Добавим признак на основе компонетного анализа. Построим 2 компоненты по признакам из календаря , без значений ряда и допишем их в общую таблицу."
   ]
  },
  {
   "cell_type": "code",
   "execution_count": 97,
   "metadata": {},
   "outputs": [
    {
     "data": {
      "text/plain": [
       "(866, 2)"
      ]
     },
     "execution_count": 97,
     "metadata": {},
     "output_type": "execute_result"
    }
   ],
   "source": [
    "from sklearn.decomposition import PCA\n",
    "\n",
    "pca = PCA(n_components=2, svd_solver='full')\n",
    "Xpca=pca.fit_transform(Xscale[:,1:])\n",
    "Xpca.shape"
   ]
  },
  {
   "cell_type": "code",
   "execution_count": 98,
   "metadata": {},
   "outputs": [],
   "source": [
    "data_w['pca1']=Xpca[:,0]\n",
    "data_w['pca2']=Xpca[:,1]"
   ]
  },
  {
   "cell_type": "markdown",
   "metadata": {},
   "source": [
    "Добавим новых признаков, описывающих содержание ряда. К таким признакам можно отнести разности ряда и разнообразные варианты сглаживания. Добавим к нашей модели 1-е разности. При этом следует помнить, что такие операции уменьшают общую длину корректной выборки на 1, т.е. первую строку данных следует исключить из модели в момент обучения.\n",
    "можно добавить все, что можем придумать. Например, логарифм признака, частные признаков , частные логарифмов и т.д"
   ]
  },
  {
   "cell_type": "code",
   "execution_count": 99,
   "metadata": {},
   "outputs": [],
   "source": [
    "first_diff =np.array(data_w.iloc[1:,0].values - data_w.iloc[:-1,0].values).astype('float32') \n",
    "data_w['diff1'] = 0\n",
    "data_w['diff1'] =  data_w['diff1'].astype('float') \n",
    "data_w['diff1'].values[1:] = first_diff"
   ]
  },
  {
   "cell_type": "code",
   "execution_count": 100,
   "metadata": {},
   "outputs": [],
   "source": [
    "first_diff_w =(first_diff) / data_w.iloc[1:,0].values\n",
    "data_w['diff1_d'] = 0\n",
    "data_w['diff1_d'] =  data_w['diff1_d'].astype('float') \n",
    "data_w['diff1_d'].values[1:] = np.array(first_diff_w).astype('float32')"
   ]
  },
  {
   "cell_type": "code",
   "execution_count": 101,
   "metadata": {},
   "outputs": [],
   "source": [
    "first_diff_l =np.log(data_w.iloc[1:,0].values) \n",
    "data_w['diff1_l'] = 0\n",
    "data_w['diff1_l'] =  data_w['diff1_l'].astype('float') \n",
    "data_w['diff1_l'].values[1:] = first_diff_l"
   ]
  },
  {
   "cell_type": "code",
   "execution_count": 102,
   "metadata": {},
   "outputs": [],
   "source": [
    "#Добавим скользящее среднее по всей модели с глубиной 4 и 13 недели. \n",
    "data_w['d_w4']=data_w['PJME_MW'].rolling(window=4).mean()\n",
    "data_w['d_w13']=data_w['PJME_MW'].rolling(window=13).mean()"
   ]
  },
  {
   "cell_type": "code",
   "execution_count": 103,
   "metadata": {},
   "outputs": [],
   "source": [
    "#А теперь добавим еще и экспонентциальную среднюю. \n",
    "#Медленную, т.к. интересная информация лежит на уровне сезонных колебаний цены.\n",
    "def exponential_smoothing(series, alpha):\n",
    "    result = [series[0]] \n",
    "    for n in range(1, len(series)):\n",
    "        result.append(alpha * series[n] + (1 - alpha) * result[n-1])\n",
    "    return result\n",
    "\n",
    "data_w['exp_0_05'] = exponential_smoothing(data_w['PJME_MW'], 0.05)"
   ]
  },
  {
   "cell_type": "code",
   "execution_count": 104,
   "metadata": {},
   "outputs": [
    {
     "data": {
      "text/html": [
       "<div>\n",
       "<style scoped>\n",
       "    .dataframe tbody tr th:only-of-type {\n",
       "        vertical-align: middle;\n",
       "    }\n",
       "\n",
       "    .dataframe tbody tr th {\n",
       "        vertical-align: top;\n",
       "    }\n",
       "\n",
       "    .dataframe thead th {\n",
       "        text-align: right;\n",
       "    }\n",
       "</style>\n",
       "<table border=\"1\" class=\"dataframe\">\n",
       "  <thead>\n",
       "    <tr style=\"text-align: right;\">\n",
       "      <th></th>\n",
       "      <th>PJME_MW</th>\n",
       "      <th>month</th>\n",
       "      <th>dayofmonth</th>\n",
       "      <th>quarter</th>\n",
       "      <th>dayofyear</th>\n",
       "      <th>weekofyear</th>\n",
       "      <th>claster_feat</th>\n",
       "      <th>pca1</th>\n",
       "      <th>pca2</th>\n",
       "      <th>diff1</th>\n",
       "      <th>diff1_d</th>\n",
       "      <th>diff1_l</th>\n",
       "      <th>d_w4</th>\n",
       "      <th>d_w13</th>\n",
       "      <th>exp_0_05</th>\n",
       "    </tr>\n",
       "    <tr>\n",
       "      <th>Date</th>\n",
       "      <th></th>\n",
       "      <th></th>\n",
       "      <th></th>\n",
       "      <th></th>\n",
       "      <th></th>\n",
       "      <th></th>\n",
       "      <th></th>\n",
       "      <th></th>\n",
       "      <th></th>\n",
       "      <th></th>\n",
       "      <th></th>\n",
       "      <th></th>\n",
       "      <th></th>\n",
       "      <th></th>\n",
       "      <th></th>\n",
       "    </tr>\n",
       "  </thead>\n",
       "  <tbody>\n",
       "    <tr>\n",
       "      <th>2002-03-17</th>\n",
       "      <td>28672.779762</td>\n",
       "      <td>3.0</td>\n",
       "      <td>14.000000</td>\n",
       "      <td>1.0</td>\n",
       "      <td>73.000000</td>\n",
       "      <td>11.0</td>\n",
       "      <td>0</td>\n",
       "      <td>-1.973262</td>\n",
       "      <td>-0.181368</td>\n",
       "      <td>-768.130981</td>\n",
       "      <td>-0.026790</td>\n",
       "      <td>10.263704</td>\n",
       "      <td>29281.708333</td>\n",
       "      <td>NaN</td>\n",
       "      <td>31436.852496</td>\n",
       "    </tr>\n",
       "    <tr>\n",
       "      <th>2002-03-24</th>\n",
       "      <td>29927.488095</td>\n",
       "      <td>3.0</td>\n",
       "      <td>21.000000</td>\n",
       "      <td>1.0</td>\n",
       "      <td>80.000000</td>\n",
       "      <td>12.0</td>\n",
       "      <td>0</td>\n",
       "      <td>-1.900509</td>\n",
       "      <td>0.843948</td>\n",
       "      <td>1254.708374</td>\n",
       "      <td>0.041925</td>\n",
       "      <td>10.306533</td>\n",
       "      <td>29477.547619</td>\n",
       "      <td>NaN</td>\n",
       "      <td>31361.384276</td>\n",
       "    </tr>\n",
       "    <tr>\n",
       "      <th>2002-03-31</th>\n",
       "      <td>27595.869048</td>\n",
       "      <td>3.0</td>\n",
       "      <td>28.000000</td>\n",
       "      <td>1.0</td>\n",
       "      <td>87.000000</td>\n",
       "      <td>13.0</td>\n",
       "      <td>0</td>\n",
       "      <td>-1.827755</td>\n",
       "      <td>1.869264</td>\n",
       "      <td>-2331.619141</td>\n",
       "      <td>-0.084492</td>\n",
       "      <td>10.225421</td>\n",
       "      <td>28909.261905</td>\n",
       "      <td>30083.670797</td>\n",
       "      <td>31173.108514</td>\n",
       "    </tr>\n",
       "    <tr>\n",
       "      <th>2002-04-07</th>\n",
       "      <td>28308.778443</td>\n",
       "      <td>4.0</td>\n",
       "      <td>3.982036</td>\n",
       "      <td>2.0</td>\n",
       "      <td>93.982036</td>\n",
       "      <td>14.0</td>\n",
       "      <td>1</td>\n",
       "      <td>-1.209696</td>\n",
       "      <td>-1.689802</td>\n",
       "      <td>712.909424</td>\n",
       "      <td>0.025183</td>\n",
       "      <td>10.250927</td>\n",
       "      <td>28626.228837</td>\n",
       "      <td>29769.564459</td>\n",
       "      <td>31029.892011</td>\n",
       "    </tr>\n",
       "    <tr>\n",
       "      <th>2002-04-14</th>\n",
       "      <td>27182.482143</td>\n",
       "      <td>4.0</td>\n",
       "      <td>11.000000</td>\n",
       "      <td>2.0</td>\n",
       "      <td>101.000000</td>\n",
       "      <td>15.0</td>\n",
       "      <td>1</td>\n",
       "      <td>-1.136756</td>\n",
       "      <td>-0.661854</td>\n",
       "      <td>-1126.296265</td>\n",
       "      <td>-0.041435</td>\n",
       "      <td>10.210328</td>\n",
       "      <td>28253.654432</td>\n",
       "      <td>29438.417939</td>\n",
       "      <td>30837.521517</td>\n",
       "    </tr>\n",
       "  </tbody>\n",
       "</table>\n",
       "</div>"
      ],
      "text/plain": [
       "                 PJME_MW  month  dayofmonth  quarter   dayofyear  weekofyear  \\\n",
       "Date                                                                           \n",
       "2002-03-17  28672.779762    3.0   14.000000      1.0   73.000000        11.0   \n",
       "2002-03-24  29927.488095    3.0   21.000000      1.0   80.000000        12.0   \n",
       "2002-03-31  27595.869048    3.0   28.000000      1.0   87.000000        13.0   \n",
       "2002-04-07  28308.778443    4.0    3.982036      2.0   93.982036        14.0   \n",
       "2002-04-14  27182.482143    4.0   11.000000      2.0  101.000000        15.0   \n",
       "\n",
       "            claster_feat      pca1      pca2        diff1   diff1_d  \\\n",
       "Date                                                                  \n",
       "2002-03-17             0 -1.973262 -0.181368  -768.130981 -0.026790   \n",
       "2002-03-24             0 -1.900509  0.843948  1254.708374  0.041925   \n",
       "2002-03-31             0 -1.827755  1.869264 -2331.619141 -0.084492   \n",
       "2002-04-07             1 -1.209696 -1.689802   712.909424  0.025183   \n",
       "2002-04-14             1 -1.136756 -0.661854 -1126.296265 -0.041435   \n",
       "\n",
       "              diff1_l          d_w4         d_w13      exp_0_05  \n",
       "Date                                                             \n",
       "2002-03-17  10.263704  29281.708333           NaN  31436.852496  \n",
       "2002-03-24  10.306533  29477.547619           NaN  31361.384276  \n",
       "2002-03-31  10.225421  28909.261905  30083.670797  31173.108514  \n",
       "2002-04-07  10.250927  28626.228837  29769.564459  31029.892011  \n",
       "2002-04-14  10.210328  28253.654432  29438.417939  30837.521517  "
      ]
     },
     "execution_count": 104,
     "metadata": {},
     "output_type": "execute_result"
    }
   ],
   "source": [
    "data_w.iloc[10:15,:]"
   ]
  },
  {
   "cell_type": "code",
   "execution_count": 105,
   "metadata": {},
   "outputs": [
    {
     "data": {
      "image/png": "[encoded data removed]",
      "text/plain": [
       "<Figure size 432x288 with 1 Axes>"
      ]
     },
     "metadata": {
      "needs_background": "light"
     },
     "output_type": "display_data"
    }
   ],
   "source": [
    "N100=200\n",
    "plt.plot(data_w.index[:N100],data_w['PJME_MW'][:N100],'r',label ='основной ряд')\n",
    "plt.plot(data_w.index[:N100],data_w['diff1'][:N100],'--k',label ='1-е разности')\n",
    "plt.plot(data_w.index[:N100],data_w['d_w4'][:N100],'--y',label ='скользящее среднее 7')\n",
    "plt.plot(data_w.index[:N100],data_w['d_w13'][:N100],'--b',label ='скользящее среднее 7')\n",
    "plt.plot(data_w.index[:N100],data_w['exp_0_05'][:N100],'--g',label ='экспонентциальное среднее')\n",
    "plt.legend()\n",
    "plt.show()"
   ]
  },
  {
   "cell_type": "code",
   "execution_count": 106,
   "metadata": {},
   "outputs": [
    {
     "data": {
      "image/png": "[encoded data removed]",
      "text/plain": [
       "<Figure size 432x288 with 1 Axes>"
      ]
     },
     "metadata": {
      "needs_background": "light"
     },
     "output_type": "display_data"
    }
   ],
   "source": [
    "N100=200\n",
    "plt.plot(data_w.index[1:N100],data_w['diff1_l'][1:N100],'--k',label ='логарифм по ряду')\n",
    "plt.plot(data_w.index[1:N100],data_w['diff1_d'][1:N100],'--g',label ='относительные разности')\n",
    "plt.legend()\n",
    "plt.show()"
   ]
  },
  {
   "cell_type": "markdown",
   "metadata": {},
   "source": [
    "Для определения разумных интервалов имеет смысл вспомнить результаты анализа ряда в статистических моделях. Период сезонных колебаний 52 недельный цикл. Это позволит не строить все возможные сочетания параметров модели, а сократить их число до относительно небольшого подмножества. Посмотрим на примере экспоненциальных средних в диапазоне alpha = [0.3, 0.8] "
   ]
  },
  {
   "cell_type": "code",
   "execution_count": 107,
   "metadata": {},
   "outputs": [
    {
     "data": {
      "image/png": "[encoded data removed]",
      "text/plain": [
       "<Figure size 432x288 with 1 Axes>"
      ]
     },
     "metadata": {
      "needs_background": "light"
     },
     "output_type": "display_data"
    }
   ],
   "source": [
    "data_w['exp_0_01'] = exponential_smoothing(data_w['PJME_MW'], 0.01)\n",
    "data_w['exp_0_03'] = exponential_smoothing(data_w['PJME_MW'], 0.03)\n",
    "data_w['exp_0_04'] = exponential_smoothing(data_w['PJME_MW'], 0.04)\n",
    "data_w['exp_0_03'] = exponential_smoothing(data_w['PJME_MW'], 0.05)\n",
    "data_w['exp_0_06'] = exponential_smoothing(data_w['PJME_MW'], 0.06)\n",
    "data_w['exp_0_08'] = exponential_smoothing(data_w['PJME_MW'], 0.08)\n",
    "\n",
    "N100=52\n",
    "plt.plot(data_w.index[:N100],data_w['PJME_MW'][:N100],'r',label ='основной ряд',alpha=0.3)\n",
    "plt.plot(data_w.index[:N100],data_w['exp_0_01'][:N100],'--g',label ='экспонентциальное среднее')\n",
    "plt.plot(data_w.index[:N100],data_w['exp_0_05'][:N100],'--b',label ='экспонентциальное среднее')\n",
    "plt.plot(data_w.index[:N100],data_w['exp_0_08'][:N100],'--k',label ='экспонентциальное среднее')\n",
    "plt.legend()\n",
    "plt.title('PJME MW')\n",
    "plt.show()"
   ]
  },
  {
   "cell_type": "markdown",
   "metadata": {},
   "source": [
    "Добавим истории длиной p в признаках автокорреляции, аналогично добавляем первые разности на глубину p"
   ]
  },
  {
   "cell_type": "code",
   "execution_count": 108,
   "metadata": {},
   "outputs": [],
   "source": [
    "p = 13\n",
    "for i in range(p):\n",
    "    data_w['t'+str(p-i)]=0\n",
    "    data_w['t'+str(p-i)].values[p:] = data_w['PJME_MW'].values[i:-(p)+i]\n",
    "for i in range(p):\n",
    "    data_w['d'+str(p-i)]=0\n",
    "    data_w['d'+str(p-i)].values[p:] = data_w['diff1'].values[i:-(p)+i]"
   ]
  },
  {
   "cell_type": "code",
   "execution_count": 109,
   "metadata": {},
   "outputs": [
    {
     "data": {
      "text/html": [
       "<div>\n",
       "<style scoped>\n",
       "    .dataframe tbody tr th:only-of-type {\n",
       "        vertical-align: middle;\n",
       "    }\n",
       "\n",
       "    .dataframe tbody tr th {\n",
       "        vertical-align: top;\n",
       "    }\n",
       "\n",
       "    .dataframe thead th {\n",
       "        text-align: right;\n",
       "    }\n",
       "</style>\n",
       "<table border=\"1\" class=\"dataframe\">\n",
       "  <thead>\n",
       "    <tr style=\"text-align: right;\">\n",
       "      <th></th>\n",
       "      <th>PJME_MW</th>\n",
       "      <th>month</th>\n",
       "      <th>dayofmonth</th>\n",
       "      <th>quarter</th>\n",
       "      <th>dayofyear</th>\n",
       "      <th>weekofyear</th>\n",
       "      <th>claster_feat</th>\n",
       "      <th>pca1</th>\n",
       "      <th>pca2</th>\n",
       "      <th>diff1</th>\n",
       "      <th>...</th>\n",
       "      <th>d10</th>\n",
       "      <th>d9</th>\n",
       "      <th>d8</th>\n",
       "      <th>d7</th>\n",
       "      <th>d6</th>\n",
       "      <th>d5</th>\n",
       "      <th>d4</th>\n",
       "      <th>d3</th>\n",
       "      <th>d2</th>\n",
       "      <th>d1</th>\n",
       "    </tr>\n",
       "    <tr>\n",
       "      <th>Date</th>\n",
       "      <th></th>\n",
       "      <th></th>\n",
       "      <th></th>\n",
       "      <th></th>\n",
       "      <th></th>\n",
       "      <th></th>\n",
       "      <th></th>\n",
       "      <th></th>\n",
       "      <th></th>\n",
       "      <th></th>\n",
       "      <th></th>\n",
       "      <th></th>\n",
       "      <th></th>\n",
       "      <th></th>\n",
       "      <th></th>\n",
       "      <th></th>\n",
       "      <th></th>\n",
       "      <th></th>\n",
       "      <th></th>\n",
       "      <th></th>\n",
       "      <th></th>\n",
       "    </tr>\n",
       "  </thead>\n",
       "  <tbody>\n",
       "    <tr>\n",
       "      <th>2018-06-03</th>\n",
       "      <td>30945.601190</td>\n",
       "      <td>5.428571</td>\n",
       "      <td>17.714286</td>\n",
       "      <td>2.000000</td>\n",
       "      <td>151.000000</td>\n",
       "      <td>22.0</td>\n",
       "      <td>1</td>\n",
       "      <td>-0.579480</td>\n",
       "      <td>0.314349</td>\n",
       "      <td>563.208313</td>\n",
       "      <td>...</td>\n",
       "      <td>-641</td>\n",
       "      <td>-2980</td>\n",
       "      <td>910</td>\n",
       "      <td>-1162</td>\n",
       "      <td>42</td>\n",
       "      <td>-2200</td>\n",
       "      <td>2588</td>\n",
       "      <td>-1531</td>\n",
       "      <td>1238</td>\n",
       "      <td>2528</td>\n",
       "    </tr>\n",
       "    <tr>\n",
       "      <th>2018-06-10</th>\n",
       "      <td>28615.154762</td>\n",
       "      <td>6.000000</td>\n",
       "      <td>7.000000</td>\n",
       "      <td>2.000000</td>\n",
       "      <td>158.000000</td>\n",
       "      <td>23.0</td>\n",
       "      <td>1</td>\n",
       "      <td>-0.493596</td>\n",
       "      <td>-1.257823</td>\n",
       "      <td>-2330.446533</td>\n",
       "      <td>...</td>\n",
       "      <td>-2980</td>\n",
       "      <td>910</td>\n",
       "      <td>-1162</td>\n",
       "      <td>42</td>\n",
       "      <td>-2200</td>\n",
       "      <td>2588</td>\n",
       "      <td>-1531</td>\n",
       "      <td>1238</td>\n",
       "      <td>2528</td>\n",
       "      <td>563</td>\n",
       "    </tr>\n",
       "    <tr>\n",
       "      <th>2018-06-17</th>\n",
       "      <td>30316.940476</td>\n",
       "      <td>6.000000</td>\n",
       "      <td>14.000000</td>\n",
       "      <td>2.000000</td>\n",
       "      <td>165.000000</td>\n",
       "      <td>24.0</td>\n",
       "      <td>1</td>\n",
       "      <td>-0.420843</td>\n",
       "      <td>-0.232507</td>\n",
       "      <td>1701.785767</td>\n",
       "      <td>...</td>\n",
       "      <td>910</td>\n",
       "      <td>-1162</td>\n",
       "      <td>42</td>\n",
       "      <td>-2200</td>\n",
       "      <td>2588</td>\n",
       "      <td>-1531</td>\n",
       "      <td>1238</td>\n",
       "      <td>2528</td>\n",
       "      <td>563</td>\n",
       "      <td>-2330</td>\n",
       "    </tr>\n",
       "    <tr>\n",
       "      <th>2018-06-24</th>\n",
       "      <td>34711.648810</td>\n",
       "      <td>6.000000</td>\n",
       "      <td>21.000000</td>\n",
       "      <td>2.000000</td>\n",
       "      <td>172.000000</td>\n",
       "      <td>25.0</td>\n",
       "      <td>1</td>\n",
       "      <td>-0.348090</td>\n",
       "      <td>0.792809</td>\n",
       "      <td>4394.708496</td>\n",
       "      <td>...</td>\n",
       "      <td>-1162</td>\n",
       "      <td>42</td>\n",
       "      <td>-2200</td>\n",
       "      <td>2588</td>\n",
       "      <td>-1531</td>\n",
       "      <td>1238</td>\n",
       "      <td>2528</td>\n",
       "      <td>563</td>\n",
       "      <td>-2330</td>\n",
       "      <td>1701</td>\n",
       "    </tr>\n",
       "    <tr>\n",
       "      <th>2018-07-01</th>\n",
       "      <td>35911.839286</td>\n",
       "      <td>6.142857</td>\n",
       "      <td>23.714286</td>\n",
       "      <td>2.142857</td>\n",
       "      <td>179.000000</td>\n",
       "      <td>26.0</td>\n",
       "      <td>1</td>\n",
       "      <td>-0.196725</td>\n",
       "      <td>1.184480</td>\n",
       "      <td>1200.190430</td>\n",
       "      <td>...</td>\n",
       "      <td>42</td>\n",
       "      <td>-2200</td>\n",
       "      <td>2588</td>\n",
       "      <td>-1531</td>\n",
       "      <td>1238</td>\n",
       "      <td>2528</td>\n",
       "      <td>563</td>\n",
       "      <td>-2330</td>\n",
       "      <td>1701</td>\n",
       "      <td>4394</td>\n",
       "    </tr>\n",
       "    <tr>\n",
       "      <th>2018-07-08</th>\n",
       "      <td>38459.982143</td>\n",
       "      <td>7.000000</td>\n",
       "      <td>5.000000</td>\n",
       "      <td>3.000000</td>\n",
       "      <td>186.000000</td>\n",
       "      <td>27.0</td>\n",
       "      <td>2</td>\n",
       "      <td>0.347692</td>\n",
       "      <td>-1.592072</td>\n",
       "      <td>2548.142822</td>\n",
       "      <td>...</td>\n",
       "      <td>-2200</td>\n",
       "      <td>2588</td>\n",
       "      <td>-1531</td>\n",
       "      <td>1238</td>\n",
       "      <td>2528</td>\n",
       "      <td>563</td>\n",
       "      <td>-2330</td>\n",
       "      <td>1701</td>\n",
       "      <td>4394</td>\n",
       "      <td>1200</td>\n",
       "    </tr>\n",
       "    <tr>\n",
       "      <th>2018-07-15</th>\n",
       "      <td>36420.035714</td>\n",
       "      <td>7.000000</td>\n",
       "      <td>12.000000</td>\n",
       "      <td>3.000000</td>\n",
       "      <td>193.000000</td>\n",
       "      <td>28.0</td>\n",
       "      <td>2</td>\n",
       "      <td>0.420446</td>\n",
       "      <td>-0.566756</td>\n",
       "      <td>-2039.946411</td>\n",
       "      <td>...</td>\n",
       "      <td>2588</td>\n",
       "      <td>-1531</td>\n",
       "      <td>1238</td>\n",
       "      <td>2528</td>\n",
       "      <td>563</td>\n",
       "      <td>-2330</td>\n",
       "      <td>1701</td>\n",
       "      <td>4394</td>\n",
       "      <td>1200</td>\n",
       "      <td>2548</td>\n",
       "    </tr>\n",
       "    <tr>\n",
       "      <th>2018-07-22</th>\n",
       "      <td>35612.095238</td>\n",
       "      <td>7.000000</td>\n",
       "      <td>19.000000</td>\n",
       "      <td>3.000000</td>\n",
       "      <td>200.000000</td>\n",
       "      <td>29.0</td>\n",
       "      <td>2</td>\n",
       "      <td>0.493199</td>\n",
       "      <td>0.458560</td>\n",
       "      <td>-807.940491</td>\n",
       "      <td>...</td>\n",
       "      <td>-1531</td>\n",
       "      <td>1238</td>\n",
       "      <td>2528</td>\n",
       "      <td>563</td>\n",
       "      <td>-2330</td>\n",
       "      <td>1701</td>\n",
       "      <td>4394</td>\n",
       "      <td>1200</td>\n",
       "      <td>2548</td>\n",
       "      <td>-2039</td>\n",
       "    </tr>\n",
       "    <tr>\n",
       "      <th>2018-07-29</th>\n",
       "      <td>36581.821429</td>\n",
       "      <td>7.000000</td>\n",
       "      <td>26.000000</td>\n",
       "      <td>3.000000</td>\n",
       "      <td>207.000000</td>\n",
       "      <td>30.0</td>\n",
       "      <td>2</td>\n",
       "      <td>0.565953</td>\n",
       "      <td>1.483876</td>\n",
       "      <td>969.726196</td>\n",
       "      <td>...</td>\n",
       "      <td>1238</td>\n",
       "      <td>2528</td>\n",
       "      <td>563</td>\n",
       "      <td>-2330</td>\n",
       "      <td>1701</td>\n",
       "      <td>4394</td>\n",
       "      <td>1200</td>\n",
       "      <td>2548</td>\n",
       "      <td>-2039</td>\n",
       "      <td>-807</td>\n",
       "    </tr>\n",
       "    <tr>\n",
       "      <th>2018-08-05</th>\n",
       "      <td>36568.804124</td>\n",
       "      <td>7.505155</td>\n",
       "      <td>15.865979</td>\n",
       "      <td>3.000000</td>\n",
       "      <td>212.525773</td>\n",
       "      <td>31.0</td>\n",
       "      <td>2</td>\n",
       "      <td>0.634991</td>\n",
       "      <td>-0.002977</td>\n",
       "      <td>-13.017304</td>\n",
       "      <td>...</td>\n",
       "      <td>2528</td>\n",
       "      <td>563</td>\n",
       "      <td>-2330</td>\n",
       "      <td>1701</td>\n",
       "      <td>4394</td>\n",
       "      <td>1200</td>\n",
       "      <td>2548</td>\n",
       "      <td>-2039</td>\n",
       "      <td>-807</td>\n",
       "      <td>969</td>\n",
       "    </tr>\n",
       "  </tbody>\n",
       "</table>\n",
       "<p>10 rows × 46 columns</p>\n",
       "</div>"
      ],
      "text/plain": [
       "                 PJME_MW     month  dayofmonth   quarter   dayofyear  \\\n",
       "Date                                                                   \n",
       "2018-06-03  30945.601190  5.428571   17.714286  2.000000  151.000000   \n",
       "2018-06-10  28615.154762  6.000000    7.000000  2.000000  158.000000   \n",
       "2018-06-17  30316.940476  6.000000   14.000000  2.000000  165.000000   \n",
       "2018-06-24  34711.648810  6.000000   21.000000  2.000000  172.000000   \n",
       "2018-07-01  35911.839286  6.142857   23.714286  2.142857  179.000000   \n",
       "2018-07-08  38459.982143  7.000000    5.000000  3.000000  186.000000   \n",
       "2018-07-15  36420.035714  7.000000   12.000000  3.000000  193.000000   \n",
       "2018-07-22  35612.095238  7.000000   19.000000  3.000000  200.000000   \n",
       "2018-07-29  36581.821429  7.000000   26.000000  3.000000  207.000000   \n",
       "2018-08-05  36568.804124  7.505155   15.865979  3.000000  212.525773   \n",
       "\n",
       "            weekofyear  claster_feat      pca1      pca2        diff1  ...  \\\n",
       "Date                                                                   ...   \n",
       "2018-06-03        22.0             1 -0.579480  0.314349   563.208313  ...   \n",
       "2018-06-10        23.0             1 -0.493596 -1.257823 -2330.446533  ...   \n",
       "2018-06-17        24.0             1 -0.420843 -0.232507  1701.785767  ...   \n",
       "2018-06-24        25.0             1 -0.348090  0.792809  4394.708496  ...   \n",
       "2018-07-01        26.0             1 -0.196725  1.184480  1200.190430  ...   \n",
       "2018-07-08        27.0             2  0.347692 -1.592072  2548.142822  ...   \n",
       "2018-07-15        28.0             2  0.420446 -0.566756 -2039.946411  ...   \n",
       "2018-07-22        29.0             2  0.493199  0.458560  -807.940491  ...   \n",
       "2018-07-29        30.0             2  0.565953  1.483876   969.726196  ...   \n",
       "2018-08-05        31.0             2  0.634991 -0.002977   -13.017304  ...   \n",
       "\n",
       "             d10    d9    d8    d7    d6    d5    d4    d3    d2    d1  \n",
       "Date                                                                    \n",
       "2018-06-03  -641 -2980   910 -1162    42 -2200  2588 -1531  1238  2528  \n",
       "2018-06-10 -2980   910 -1162    42 -2200  2588 -1531  1238  2528   563  \n",
       "2018-06-17   910 -1162    42 -2200  2588 -1531  1238  2528   563 -2330  \n",
       "2018-06-24 -1162    42 -2200  2588 -1531  1238  2528   563 -2330  1701  \n",
       "2018-07-01    42 -2200  2588 -1531  1238  2528   563 -2330  1701  4394  \n",
       "2018-07-08 -2200  2588 -1531  1238  2528   563 -2330  1701  4394  1200  \n",
       "2018-07-15  2588 -1531  1238  2528   563 -2330  1701  4394  1200  2548  \n",
       "2018-07-22 -1531  1238  2528   563 -2330  1701  4394  1200  2548 -2039  \n",
       "2018-07-29  1238  2528   563 -2330  1701  4394  1200  2548 -2039  -807  \n",
       "2018-08-05  2528   563 -2330  1701  4394  1200  2548 -2039  -807   969  \n",
       "\n",
       "[10 rows x 46 columns]"
      ]
     },
     "execution_count": 109,
     "metadata": {},
     "output_type": "execute_result"
    }
   ],
   "source": [
    "data_w.tail(10)"
   ]
  },
  {
   "cell_type": "code",
   "execution_count": 110,
   "metadata": {},
   "outputs": [
    {
     "name": "stdout",
     "output_type": "stream",
     "text": [
      "<class 'pandas.core.frame.DataFrame'>\n",
      "DatetimeIndex: 866 entries, 2002-01-06 to 2018-08-05\n",
      "Freq: W-SUN\n",
      "Data columns (total 46 columns):\n",
      "PJME_MW         866 non-null float64\n",
      "month           866 non-null float64\n",
      "dayofmonth      866 non-null float64\n",
      "quarter         866 non-null float64\n",
      "dayofyear       866 non-null float64\n",
      "weekofyear      866 non-null float64\n",
      "claster_feat    866 non-null int64\n",
      "pca1            866 non-null float64\n",
      "pca2            866 non-null float64\n",
      "diff1           866 non-null float64\n",
      "diff1_d         866 non-null float64\n",
      "diff1_l         866 non-null float64\n",
      "d_w4            863 non-null float64\n",
      "d_w13           854 non-null float64\n",
      "exp_0_05        866 non-null float64\n",
      "exp_0_01        866 non-null float64\n",
      "exp_0_03        866 non-null float64\n",
      "exp_0_04        866 non-null float64\n",
      "exp_0_06        866 non-null float64\n",
      "exp_0_08        866 non-null float64\n",
      "t13             866 non-null int64\n",
      "t12             866 non-null int64\n",
      "t11             866 non-null int64\n",
      "t10             866 non-null int64\n",
      "t9              866 non-null int64\n",
      "t8              866 non-null int64\n",
      "t7              866 non-null int64\n",
      "t6              866 non-null int64\n",
      "t5              866 non-null int64\n",
      "t4              866 non-null int64\n",
      "t3              866 non-null int64\n",
      "t2              866 non-null int64\n",
      "t1              866 non-null int64\n",
      "d13             866 non-null int64\n",
      "d12             866 non-null int64\n",
      "d11             866 non-null int64\n",
      "d10             866 non-null int64\n",
      "d9              866 non-null int64\n",
      "d8              866 non-null int64\n",
      "d7              866 non-null int64\n",
      "d6              866 non-null int64\n",
      "d5              866 non-null int64\n",
      "d4              866 non-null int64\n",
      "d3              866 non-null int64\n",
      "d2              866 non-null int64\n",
      "d1              866 non-null int64\n",
      "dtypes: float64(19), int64(27)\n",
      "memory usage: 358.0 KB\n"
     ]
    }
   ],
   "source": [
    "data_w.fillna(0)\n",
    "data_w.info()"
   ]
  },
  {
   "cell_type": "markdown",
   "metadata": {},
   "source": [
    "## Выделение существенных признаков\n",
    "Запишем итоговую систему признаков и проведем ее анализ. Горизонт прогнозирования h = 1, тогда target = y(t+h)=y(t+1) "
   ]
  },
  {
   "cell_type": "code",
   "execution_count": 111,
   "metadata": {},
   "outputs": [
    {
     "data": {
      "text/plain": [
       "(852, 1)"
      ]
     },
     "execution_count": 111,
     "metadata": {},
     "output_type": "execute_result"
    }
   ],
   "source": [
    "scl_target=StandardScaler() \n",
    "# p = 7\n",
    "h=1\n",
    "target = data_w['PJME_MW'].values[h+p:].reshape((data_w.shape[0]-h-p,1))\n",
    "y = scl_target.fit_transform(target)\n",
    "y.shape"
   ]
  },
  {
   "cell_type": "markdown",
   "metadata": {},
   "source": [
    "Входной набор признаков берем из нашей таблицы. Необходимо помнить, что у нас есть интегральные признаки (для календаря), которые связаны с базовыми признаками. Обычно такие признаки рассматривают отдельно. Однако для эксперимента оставим все признаки для процедуры селекции.\n"
   ]
  },
  {
   "cell_type": "code",
   "execution_count": 112,
   "metadata": {},
   "outputs": [
    {
     "data": {
      "text/plain": [
       "(852, 46)"
      ]
     },
     "execution_count": 112,
     "metadata": {},
     "output_type": "execute_result"
    }
   ],
   "source": [
    "scl_x=StandardScaler() \n",
    "\n",
    "X = data_w.iloc[p:-h,:].values\n",
    "X = scl_x.fit_transform(X.astype('float64'))\n",
    "X.shape"
   ]
  },
  {
   "cell_type": "markdown",
   "metadata": {},
   "source": [
    "Есть признаки хорошие, а есть признаки плохие. Применим механизмы  селекции признаков для нашей модели. \n",
    "Рассмотрим механизмы селекции специфичные для регрессий и доступные из scikit-learn. Это два основных способа селекции: \n",
    "- построим или применим метрику взвешивающую связь признака и целевого свойства,\n",
    "- проведем предварительное обучение и проверим влиятельность признаков по результатам такого обучения.\n",
    "\n",
    "Такое решение задачи селекции признаков поддерживается через SelectKBest (отбираем k лучших признаков), SelectPercentile (отбираем заданный процент признаков) и SelectFromModel, соответственно(https://scikit-learn.org/stable/modules/feature_selection.html#univariate-feature-selection). Посмотрим на результаты оценки нашей системы признаков."
   ]
  },
  {
   "cell_type": "code",
   "execution_count": 113,
   "metadata": {},
   "outputs": [
    {
     "name": "stdout",
     "output_type": "stream",
     "text": [
      "F-test=0.97,  I=0\n",
      "F-test=0.00,  I=1\n",
      "F-test=0.00,  I=2\n",
      "F-test=0.00,  I=3\n",
      "F-test=0.00,  I=4\n",
      "F-test=0.00,  I=5\n",
      "F-test=0.00,  I=6\n",
      "F-test=0.00,  I=7\n",
      "F-test=0.00,  I=8\n",
      "F-test=0.02,  I=9\n",
      "F-test=0.01,  I=10\n",
      "F-test=1.00,  I=11\n",
      "F-test=0.58,  I=12\n",
      "F-test=0.00,  I=13\n",
      "F-test=0.02,  I=14\n",
      "F-test=0.01,  I=15\n",
      "F-test=0.02,  I=16\n",
      "F-test=0.02,  I=17\n",
      "F-test=0.03,  I=18\n",
      "F-test=0.05,  I=19\n",
      "F-test=0.27,  I=20\n",
      "F-test=0.29,  I=21\n",
      "F-test=0.27,  I=22\n",
      "F-test=0.19,  I=23\n",
      "F-test=0.12,  I=24\n",
      "F-test=0.06,  I=25\n",
      "F-test=0.01,  I=26\n",
      "F-test=0.00,  I=27\n",
      "F-test=0.02,  I=28\n",
      "F-test=0.07,  I=29\n",
      "F-test=0.15,  I=30\n",
      "F-test=0.30,  I=31\n",
      "F-test=0.51,  I=32\n",
      "F-test=0.00,  I=33\n",
      "F-test=0.00,  I=34\n",
      "F-test=0.00,  I=35\n",
      "F-test=0.01,  I=36\n",
      "F-test=0.01,  I=37\n",
      "F-test=0.02,  I=38\n",
      "F-test=0.03,  I=39\n",
      "F-test=0.04,  I=40\n",
      "F-test=0.04,  I=41\n",
      "F-test=0.04,  I=42\n",
      "F-test=0.03,  I=43\n",
      "F-test=0.02,  I=44\n",
      "F-test=0.02,  I=45\n"
     ]
    }
   ],
   "source": [
    "from sklearn.feature_selection import SelectKBest, SelectPercentile\n",
    "from sklearn.feature_selection import SelectFromModel\n",
    "\n",
    "from sklearn.ensemble import GradientBoostingRegressor\n",
    "\n",
    "from sklearn.feature_selection import f_regression, mutual_info_regression\n",
    "\n",
    "f_test, _ = f_regression(X, y.ravel())\n",
    "f_test /= np.max(f_test)\n",
    "for i in range(X.shape[1]):\n",
    "    print(\"F-test={:.2f},  I={}\".format(f_test[i],i))"
   ]
  },
  {
   "cell_type": "markdown",
   "metadata": {},
   "source": [
    "Применим автоматизацию выбора через SelectKBest c выделением  лучших признаков."
   ]
  },
  {
   "cell_type": "code",
   "execution_count": 114,
   "metadata": {},
   "outputs": [
    {
     "data": {
      "text/plain": [
       "(852, 6)"
      ]
     },
     "execution_count": 114,
     "metadata": {},
     "output_type": "execute_result"
    }
   ],
   "source": [
    "sfk =SelectKBest(f_regression, k=6)\n",
    "X_new1 =sfk.fit_transform(X, y.ravel())\n",
    "X_new1.shape"
   ]
  },
  {
   "cell_type": "code",
   "execution_count": 115,
   "metadata": {},
   "outputs": [
    {
     "data": {
      "text/plain": [
       "Index(['PJME_MW', 'diff1_l', 'd_w4', 't12', 't2', 't1'], dtype='object')"
      ]
     },
     "execution_count": 115,
     "metadata": {},
     "output_type": "execute_result"
    }
   ],
   "source": [
    "column_names = data_w.columns[sfk.get_support()]\n",
    "column_names"
   ]
  },
  {
   "cell_type": "markdown",
   "metadata": {},
   "source": [
    "Лучшее множество признаков отделено в X_new1. Проверим результат оценки признаков по процентному отбору и сохраним его в X_new2."
   ]
  },
  {
   "cell_type": "code",
   "execution_count": 116,
   "metadata": {},
   "outputs": [
    {
     "data": {
      "text/plain": [
       "(852, 5)"
      ]
     },
     "execution_count": 116,
     "metadata": {},
     "output_type": "execute_result"
    }
   ],
   "source": [
    "sfp=SelectPercentile(f_regression, percentile=10)\n",
    "X_new2 = sfp.fit_transform(X, y.ravel())\n",
    "X_new2.shape"
   ]
  },
  {
   "cell_type": "code",
   "execution_count": 117,
   "metadata": {},
   "outputs": [
    {
     "data": {
      "text/plain": [
       "Index(['PJME_MW', 'diff1_l', 'd_w4', 't2', 't1'], dtype='object')"
      ]
     },
     "execution_count": 117,
     "metadata": {},
     "output_type": "execute_result"
    }
   ],
   "source": [
    "column_namesp = data_w.columns[sfp.get_support()]\n",
    "column_namesp"
   ]
  },
  {
   "cell_type": "markdown",
   "metadata": {},
   "source": [
    "Наконец, третий вариант - применим выделение признаков через построение модели. Помним, что модель должна уметь выбрать подмножество признаков или вернуть коэффициент их влиятельности. Это ограничивает выбор моделей. Возьмем как оценшик GradientBoostingRegressor и построим новое пространство в X_new3"
   ]
  },
  {
   "cell_type": "code",
   "execution_count": 118,
   "metadata": {},
   "outputs": [
    {
     "data": {
      "text/plain": [
       "(852, 5)"
      ]
     },
     "execution_count": 118,
     "metadata": {},
     "output_type": "execute_result"
    }
   ],
   "source": [
    "gr_model = GradientBoostingRegressor(max_depth=5, random_state=40, n_estimators=100).fit(X, y.ravel())\n",
    "sfm = SelectFromModel(gr_model,  max_features = 5)\n",
    "\n",
    "sfm.fit(X, y.ravel())\n",
    "X_new3 = sfm.transform(X)\n",
    "X_new3.shape"
   ]
  },
  {
   "cell_type": "code",
   "execution_count": 119,
   "metadata": {},
   "outputs": [
    {
     "data": {
      "text/plain": [
       "[array([[ 0.0843064 ,  0.14756469, -0.42482516, -0.53728302, -0.16044304,\n",
       "         -0.28384736],\n",
       "        [ 0.11010632,  0.1736621 , -0.06839591, -1.1227561 , -0.28225851,\n",
       "          0.08699725],\n",
       "        [ 1.78805972,  1.71440918,  0.48089932, -0.94374996,  0.08869086,\n",
       "          0.11275382],\n",
       "        [ 1.63030258,  1.58124532,  1.02006521, -1.22644408,  0.11445471,\n",
       "          1.79068189],\n",
       "        [ 0.56313881,  0.61891189,  1.15475913, -0.14638182,  1.79285677,\n",
       "          1.63289164]]),\n",
       " array([[ 0.0843064 ,  0.14756469, -0.42482516, -0.16044304, -0.28384736],\n",
       "        [ 0.11010632,  0.1736621 , -0.06839591, -0.28225851,  0.08699725],\n",
       "        [ 1.78805972,  1.71440918,  0.48089932,  0.08869086,  0.11275382],\n",
       "        [ 1.63030258,  1.58124532,  1.02006521,  0.11445471,  1.79068189],\n",
       "        [ 0.56313881,  0.61891189,  1.15475913,  1.79285677,  1.63289164]]),\n",
       " array([[ 0.0843064 , -0.27199626,  0.14756469, -1.12010537, -0.1442655 ],\n",
       "        [ 0.11010632, -0.22948867,  0.1736621 , -0.94129325, -1.18918527],\n",
       "        [ 1.78805972, -0.18698108,  1.71440918, -1.22368097, -1.28620638],\n",
       "        [ 1.63030258,  0.17703537,  1.58124532, -0.14478937, -1.12124543],\n",
       "        [ 0.56313881,  0.21954296,  0.61891189, -1.19007532, -1.11648212]])]"
      ]
     },
     "execution_count": 119,
     "metadata": {},
     "output_type": "execute_result"
    }
   ],
   "source": [
    "#Сравним результаты:\n",
    "[X_new1[10:15,:], X_new2[10:15,:],X_new3[10:15,:]]"
   ]
  },
  {
   "cell_type": "code",
   "execution_count": 120,
   "metadata": {},
   "outputs": [
    {
     "name": "stdout",
     "output_type": "stream",
     "text": [
      "Номера признаков k лучших признаков :  [ 0 11 12 21 31 32]\n",
      "Номера признаков лучших признаков по процентной форме:  [ 0 11 12 31 32]\n",
      "Номера признаков для выбора по модели :  [ 0  7 11 22 25]\n"
     ]
    }
   ],
   "source": [
    "list_param_k =np.where(sfk.get_support())[0]\n",
    "list_param_p =np.where(sfp.get_support())[0]\n",
    "list_param_m =np.where(sfm.get_support())[0]\n",
    "\n",
    "print('Номера признаков k лучших признаков : ',list_param_k)\n",
    "print('Номера признаков лучших признаков по процентной форме: ',list_param_p)\n",
    "print('Номера признаков для выбора по модели : ',list_param_m)"
   ]
  },
  {
   "cell_type": "markdown",
   "metadata": {},
   "source": [
    "Очень смущает, что нет признака weekofyear или номера квартала, добавлю weekofyear. Хотя возможно он есть в pca1\n",
    "(Забегая вперед, он улучшил результат предсказания, было 7,11%)"
   ]
  },
  {
   "cell_type": "code",
   "execution_count": 139,
   "metadata": {},
   "outputs": [
    {
     "data": {
      "text/plain": [
       "Index(['PJME_MW', 'weekofyear', 'pca1', 'diff1_l', 'd_w4', 't12', 't11', 't2',\n",
       "       't1'],\n",
       "      dtype='object')"
      ]
     },
     "execution_count": 139,
     "metadata": {},
     "output_type": "execute_result"
    }
   ],
   "source": [
    "''' 0- 'PJME_MW'\n",
    "5- weekofyear\n",
    "7 -pca1\n",
    "11 -diff1_l\n",
    "12 -d_w4\n",
    "\n",
    "'''\n",
    "list_par=[0, 5, 7, 11,12,21, 22, 31, 32]\n",
    "X_new = X[:,list_par]\n",
    "data_w.columns[list_par]\n"
   ]
  },
  {
   "cell_type": "markdown",
   "metadata": {},
   "source": [
    "## Разделение данных на тестовые и тренировочные "
   ]
  },
  {
   "cell_type": "code",
   "execution_count": 140,
   "metadata": {},
   "outputs": [],
   "source": [
    "# сделаем функцию\n",
    "def split_data( data, split_date ):\n",
    "    return data.loc[data.index.get_level_values('Date') <= split_date].copy(), \\\n",
    "           data.loc[data.index.get_level_values('Date') >  split_date].copy()"
   ]
  },
  {
   "cell_type": "code",
   "execution_count": 141,
   "metadata": {},
   "outputs": [
    {
     "data": {
      "image/png": "[encoded data removed]",
      "text/plain": [
       "<Figure size 1080x504 with 1 Axes>"
      ]
     },
     "metadata": {
      "needs_background": "light"
     },
     "output_type": "display_data"
    }
   ],
   "source": [
    "train, test = split_data( data_w, '01-06-2016')\n",
    "\n",
    "plt.figure( figsize=( 15, 7 ))\n",
    "plt.xlabel('Время')\n",
    "plt.ylabel('Потребление энергии, МВт')\n",
    "plt.plot(train.index.get_level_values('Date'),train['PJME_MW'], label='train data' )\n",
    "plt.plot(test.index.get_level_values('Date'),test['PJME_MW'], label='test data')\n",
    "plt.title( 'Тестовые и тренировочные данные' )\n",
    "plt.legend()\n",
    "plt.show()"
   ]
  },
  {
   "cell_type": "code",
   "execution_count": 124,
   "metadata": {},
   "outputs": [
    {
     "data": {
      "text/plain": [
       "array([[-0.94984308, -0.83670123, -0.97322541, ..., -0.22799947,\n",
       "        -0.54089751, -1.12556209],\n",
       "       [-1.23149101, -0.76978398, -1.30694268, ..., -0.36187355,\n",
       "        -1.12421102, -0.94726661],\n",
       "       [-0.15570743, -0.70286673, -0.09927191, ..., -0.73090472,\n",
       "        -0.94586516, -1.22883844],\n",
       "       ...,\n",
       "       [ 1.07850312,  0.10014025,  1.09772806, ..., -1.05430839,\n",
       "         0.95590695,  1.59113098],\n",
       "       [ 0.87646502,  0.1670575 ,  0.91332748, ..., -0.42053747,\n",
       "         1.59324949,  1.0812509 ],\n",
       "       [ 1.11896016,  0.23397474,  1.13416131, ..., -0.27939308,\n",
       "         1.08322537,  0.87919936]])"
      ]
     },
     "execution_count": 124,
     "metadata": {},
     "output_type": "execute_result"
    }
   ],
   "source": [
    "X_new"
   ]
  },
  {
   "cell_type": "code",
   "execution_count": 142,
   "metadata": {},
   "outputs": [],
   "source": [
    "X_train =X_new[:train.shape[0],:]\n",
    "y_train =y[:train.shape[0],0]\n",
    "X_test =X_new[train.shape[0]:,:]\n",
    "y_test =y[train.shape[0]:,0]"
   ]
  },
  {
   "cell_type": "markdown",
   "metadata": {},
   "source": [
    "# Строим Модель\n",
    "При решении задачи на начальном этапе, самый интересный результат был получен на модели GradientBoostingRegressor. Остановимся на построении именно такой формы предсказания. "
   ]
  },
  {
   "cell_type": "code",
   "execution_count": 143,
   "metadata": {},
   "outputs": [
    {
     "data": {
      "text/plain": [
       "GradientBoostingRegressor(alpha=0.9, criterion='friedman_mse', init=None,\n",
       "                          learning_rate=0.1, loss='ls', max_depth=5,\n",
       "                          max_features=None, max_leaf_nodes=None,\n",
       "                          min_impurity_decrease=0.0, min_impurity_split=None,\n",
       "                          min_samples_leaf=1, min_samples_split=2,\n",
       "                          min_weight_fraction_leaf=0.0, n_estimators=100,\n",
       "                          n_iter_no_change=None, presort='auto', random_state=0,\n",
       "                          subsample=1.0, tol=0.0001, validation_fraction=0.1,\n",
       "                          verbose=0, warm_start=False)"
      ]
     },
     "execution_count": 143,
     "metadata": {},
     "output_type": "execute_result"
    }
   ],
   "source": [
    "model_g = GradientBoostingRegressor(max_depth=5, random_state=0, n_estimators=100)\n",
    "model_g.fit( X_train, y_train )"
   ]
  },
  {
   "cell_type": "code",
   "execution_count": 144,
   "metadata": {},
   "outputs": [
    {
     "data": {
      "text/plain": [
       "(121, 9)"
      ]
     },
     "execution_count": 144,
     "metadata": {},
     "output_type": "execute_result"
    }
   ],
   "source": [
    "X_test.shape"
   ]
  },
  {
   "cell_type": "code",
   "execution_count": 42,
   "metadata": {},
   "outputs": [],
   "source": [
    "y_test_pred_g = model_g.predict(X_test)"
   ]
  },
  {
   "cell_type": "code",
   "execution_count": 145,
   "metadata": {},
   "outputs": [
    {
     "data": {
      "image/png": "[encoded data removed]",
      "text/plain": [
       "<Figure size 1080x504 with 1 Axes>"
      ]
     },
     "metadata": {
      "needs_background": "light"
     },
     "output_type": "display_data"
    }
   ],
   "source": [
    "plt.figure( figsize=( 15, 7 ))\n",
    "\n",
    "\n",
    "plt.xlabel('Время')\n",
    "plt.ylabel('Потребление энергии, МВт')\n",
    "plt.plot(test.index[h+p:],y_test_pred_g, label='predict GB data' )\n",
    "plt.plot(test.index[h+p:],y_test, label='test data')\n",
    "\n",
    "plt.legend()\n",
    "plt.show()"
   ]
  },
  {
   "cell_type": "code",
   "execution_count": 44,
   "metadata": {},
   "outputs": [],
   "source": [
    "from sklearn.metrics import mean_squared_error\n",
    "from sklearn.metrics import mean_absolute_error\n",
    "from sklearn.metrics import r2_score"
   ]
  },
  {
   "cell_type": "code",
   "execution_count": 146,
   "metadata": {},
   "outputs": [
    {
     "name": "stdout",
     "output_type": "stream",
     "text": [
      "ошибка mse :   0.4698140424799176 \n",
      "ошибка mae  :   0.5409485041899582 \n",
      "оценка R2 :   0.564232864880414\n"
     ]
    }
   ],
   "source": [
    "er_s = mean_squared_error(y_true=y_test, y_pred=y_test_pred_g) \n",
    "er_a = mean_absolute_error(y_true=y_test, y_pred=y_test_pred_g) \n",
    "er_r2 = r2_score(y_true=y_test, y_pred=y_test_pred_g)\n",
    "\n",
    "print('ошибка mse :  ', er_s,'\\nошибка mae  :  ', er_a,'\\nоценка R2 :  ', er_r2)"
   ]
  },
  {
   "cell_type": "code",
   "execution_count": 147,
   "metadata": {},
   "outputs": [
    {
     "name": "stdout",
     "output_type": "stream",
     "text": [
      "ошибка градиентного бустинга MAPE :   6.8846880957190475 %\n"
     ]
    }
   ],
   "source": [
    "def mean_absolute_percentage_error(y_true, y_pred): \n",
    "    y_true, y_pred = np.array(y_true), np.array(y_pred)\n",
    "    return np.mean(np.abs((y_true - y_pred) / y_true)) * 100\n",
    "\n",
    "er_g = mean_absolute_percentage_error(y_true=scl_target.inverse_transform( y_test),y_pred = scl_target.inverse_transform( y_test_pred_g))\n",
    "\n",
    "print('ошибка градиентного бустинга MAPE :  ', er_g,'%')"
   ]
  },
  {
   "cell_type": "markdown",
   "metadata": {},
   "source": [
    "Ошибка неплоха, но мы имеем дело с маленьким горизонтом прогноза и есть куда улучшать. Построим более точную модель с использованием поиска моделей. Воспользуемся методом поиска "
   ]
  },
  {
   "cell_type": "code",
   "execution_count": 148,
   "metadata": {},
   "outputs": [
    {
     "name": "stdout",
     "output_type": "stream",
     "text": [
      "Model with rank: 1\n",
      "Mean validation score: 0.697 (std: 0.058)\n",
      "Parameters: {'n_estimators': 500, 'max_depth': 1}\n",
      "\n",
      "Model with rank: 2\n",
      "Mean validation score: 0.692 (std: 0.064)\n",
      "Parameters: {'n_estimators': 100, 'max_depth': 2}\n",
      "\n",
      "Model with rank: 3\n",
      "Mean validation score: 0.690 (std: 0.066)\n",
      "Parameters: {'n_estimators': 100, 'max_depth': 3}\n",
      "\n"
     ]
    }
   ],
   "source": [
    "from sklearn.model_selection import RandomizedSearchCV\n",
    "\n",
    "def report(results, n_top=3):\n",
    "    for i in range(1, n_top + 1):\n",
    "        candidates = np.flatnonzero(results['rank_test_score'] == i)\n",
    "        for candidate in candidates:\n",
    "            print(\"Model with rank: {0}\".format(i))\n",
    "            print(\"Mean validation score: {0:.3f} (std: {1:.3f})\".format(\n",
    "                  results['mean_test_score'][candidate],\n",
    "                  results['std_test_score'][candidate]))\n",
    "            print(\"Parameters: {0}\".format(results['params'][candidate]))\n",
    "            print(\"\")\n",
    "\n",
    "param_dist = {\"max_depth\": [3, 2,1,4,5], \n",
    "              \"n_estimators\":[100,200,300,400,500]}\n",
    "\n",
    "#  randomized search\n",
    "n_iter_search = 10\n",
    "\n",
    "model_gr =GradientBoostingRegressor()\n",
    "\n",
    "random_search = RandomizedSearchCV(model_gr, param_distributions=param_dist, n_iter=n_iter_search, cv=5, iid=False)\n",
    "\n",
    "random_search.fit(X_train, y_train)\n",
    "\n",
    "report(random_search.cv_results_)"
   ]
  },
  {
   "cell_type": "code",
   "execution_count": 152,
   "metadata": {},
   "outputs": [
    {
     "name": "stdout",
     "output_type": "stream",
     "text": [
      "ошибка градиентного бустинга MAPE :   6.553675907103878 %\n"
     ]
    }
   ],
   "source": [
    "model_g_best = GradientBoostingRegressor(max_depth=1,  n_estimators=300)\n",
    "model_g_best.fit( X_train, y_train ) \n",
    "y_test_pred_g = model_g_best.predict(X_test)\n",
    "\n",
    "er_g = mean_absolute_percentage_error(y_true=scl_target.inverse_transform( y_test),y_pred = scl_target.inverse_transform( y_test_pred_g))\n",
    "print('ошибка градиентного бустинга MAPE :  ', er_g,'%')"
   ]
  },
  {
   "cell_type": "code",
   "execution_count": 49,
   "metadata": {},
   "outputs": [],
   "source": [
    "import pickle\n",
    "# save the model to disk\n",
    "filename = 'final_model.sav'\n",
    "pickle.dump(model_g_best, open(filename, 'wb'))\n",
    "\n",
    "filename = 'final_scaler_y.sav'\n",
    "pickle.dump(scl_target, open(filename, 'wb'))\n",
    "\n",
    "filename = 'final_scaler_x.sav'\n",
    "pickle.dump(scl_x, open(filename, 'wb'))"
   ]
  },
  {
   "cell_type": "markdown",
   "metadata": {},
   "source": [
    "Качество решения задачи по MAPE стала хуже. Однако и усилий приложено немного."
   ]
  },
  {
   "cell_type": "code",
   "execution_count": 50,
   "metadata": {},
   "outputs": [
    {
     "data": {
      "text/plain": [
       "array([-0.80833689, -0.83670123, -0.81053707, -1.31927054,  0.24326407,\n",
       "        1.20069026,  1.03828887, -1.37959827, -1.40438322])"
      ]
     },
     "execution_count": 50,
     "metadata": {},
     "output_type": "execute_result"
    }
   ],
   "source": [
    "X_test_200 = X_test.copy()\n",
    "X_test_200[0]"
   ]
  },
  {
   "cell_type": "markdown",
   "metadata": {},
   "source": [
    "## Использование модели для предсказания n*h моментов времени\n",
    "Мы построили короткий прогноз, но его можно продолжить на следующие точки ряда. Для этого будем использовать результаты прогноза для следующего шага.  Необходимо заменять X_test[t+i, 0] = y_test[t+i-1] и продолжить моделирование в новом состоянии. Сделаем прогноз на 4ую неделю."
   ]
  },
  {
   "cell_type": "code",
   "execution_count": 153,
   "metadata": {},
   "outputs": [
    {
     "name": "stdout",
     "output_type": "stream",
     "text": [
      "<class 'pandas.core.frame.DataFrame'>\n",
      "DatetimeIndex: 866 entries, 2002-01-06 to 2018-08-05\n",
      "Freq: W-SUN\n",
      "Data columns (total 46 columns):\n",
      "PJME_MW         866 non-null float64\n",
      "month           866 non-null float64\n",
      "dayofmonth      866 non-null float64\n",
      "quarter         866 non-null float64\n",
      "dayofyear       866 non-null float64\n",
      "weekofyear      866 non-null float64\n",
      "claster_feat    866 non-null int64\n",
      "pca1            866 non-null float64\n",
      "pca2            866 non-null float64\n",
      "diff1           866 non-null float64\n",
      "diff1_d         866 non-null float64\n",
      "diff1_l         866 non-null float64\n",
      "d_w4            863 non-null float64\n",
      "d_w13           854 non-null float64\n",
      "exp_0_05        866 non-null float64\n",
      "exp_0_01        866 non-null float64\n",
      "exp_0_03        866 non-null float64\n",
      "exp_0_04        866 non-null float64\n",
      "exp_0_06        866 non-null float64\n",
      "exp_0_08        866 non-null float64\n",
      "t13             866 non-null int64\n",
      "t12             866 non-null int64\n",
      "t11             866 non-null int64\n",
      "t10             866 non-null int64\n",
      "t9              866 non-null int64\n",
      "t8              866 non-null int64\n",
      "t7              866 non-null int64\n",
      "t6              866 non-null int64\n",
      "t5              866 non-null int64\n",
      "t4              866 non-null int64\n",
      "t3              866 non-null int64\n",
      "t2              866 non-null int64\n",
      "t1              866 non-null int64\n",
      "d13             866 non-null int64\n",
      "d12             866 non-null int64\n",
      "d11             866 non-null int64\n",
      "d10             866 non-null int64\n",
      "d9              866 non-null int64\n",
      "d8              866 non-null int64\n",
      "d7              866 non-null int64\n",
      "d6              866 non-null int64\n",
      "d5              866 non-null int64\n",
      "d4              866 non-null int64\n",
      "d3              866 non-null int64\n",
      "d2              866 non-null int64\n",
      "d1              866 non-null int64\n",
      "dtypes: float64(19), int64(27)\n",
      "memory usage: 358.0 KB\n"
     ]
    }
   ],
   "source": [
    "data_w.info()"
   ]
  },
  {
   "cell_type": "code",
   "execution_count": 154,
   "metadata": {},
   "outputs": [
    {
     "data": {
      "image/png": "[encoded data removed]",
      "text/plain": [
       "<Figure size 1080x504 with 1 Axes>"
      ]
     },
     "metadata": {
      "needs_background": "light"
     },
     "output_type": "display_data"
    }
   ],
   "source": [
    "#'PJME_MW', 'weekofyear', 'pca1', 'diff1_l', 'd_w4', 't12', 't11', 't2', 't1']\n",
    "X_test_100 = X_test.copy()\n",
    "y_test_100 = y_test_pred_g.copy()\n",
    "N10 = 4\n",
    "for i in range(N10):   \n",
    "    \n",
    "    y_test_100[i] = model_g_best.predict(X_test_100[i,:].reshape((1,9)))\n",
    "    #Восстанавливаем не масштабированное значение ряда\n",
    "    y_i = scl_target.inverse_transform(y_test_100[i:i+1])\n",
    "    # заполняем вектор для прогноза следующей точки\n",
    "    X_test_100[i+1,0] = (y_i-scl_x.mean_[0]/scl_x.scale_[0])\n",
    "    #X_test_100[i+1,0] = y_test_100[i]\n",
    "    #X_test_100[i+1,6] = X_test_100[i+1,0]*(1-0.08)+ 0.08 * X_test_100[i,6] \n",
    "    #X_test_100[i+1,5] = X_test_100[i+1,0]*(1-0.07)+ 0.07 * X_test_100[i,5] \n",
    "    #Строим d_w4 - признак с индексом 4\n",
    "    if i>p:\n",
    "        X_test_100[i+1,4] = np.mean(X_test_100[i+1-p:i+1,0]) \n",
    "    #Строим diff1_l - признак с индексом 3\n",
    "    #строим логарифм по значению ряда и скалируем признак по схеме 11го признака из основного списка\n",
    "    xy_i = (np.log((y_i))-scl_x.mean_[11])*scl_x.scale_[11]\n",
    "    #новое значение для 3\n",
    "    X_test_100[i+1,3] = xy_i \n",
    "    #X_test_100[i+1,3] = 0 #np.log( scl_target.inverse_transform(y_test_100[i:i+1]))\n",
    "    \n",
    "    \n",
    "    \n",
    "plt.figure( figsize=( 15, 7 ))\n",
    "\n",
    "\n",
    "plt.xlabel('Время')\n",
    "plt.ylabel('Потребление энергии, МВт')\n",
    "plt.plot(test.index[1:N10+1],y_test_pred_g[:N10], 'r',label='predict GB data' )\n",
    "plt.plot(test.index[1:N10+1],y_test[:N10], 'g',label='test data', alpha=0.5)\n",
    "plt.plot(test.index[1:N10+1],y_test_100[:N10], '--r',label='slide predict data')\n",
    "\n",
    "plt.legend()\n",
    "plt.show()  "
   ]
  },
  {
   "cell_type": "code",
   "execution_count": 155,
   "metadata": {},
   "outputs": [
    {
     "name": "stdout",
     "output_type": "stream",
     "text": [
      "ошибка градиентного бустинга MAPE :   20.663941223404212 %\n"
     ]
    }
   ],
   "source": [
    "er_g = mean_absolute_percentage_error(y_true=scl_target.inverse_transform( y_test[:N10]),y_pred = scl_target.inverse_transform( y_test_100[:N10]))\n",
    "print('ошибка градиентного бустинга MAPE :  ', er_g,'%')"
   ]
  },
  {
   "cell_type": "code",
   "execution_count": null,
   "metadata": {},
   "outputs": [],
   "source": []
  }
 ],
 "metadata": {
  "kernelspec": {
   "display_name": "Python 3",
   "language": "python",
   "name": "python3"
  },
  "language_info": {
   "codemirror_mode": {
    "name": "ipython",
    "version": 3
   },
   "file_extension": ".py",
   "mimetype": "text/x-python",
   "name": "python",
   "nbconvert_exporter": "python",
   "pygments_lexer": "ipython3",
   "version": "3.7.1"
  }
 },
 "nbformat": 4,
 "nbformat_minor": 2
}
