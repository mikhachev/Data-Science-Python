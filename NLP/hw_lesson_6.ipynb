{
 "cells": [
  {
   "cell_type": "markdown",
   "metadata": {},
   "source": [
    "# Рекурентные сети для обработки последовательностей"
   ]
  },
  {
   "cell_type": "markdown",
   "metadata": {},
   "source": [
    "#### ДЗ 6. Провести сравнение RNN, LSTM, GRU на датасете отзывов (из предыдущих занятий/материалов)"
   ]
  },
  {
   "cell_type": "code",
   "execution_count": 13,
   "metadata": {},
   "outputs": [],
   "source": [
    "import pandas as pd\n",
    "import numpy as np\n",
    "import seaborn as sns\n",
    "from matplotlib import pyplot as plt\n",
    "import datetime\n",
    "from stop_words import get_stop_words\n",
    "from string import punctuation\n",
    "from pymorphy2 import MorphAnalyzer\n",
    "from nltk.tokenize import word_tokenize\n",
    "import regex as re\n",
    "from sklearn.model_selection import train_test_split\n",
    "from sklearn.metrics import roc_auc_score\n",
    "from nltk.probability import FreqDist\n",
    "import random\n",
    "import tensorflow as tf\n",
    "from tensorflow import keras\n",
    "from tensorflow.keras.models import Sequential, Model\n",
    "from tensorflow.keras.layers import Dense, Dropout, Activation, Input, Embedding, Conv1D, GlobalMaxPool1D, SimpleRNN , LSTM, GRU, Masking\n",
    "from tensorflow.keras.callbacks import TensorBoard \n",
    "from tensorflow.keras.preprocessing.text import Tokenizer\n",
    "from tensorflow.keras.preprocessing.sequence import pad_sequences\n",
    "#from keras.objectives import categorical_crossentropy\n",
    "from tensorflow.keras.callbacks import EarlyStopping \n",
    "from gensim.models import Word2Vec\n",
    "import multiprocessing\n"
   ]
  },
  {
   "cell_type": "code",
   "execution_count": 15,
   "metadata": {},
   "outputs": [],
   "source": [
    "seed = 1234\n",
    "random.seed(seed)\n",
    "np.random.seed(seed)\n",
    "tf.random.set_seed(seed)\n",
    "\n",
    "# Constants\n",
    "max_words = 2000\n",
    "max_len = 50\n",
    "epochs = 20\n",
    "batch_size = 4096\n",
    "vec_len = 10\n",
    "num_cl = 2\n",
    "\n",
    "sw = set(get_stop_words(\"ru\"))\n",
    "exclude = set(punctuation)\n",
    "morpher = MorphAnalyzer()\n",
    "\n",
    "# Load data\n",
    "rev_df = pd.read_excel('./data/отзывы за лето.xls', parse_dates=[2])\n",
    "\n",
    "# Specify fields under focus \n",
    "TARGET = 'target'\n",
    "PROCESSED = 'preprocessed'"
   ]
  },
  {
   "cell_type": "code",
   "execution_count": 16,
   "metadata": {},
   "outputs": [
    {
     "data": {
      "text/html": [
       "<div>\n",
       "<style scoped>\n",
       "    .dataframe tbody tr th:only-of-type {\n",
       "        vertical-align: middle;\n",
       "    }\n",
       "\n",
       "    .dataframe tbody tr th {\n",
       "        vertical-align: top;\n",
       "    }\n",
       "\n",
       "    .dataframe thead th {\n",
       "        text-align: right;\n",
       "    }\n",
       "</style>\n",
       "<table border=\"1\" class=\"dataframe\">\n",
       "  <thead>\n",
       "    <tr style=\"text-align: right;\">\n",
       "      <th></th>\n",
       "      <th>Rating</th>\n",
       "      <th>Content</th>\n",
       "      <th>Date</th>\n",
       "    </tr>\n",
       "  </thead>\n",
       "  <tbody>\n",
       "    <tr>\n",
       "      <th>0</th>\n",
       "      <td>5</td>\n",
       "      <td>It just works!</td>\n",
       "      <td>2017-08-14</td>\n",
       "    </tr>\n",
       "    <tr>\n",
       "      <th>1</th>\n",
       "      <td>4</td>\n",
       "      <td>В целом удобноное приложение...из минусов хотя...</td>\n",
       "      <td>2017-08-14</td>\n",
       "    </tr>\n",
       "    <tr>\n",
       "      <th>2</th>\n",
       "      <td>5</td>\n",
       "      <td>Отлично все</td>\n",
       "      <td>2017-08-14</td>\n",
       "    </tr>\n",
       "    <tr>\n",
       "      <th>3</th>\n",
       "      <td>5</td>\n",
       "      <td>Стал зависать на 1% работы антивируса. Дальше ...</td>\n",
       "      <td>2017-08-14</td>\n",
       "    </tr>\n",
       "    <tr>\n",
       "      <th>4</th>\n",
       "      <td>5</td>\n",
       "      <td>Очень удобно, работает быстро.</td>\n",
       "      <td>2017-08-14</td>\n",
       "    </tr>\n",
       "    <tr>\n",
       "      <th>...</th>\n",
       "      <td>...</td>\n",
       "      <td>...</td>\n",
       "      <td>...</td>\n",
       "    </tr>\n",
       "    <tr>\n",
       "      <th>20654</th>\n",
       "      <td>1</td>\n",
       "      <td>Ну и шляпа,с роот правами бесполезная прога,ра...</td>\n",
       "      <td>2017-06-01</td>\n",
       "    </tr>\n",
       "    <tr>\n",
       "      <th>20655</th>\n",
       "      <td>5</td>\n",
       "      <td>Ок</td>\n",
       "      <td>2017-06-01</td>\n",
       "    </tr>\n",
       "    <tr>\n",
       "      <th>20656</th>\n",
       "      <td>4</td>\n",
       "      <td>Доволен</td>\n",
       "      <td>2017-06-01</td>\n",
       "    </tr>\n",
       "    <tr>\n",
       "      <th>20657</th>\n",
       "      <td>1</td>\n",
       "      <td>Песопаснасть, рут ни нужын</td>\n",
       "      <td>2017-06-01</td>\n",
       "    </tr>\n",
       "    <tr>\n",
       "      <th>20658</th>\n",
       "      <td>5</td>\n",
       "      <td>Сбербанк бомбовая компания на сегодняшний день...</td>\n",
       "      <td>2017-06-01</td>\n",
       "    </tr>\n",
       "  </tbody>\n",
       "</table>\n",
       "<p>20659 rows × 3 columns</p>\n",
       "</div>"
      ],
      "text/plain": [
       "       Rating                                            Content       Date\n",
       "0           5                                     It just works! 2017-08-14\n",
       "1           4  В целом удобноное приложение...из минусов хотя... 2017-08-14\n",
       "2           5                                        Отлично все 2017-08-14\n",
       "3           5  Стал зависать на 1% работы антивируса. Дальше ... 2017-08-14\n",
       "4           5                     Очень удобно, работает быстро. 2017-08-14\n",
       "...       ...                                                ...        ...\n",
       "20654       1  Ну и шляпа,с роот правами бесполезная прога,ра... 2017-06-01\n",
       "20655       5                                                 Ок 2017-06-01\n",
       "20656       4                                            Доволен 2017-06-01\n",
       "20657       1                         Песопаснасть, рут ни нужын 2017-06-01\n",
       "20658       5  Сбербанк бомбовая компания на сегодняшний день... 2017-06-01\n",
       "\n",
       "[20659 rows x 3 columns]"
      ]
     },
     "execution_count": 16,
     "metadata": {},
     "output_type": "execute_result"
    }
   ],
   "source": [
    "rev_df"
   ]
  },
  {
   "cell_type": "code",
   "execution_count": 17,
   "metadata": {},
   "outputs": [],
   "source": [
    "def preprocess_text(txt):\n",
    "       \n",
    "    txt = str(txt)\n",
    "    txt = re.sub(r'( )+', \" \", re.sub(r'[^\\w\\s]', \" \", txt)).strip()\n",
    "    txt = \"\".join(c for c in txt if c not in exclude)\n",
    "    txt = txt.lower()\n",
    "    txt = [morpher.parse(word)[0].normal_form for word in txt.split() if word not in sw]\n",
    "    txt = \" \".join(txt)\n",
    "    txt = re.sub(\"\\sне\", \"не\", txt)\n",
    "    return txt\n",
    "\n",
    "\n",
    "def get_splits(data):\n",
    "    \n",
    "    #Разделение датасета на 3 сплита\n",
    "        \n",
    "    print(f\"Preparing splits...\", end=\" \")\n",
    "    \n",
    "    # Split dataset on 3 folds\n",
    "    train, test = train_test_split(data, test_size=0.6, shuffle=True, random_state=seed)\n",
    "    valid, test = train_test_split(test, test_size=0.5, shuffle=True, random_state=seed)\n",
    "    \n",
    "    return train, valid, test   \n",
    "\n",
    "\n",
    "def prepare_data(df: pd.DataFrame,\n",
    "                 n_classes: int,\n",
    "                 processed_field: str = PROCESSED,\n",
    "                 target_field: str = TARGET) -> pd.DataFrame:\n",
    "    \n",
    "    assert n_classes in [2,5], 'Bad Number of classes'\n",
    "    \n",
    "    print(f\"Data preparing...\", end=\"\")\n",
    "    \n",
    "    \"\"\"\n",
    "    Предобработка данных под тип классификатора. Преобразование таргета для one-hot encoding\n",
    "    Ожидает на вход n_classes: 2 | 5\n",
    "    \"\"\"\n",
    "    \n",
    "    \n",
    "    df[processed_field] = df['Content'].apply(preprocess_text)\n",
    "    \n",
    "    if n_classes == 2:\n",
    "        df = df[df['Rating'] != 3]\n",
    "        df[target_field] = (df['Rating'] > 3).astype('uint8')\n",
    "        \n",
    "    else:\n",
    "        df[target_field] = df['Rating'] - 1\n",
    "    \n",
    "    return df\n"
   ]
  },
  {
   "cell_type": "code",
   "execution_count": 7,
   "metadata": {},
   "outputs": [],
   "source": [
    "def build_train_voc(df_train, processed_field=PROCESSED):\n",
    "    \n",
    "    # Train словарь из выбранных токенов\n",
    "       \n",
    "    \n",
    "    train_corpus = \" \".join(df_train[processed_field])\n",
    "   \n",
    "    tokens = word_tokenize(train_corpus)\n",
    "    \n",
    "    tokens_filtered = [word for word in tokens if word.isalnum()]\n",
    "    dist = FreqDist(tokens_filtered)\n",
    "    tokens_filtered_top = [pair[0] for pair in dist.most_common(max_words-1)]\n",
    "    \n",
    "    print('Top-10 filtered tokens:', tokens_filtered_top[:10])\n",
    "    \n",
    "    vocabulary = {v: k for k, v in dict(enumerate(tokens_filtered_top, 1)).items()}\n",
    "    \n",
    "    return vocabulary\n",
    "\n",
    "\n",
    "def text_to_sequence(text, maxlen):\n",
    "              \n",
    "    result = []\n",
    "    tokens = word_tokenize(text.lower())\n",
    "    tokens_filtered = [word for word in tokens if word.isalnum()]\n",
    "    for word in tokens_filtered:\n",
    "        if word in vocabulary:\n",
    "            result.append(vocabulary[word])\n",
    "    padding = [0]*(maxlen-len(result))\n",
    "    return padding + result[-maxlen:]\n",
    "\n",
    "\n",
    "\n",
    "def plot_history(history):\n",
    "    \n",
    "    #Потери и точность модели  \n",
    "        \n",
    "    fig, ax = plt.subplots(1,2, figsize=(16,4))\n",
    "\n",
    "    ax[0].plot(history.history['loss'], label='train loss')\n",
    "    ax[0].plot(history.history['val_loss'], label='validation loss')\n",
    "    ax[0].set_xlabel('Epochs')\n",
    "    ax[0].set_ylabel('Loss')\n",
    "    ax[0].legend()\n",
    "\n",
    "    ax[1].plot(history.history['accuracy'], label='train accuracy')\n",
    "    ax[1].plot(history.history['val_accuracy'], label='validation accuracy')\n",
    "    ax[1].set_xlabel('Epochs')\n",
    "    ax[1].set_ylabel('Accuracy')\n",
    "    ax[1].legend()\n",
    "\n",
    "    plt.show()"
   ]
  },
  {
   "cell_type": "code",
   "execution_count": 41,
   "metadata": {},
   "outputs": [],
   "source": [
    "def model_run(memory_cells_type: callable,\n",
    "                num_cl: int,\n",
    "                max_words: int,\n",
    "                train_len: int\n",
    "               ):\n",
    "    \n",
    "    \"\"\"\n",
    "    Построение рекурентной модели    \n",
    "    num_cl   Количество классов модели\n",
    "    max_words Максимальное количество слов в текстовой последовательности\n",
    "    max_len   Длина вектора последовательностей\n",
    "        \n",
    "    \"\"\"\n",
    "    model = Sequential()\n",
    "\n",
    "    model.add(\n",
    "        Embedding(input_dim=max_words,\n",
    "                  input_length=train_len,\n",
    "                  output_dim=30,\n",
    "                  trainable=True,\n",
    "                  mask_zero=True))\n",
    "    model.add(Masking(mask_value=0.0))\n",
    "\n",
    "    model.add(memory_cells_type(64))\n",
    "    model.add(Dense(64, activation='tanh'))\n",
    "    model.add(Dropout(0.3))\n",
    "    model.add(Dense(1, activation='sigmoid'))\n",
    "\n",
    "    model.compile(\n",
    "        optimizer='adam', loss='binary_crossentropy', metrics=['accuracy'])\n",
    "    \n",
    "    print(\"Done. Model Summary:\")\n",
    "    print(model.summary())\n",
    "    \n",
    "    return model"
   ]
  },
  {
   "cell_type": "code",
   "execution_count": 18,
   "metadata": {},
   "outputs": [
    {
     "name": "stdout",
     "output_type": "stream",
     "text": [
      "Data preparing..."
     ]
    },
    {
     "name": "stderr",
     "output_type": "stream",
     "text": [
      "<ipython-input-17-2d1895234f80>:45: SettingWithCopyWarning: \n",
      "A value is trying to be set on a copy of a slice from a DataFrame.\n",
      "Try using .loc[row_indexer,col_indexer] = value instead\n",
      "\n",
      "See the caveats in the documentation: https://pandas.pydata.org/pandas-docs/stable/user_guide/indexing.html#returning-a-view-versus-a-copy\n",
      "  df[target_field] = (df['Rating'] > 3).astype('uint8')\n"
     ]
    },
    {
     "name": "stdout",
     "output_type": "stream",
     "text": [
      "Preparing splits... "
     ]
    }
   ],
   "source": [
    "data = prepare_data(df = rev_df, n_classes = num_cl)\n",
    "df_train, df_val, df_test = get_splits(data)\n",
    "\n",
    "\n",
    "text_train = df_train[PROCESSED].values\n",
    "text_valid = df_val[PROCESSED].values\n",
    "text_test = df_test[PROCESSED].values\n",
    "\n",
    "tokenizer = Tokenizer(num_words=None, \n",
    "                      lower = False,\n",
    "                      split = ' ')\n",
    "tokenizer.fit_on_texts(text_train)\n",
    "\n",
    "sequences_train = tokenizer.texts_to_sequences(text_train)\n",
    "sequences_val = tokenizer.texts_to_sequences(text_valid)\n",
    "sequences_test = tokenizer.texts_to_sequences(text_test)\n",
    "\n",
    "word_cnt = len(tokenizer.index_word) + 1\n",
    "training_length = max([len(i.split()) for i in text_train])\n",
    "\n",
    "X_train = pad_sequences(sequences_train, maxlen=training_length)\n",
    "X_valid = pad_sequences(sequences_val, maxlen=training_length)\n",
    "X_test = pad_sequences(sequences_test, maxlen=training_length)\n",
    "\n",
    "y_train = df_train[TARGET].values\n",
    "y_val = df_val[TARGET].values\n",
    "y_test = df_test[TARGET].values"
   ]
  },
  {
   "cell_type": "code",
   "execution_count": 42,
   "metadata": {},
   "outputs": [
    {
     "name": "stdout",
     "output_type": "stream",
     "text": [
      "Done. Model Summary:\n",
      "Model: \"sequential_8\"\n",
      "_________________________________________________________________\n",
      "Layer (type)                 Output Shape              Param #   \n",
      "=================================================================\n",
      "embedding_8 (Embedding)      (None, 91, 30)            153120    \n",
      "_________________________________________________________________\n",
      "masking_8 (Masking)          (None, 91, 30)            0         \n",
      "_________________________________________________________________\n",
      "simple_rnn_6 (SimpleRNN)     (None, 64)                6080      \n",
      "_________________________________________________________________\n",
      "dense_14 (Dense)             (None, 64)                4160      \n",
      "_________________________________________________________________\n",
      "dropout_7 (Dropout)          (None, 64)                0         \n",
      "_________________________________________________________________\n",
      "dense_15 (Dense)             (None, 1)                 65        \n",
      "=================================================================\n",
      "Total params: 163,425\n",
      "Trainable params: 163,425\n",
      "Non-trainable params: 0\n",
      "_________________________________________________________________\n",
      "None\n"
     ]
    }
   ],
   "source": [
    "model_RNN = model_run(memory_cells_type=SimpleRNN,\n",
    "                    num_cl=num_cl,\n",
    "                    max_words=word_cnt,\n",
    "                    train_len=training_length)"
   ]
  },
  {
   "cell_type": "code",
   "execution_count": 43,
   "metadata": {},
   "outputs": [
    {
     "name": "stdout",
     "output_type": "stream",
     "text": [
      "Epoch 1/20\n",
      "2/2 [==============================] - 1s 298ms/step - loss: 0.6160 - accuracy: 0.7995 - val_loss: 0.5053 - val_accuracy: 0.8392\n",
      "Epoch 2/20\n",
      "2/2 [==============================] - 0s 196ms/step - loss: 0.4825 - accuracy: 0.8481 - val_loss: 0.4362 - val_accuracy: 0.8373\n",
      "Epoch 3/20\n",
      "2/2 [==============================] - 0s 204ms/step - loss: 0.4251 - accuracy: 0.8455 - val_loss: 0.4384 - val_accuracy: 0.8373\n"
     ]
    }
   ],
   "source": [
    "early_stopping=EarlyStopping(monitor='val_loss')  \n",
    "\n",
    "\n",
    "history = model_RNN.fit(X_train, y_train,\n",
    "                    batch_size=batch_size,\n",
    "                    epochs=epochs,\n",
    "                    verbose=1,\n",
    "                    validation_split=0.2,\n",
    "                    callbacks=[early_stopping])"
   ]
  },
  {
   "cell_type": "code",
   "execution_count": 55,
   "metadata": {},
   "outputs": [
    {
     "name": "stdout",
     "output_type": "stream",
     "text": [
      "12/12 [==============================] - 0s 33ms/step - loss: 0.4298 - accuracy: 0.8420\n",
      "\n",
      "\n",
      "Test score: 0.42980125546455383\n",
      "Test accuracy: 0.8419986367225647\n"
     ]
    }
   ],
   "source": [
    "score_RNN = model_RNN.evaluate(X_valid, y_val, batch_size=512, verbose=1)\n",
    "print('\\n')\n",
    "print('Test score:', score_RNN[0])\n",
    "print('Test accuracy:', score_RNN[1])"
   ]
  },
  {
   "cell_type": "markdown",
   "metadata": {},
   "source": [
    "## LSTM"
   ]
  },
  {
   "cell_type": "code",
   "execution_count": 45,
   "metadata": {},
   "outputs": [
    {
     "name": "stdout",
     "output_type": "stream",
     "text": [
      "Done. Model Summary:\n",
      "Model: \"sequential_9\"\n",
      "_________________________________________________________________\n",
      "Layer (type)                 Output Shape              Param #   \n",
      "=================================================================\n",
      "embedding_9 (Embedding)      (None, 91, 30)            153120    \n",
      "_________________________________________________________________\n",
      "masking_9 (Masking)          (None, 91, 30)            0         \n",
      "_________________________________________________________________\n",
      "lstm_1 (LSTM)                (None, 64)                24320     \n",
      "_________________________________________________________________\n",
      "dense_16 (Dense)             (None, 64)                4160      \n",
      "_________________________________________________________________\n",
      "dropout_8 (Dropout)          (None, 64)                0         \n",
      "_________________________________________________________________\n",
      "dense_17 (Dense)             (None, 1)                 65        \n",
      "=================================================================\n",
      "Total params: 181,665\n",
      "Trainable params: 181,665\n",
      "Non-trainable params: 0\n",
      "_________________________________________________________________\n",
      "None\n"
     ]
    }
   ],
   "source": [
    "model_LSTM = model_run(memory_cells_type=LSTM,\n",
    "                    num_cl=num_cl,\n",
    "                    max_words=word_cnt,\n",
    "                    train_len=training_length)"
   ]
  },
  {
   "cell_type": "code",
   "execution_count": 46,
   "metadata": {},
   "outputs": [
    {
     "name": "stdout",
     "output_type": "stream",
     "text": [
      "Epoch 1/20\n",
      "2/2 [==============================] - 2s 1s/step - loss: 0.6855 - accuracy: 0.7213 - val_loss: 0.6607 - val_accuracy: 0.8373\n",
      "Epoch 2/20\n",
      "2/2 [==============================] - 1s 535ms/step - loss: 0.6544 - accuracy: 0.8455 - val_loss: 0.6273 - val_accuracy: 0.8373\n",
      "Epoch 3/20\n",
      "2/2 [==============================] - 1s 525ms/step - loss: 0.6187 - accuracy: 0.8455 - val_loss: 0.5842 - val_accuracy: 0.8373\n",
      "Epoch 4/20\n",
      "2/2 [==============================] - 1s 556ms/step - loss: 0.5718 - accuracy: 0.8455 - val_loss: 0.5239 - val_accuracy: 0.8373\n",
      "Epoch 5/20\n",
      "2/2 [==============================] - 1s 534ms/step - loss: 0.5056 - accuracy: 0.8455 - val_loss: 0.4431 - val_accuracy: 0.8373\n",
      "Epoch 6/20\n",
      "2/2 [==============================] - 1s 571ms/step - loss: 0.4217 - accuracy: 0.8455 - val_loss: 0.4131 - val_accuracy: 0.8373\n",
      "Epoch 7/20\n",
      "2/2 [==============================] - 1s 581ms/step - loss: 0.4024 - accuracy: 0.8455 - val_loss: 0.4437 - val_accuracy: 0.8373\n"
     ]
    }
   ],
   "source": [
    "early_stopping=EarlyStopping(monitor='val_loss')  \n",
    "\n",
    "history = model_LSTM.fit(X_train, y_train,\n",
    "                    batch_size=batch_size,\n",
    "                    epochs=epochs,\n",
    "                    verbose=1,\n",
    "                    validation_split=0.2,\n",
    "                    callbacks=[early_stopping])"
   ]
  },
  {
   "cell_type": "code",
   "execution_count": 57,
   "metadata": {},
   "outputs": [
    {
     "name": "stdout",
     "output_type": "stream",
     "text": [
      "12/12 [==============================] - 1s 84ms/step - loss: 0.4343 - accuracy: 0.8420\n",
      "\n",
      "\n",
      "Test score: 0.4343211352825165\n",
      "Test accuracy: 0.8419986367225647\n"
     ]
    }
   ],
   "source": [
    "score_LSTM = model_LSTM.evaluate(X_valid, y_val, batch_size=512, verbose=1)\n",
    "print('\\n')\n",
    "print('Test score:', score_LSTM[0])\n",
    "print('Test accuracy:', score_LSTM[1])"
   ]
  },
  {
   "cell_type": "markdown",
   "metadata": {},
   "source": [
    "## GRU"
   ]
  },
  {
   "cell_type": "code",
   "execution_count": 47,
   "metadata": {},
   "outputs": [
    {
     "name": "stdout",
     "output_type": "stream",
     "text": [
      "Done. Model Summary:\n",
      "Model: \"sequential_10\"\n",
      "_________________________________________________________________\n",
      "Layer (type)                 Output Shape              Param #   \n",
      "=================================================================\n",
      "embedding_10 (Embedding)     (None, 91, 30)            153120    \n",
      "_________________________________________________________________\n",
      "masking_10 (Masking)         (None, 91, 30)            0         \n",
      "_________________________________________________________________\n",
      "gru (GRU)                    (None, 64)                18432     \n",
      "_________________________________________________________________\n",
      "dense_18 (Dense)             (None, 64)                4160      \n",
      "_________________________________________________________________\n",
      "dropout_9 (Dropout)          (None, 64)                0         \n",
      "_________________________________________________________________\n",
      "dense_19 (Dense)             (None, 1)                 65        \n",
      "=================================================================\n",
      "Total params: 175,777\n",
      "Trainable params: 175,777\n",
      "Non-trainable params: 0\n",
      "_________________________________________________________________\n",
      "None\n"
     ]
    }
   ],
   "source": [
    "model_GRU = model_run(memory_cells_type=GRU,\n",
    "                    num_cl=num_cl,\n",
    "                    max_words=word_cnt,\n",
    "                    train_len=training_length)"
   ]
  },
  {
   "cell_type": "code",
   "execution_count": 48,
   "metadata": {},
   "outputs": [
    {
     "name": "stdout",
     "output_type": "stream",
     "text": [
      "Epoch 1/20\n",
      "2/2 [==============================] - 2s 1s/step - loss: 0.6969 - accuracy: 0.4217 - val_loss: 0.6747 - val_accuracy: 0.8329\n",
      "Epoch 2/20\n",
      "2/2 [==============================] - 1s 628ms/step - loss: 0.6684 - accuracy: 0.8446 - val_loss: 0.6480 - val_accuracy: 0.8329\n",
      "Epoch 3/20\n",
      "2/2 [==============================] - 1s 576ms/step - loss: 0.6413 - accuracy: 0.8451 - val_loss: 0.6195 - val_accuracy: 0.8329\n",
      "Epoch 4/20\n",
      "2/2 [==============================] - 1s 592ms/step - loss: 0.6108 - accuracy: 0.8451 - val_loss: 0.5871 - val_accuracy: 0.8329\n",
      "Epoch 5/20\n",
      "2/2 [==============================] - 1s 568ms/step - loss: 0.5762 - accuracy: 0.8451 - val_loss: 0.5494 - val_accuracy: 0.8329\n",
      "Epoch 6/20\n",
      "2/2 [==============================] - 1s 597ms/step - loss: 0.5364 - accuracy: 0.8451 - val_loss: 0.5064 - val_accuracy: 0.8329\n",
      "Epoch 7/20\n",
      "2/2 [==============================] - 1s 558ms/step - loss: 0.4906 - accuracy: 0.8451 - val_loss: 0.4602 - val_accuracy: 0.8329\n",
      "Epoch 8/20\n",
      "2/2 [==============================] - 1s 565ms/step - loss: 0.4412 - accuracy: 0.8451 - val_loss: 0.4165 - val_accuracy: 0.8329\n",
      "Epoch 9/20\n",
      "2/2 [==============================] - 1s 604ms/step - loss: 0.3955 - accuracy: 0.8451 - val_loss: 0.3881 - val_accuracy: 0.8329\n",
      "Epoch 10/20\n",
      "2/2 [==============================] - 1s 566ms/step - loss: 0.3663 - accuracy: 0.8451 - val_loss: 0.3928 - val_accuracy: 0.8329\n"
     ]
    }
   ],
   "source": [
    "early_stopping=EarlyStopping(monitor='val_loss')  \n",
    "\n",
    "\n",
    "history = model_GRU.fit(X_train, y_train,\n",
    "                    batch_size=batch_size,\n",
    "                    epochs=epochs,\n",
    "                    verbose=1,\n",
    "                    validation_split=0.1,\n",
    "                    callbacks=[early_stopping])"
   ]
  },
  {
   "cell_type": "code",
   "execution_count": 58,
   "metadata": {},
   "outputs": [
    {
     "name": "stdout",
     "output_type": "stream",
     "text": [
      "12/12 [==============================] - 1s 65ms/step - loss: 0.3792 - accuracy: 0.8420\n",
      "\n",
      "\n",
      "Test score: 0.37918421626091003\n",
      "Test accuracy: 0.8419986367225647\n"
     ]
    }
   ],
   "source": [
    "score_GRU = model_GRU.evaluate(X_valid, y_val, batch_size=512, verbose=1)\n",
    "print('\\n')\n",
    "print('Test score:', score_GRU[0])\n",
    "print('Test accuracy:', score_GRU[1])"
   ]
  },
  {
   "cell_type": "markdown",
   "metadata": {},
   "source": [
    "## Сравнение результатов"
   ]
  },
  {
   "cell_type": "code",
   "execution_count": 60,
   "metadata": {},
   "outputs": [
    {
     "name": "stdout",
     "output_type": "stream",
     "text": [
      "Test score: 0.822\n",
      "CPU times: user 2.45 s, sys: 262 ms, total: 2.71 s\n",
      "Wall time: 1.01 s\n"
     ]
    }
   ],
   "source": [
    "%%time\n",
    "\n",
    "src = model_RNN.predict(X_test)\n",
    "print(f'Test score: {round(roc_auc_score(y_test, src),3)}')"
   ]
  },
  {
   "cell_type": "code",
   "execution_count": 61,
   "metadata": {},
   "outputs": [
    {
     "name": "stdout",
     "output_type": "stream",
     "text": [
      "Test score: 0.885\n",
      "CPU times: user 6.49 s, sys: 448 ms, total: 6.94 s\n",
      "Wall time: 3.48 s\n"
     ]
    }
   ],
   "source": [
    "%%time\n",
    "\n",
    "src = model_LSTM.predict(X_test)\n",
    "print(f'Test score: {round(roc_auc_score(y_test, src),3)}')"
   ]
  },
  {
   "cell_type": "code",
   "execution_count": 62,
   "metadata": {},
   "outputs": [
    {
     "name": "stdout",
     "output_type": "stream",
     "text": [
      "Test score: 0.899\n",
      "CPU times: user 4.9 s, sys: 284 ms, total: 5.18 s\n",
      "Wall time: 2.57 s\n"
     ]
    }
   ],
   "source": [
    "%%time\n",
    "\n",
    "src = model_GRU.predict(X_test)\n",
    "print(f'Test score: {round(roc_auc_score(y_test, src),3)}')"
   ]
  },
  {
   "cell_type": "markdown",
   "metadata": {},
   "source": [
    "Самый быстрый и неточный RNN, лучший GRU, при этом не такой медленный как LSTM"
   ]
  },
  {
   "cell_type": "code",
   "execution_count": null,
   "metadata": {},
   "outputs": [],
   "source": []
  }
 ],
 "metadata": {
  "kernelspec": {
   "display_name": "Python 3",
   "language": "python",
   "name": "python3"
  },
  "language_info": {
   "codemirror_mode": {
    "name": "ipython",
    "version": 3
   },
   "file_extension": ".py",
   "mimetype": "text/x-python",
   "name": "python",
   "nbconvert_exporter": "python",
   "pygments_lexer": "ipython3",
   "version": "3.8.3"
  }
 },
 "nbformat": 4,
 "nbformat_minor": 2
}
