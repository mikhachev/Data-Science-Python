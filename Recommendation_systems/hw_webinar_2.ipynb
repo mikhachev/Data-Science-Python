{
  "nbformat": 4,
  "nbformat_minor": 0,
  "metadata": {
    "kernelspec": {
      "display_name": "Python 3",
      "language": "python",
      "name": "python3"
    },
    "language_info": {
      "codemirror_mode": {
        "name": "ipython",
        "version": 3
      },
      "file_extension": ".py",
      "mimetype": "text/x-python",
      "name": "python",
      "nbconvert_exporter": "python",
      "pygments_lexer": "ipython3",
      "version": "3.7.6"
    },
    "colab": {
      "name": "hw_webinar_2.ipynb",
      "provenance": [],
      "toc_visible": true
    }
  },
  "cells": [
    {
      "cell_type": "code",
      "metadata": {
        "id": "OLqwrQXOW0O9",
        "colab_type": "code",
        "colab": {
          "base_uri": "https://localhost:8080/",
          "height": 274
        },
        "outputId": "754f8770-dc98-4bcc-e9e0-1a7d8cade8ae"
      },
      "source": [
        "!pip install implicit"
      ],
      "execution_count": 1,
      "outputs": [
        {
          "output_type": "stream",
          "text": [
            "Collecting implicit\n",
            "\u001b[?25l  Downloading https://files.pythonhosted.org/packages/5a/d8/6b4f1374ffa2647b72ac76960c71b984c6f3238090359fb419d03827d87a/implicit-0.4.2.tar.gz (1.1MB)\n",
            "\u001b[K     |████████████████████████████████| 1.1MB 2.8MB/s \n",
            "\u001b[?25hRequirement already satisfied: numpy in /usr/local/lib/python3.6/dist-packages (from implicit) (1.18.5)\n",
            "Requirement already satisfied: scipy>=0.16 in /usr/local/lib/python3.6/dist-packages (from implicit) (1.4.1)\n",
            "Requirement already satisfied: tqdm>=4.27 in /usr/local/lib/python3.6/dist-packages (from implicit) (4.41.1)\n",
            "Building wheels for collected packages: implicit\n",
            "\n",
            "  Building wheel for implicit (setup.py) ... \u001b[?25l\u001b[?25hdone\n",
            "  Created wheel for implicit: filename=implicit-0.4.2-cp36-cp36m-linux_x86_64.whl size=3420107 sha256=c8309a723f348646b0cf7178580ff2475b51aace34e337bb9d18fc761a884b53\n",
            "  Stored in directory: /root/.cache/pip/wheels/1b/48/b1/1aebe3acc3afb5589e72d3e7c3ffc3f637dc4721c1a974dff7\n",
            "Successfully built implicit\n",
            "Installing collected packages: implicit\n",
            "Successfully installed implicit-0.4.2\n"
          ],
          "name": "stdout"
        }
      ]
    },
    {
      "cell_type": "code",
      "metadata": {
        "id": "KygSptu9WtGW",
        "colab_type": "code",
        "colab": {}
      },
      "source": [
        "import pandas as pd\n",
        "import numpy as np\n",
        "import matplotlib.pyplot as plt\n",
        "%matplotlib inline\n",
        "\n",
        "# Для работы с матрицами\n",
        "from scipy.sparse import csr_matrix, coo_matrix\n",
        "\n",
        "# Детерминированные алгоритмы\n",
        "from implicit.nearest_neighbours import ItemItemRecommender, CosineRecommender, TFIDFRecommender, BM25Recommender\n",
        "\n",
        "# Метрики\n",
        "from implicit.evaluation import train_test_split\n",
        "from implicit.evaluation import precision_at_k, mean_average_precision_at_k, AUC_at_k, ndcg_at_k"
      ],
      "execution_count": 2,
      "outputs": []
    },
    {
      "cell_type": "code",
      "metadata": {
        "id": "9IfPl5ilaUQ1",
        "colab_type": "code",
        "colab": {
          "base_uri": "https://localhost:8080/",
          "height": 129
        },
        "outputId": "6f938791-e5ad-49b6-c547-5e5fc459a298"
      },
      "source": [
        "from google.colab import drive\n",
        "drive = drive.mount('data', force_remount=True)"
      ],
      "execution_count": 3,
      "outputs": [
        {
          "output_type": "stream",
          "text": [
            "Go to this URL in a browser: https://accounts.google.com/o/oauth2/auth?client_id=947318989803-6bn6qk8qdgf4n4g3pfee6491hc0brc4i.apps.googleusercontent.com&redirect_uri=urn%3aietf%3awg%3aoauth%3a2.0%3aoob&scope=email%20https%3a%2f%2fwww.googleapis.com%2fauth%2fdocs.test%20https%3a%2f%2fwww.googleapis.com%2fauth%2fdrive%20https%3a%2f%2fwww.googleapis.com%2fauth%2fdrive.photos.readonly%20https%3a%2f%2fwww.googleapis.com%2fauth%2fpeopleapi.readonly&response_type=code\n",
            "\n",
            "Enter your authorization code:\n",
            "··········\n",
            "Mounted at data\n"
          ],
          "name": "stdout"
        }
      ]
    },
    {
      "cell_type": "code",
      "metadata": {
        "id": "akSEj81odVfa",
        "colab_type": "code",
        "colab": {
          "base_uri": "https://localhost:8080/",
          "height": 34
        },
        "outputId": "009c5fbe-a4d4-42b8-b48f-fcc9439fed71"
      },
      "source": [
        ""
      ],
      "execution_count": null,
      "outputs": [
        {
          "output_type": "stream",
          "text": [
            "None\n"
          ],
          "name": "stdout"
        }
      ]
    },
    {
      "cell_type": "code",
      "metadata": {
        "id": "qgVniWznWtGi",
        "colab_type": "code",
        "colab": {
          "base_uri": "https://localhost:8080/",
          "height": 112
        },
        "outputId": "ac44f4ed-faec-4178-b2d2-ad0c85ff8e16"
      },
      "source": [
        "\n",
        "#path = drive.GetContentFile('retail_train.csv')\n",
        "data = pd.read_csv('/content/data/My Drive/data/retail_train.csv')\n",
        "data.head(2)"
      ],
      "execution_count": 4,
      "outputs": [
        {
          "output_type": "execute_result",
          "data": {
            "text/html": [
              "<div>\n",
              "<style scoped>\n",
              "    .dataframe tbody tr th:only-of-type {\n",
              "        vertical-align: middle;\n",
              "    }\n",
              "\n",
              "    .dataframe tbody tr th {\n",
              "        vertical-align: top;\n",
              "    }\n",
              "\n",
              "    .dataframe thead th {\n",
              "        text-align: right;\n",
              "    }\n",
              "</style>\n",
              "<table border=\"1\" class=\"dataframe\">\n",
              "  <thead>\n",
              "    <tr style=\"text-align: right;\">\n",
              "      <th></th>\n",
              "      <th>user_id</th>\n",
              "      <th>basket_id</th>\n",
              "      <th>day</th>\n",
              "      <th>item_id</th>\n",
              "      <th>quantity</th>\n",
              "      <th>sales_value</th>\n",
              "      <th>store_id</th>\n",
              "      <th>retail_disc</th>\n",
              "      <th>trans_time</th>\n",
              "      <th>week_no</th>\n",
              "      <th>coupon_disc</th>\n",
              "      <th>coupon_match_disc</th>\n",
              "    </tr>\n",
              "  </thead>\n",
              "  <tbody>\n",
              "    <tr>\n",
              "      <th>0</th>\n",
              "      <td>2375</td>\n",
              "      <td>26984851472</td>\n",
              "      <td>1</td>\n",
              "      <td>1004906</td>\n",
              "      <td>1</td>\n",
              "      <td>1.39</td>\n",
              "      <td>364</td>\n",
              "      <td>-0.6</td>\n",
              "      <td>1631</td>\n",
              "      <td>1</td>\n",
              "      <td>0.0</td>\n",
              "      <td>0.0</td>\n",
              "    </tr>\n",
              "    <tr>\n",
              "      <th>1</th>\n",
              "      <td>2375</td>\n",
              "      <td>26984851472</td>\n",
              "      <td>1</td>\n",
              "      <td>1033142</td>\n",
              "      <td>1</td>\n",
              "      <td>0.82</td>\n",
              "      <td>364</td>\n",
              "      <td>0.0</td>\n",
              "      <td>1631</td>\n",
              "      <td>1</td>\n",
              "      <td>0.0</td>\n",
              "      <td>0.0</td>\n",
              "    </tr>\n",
              "  </tbody>\n",
              "</table>\n",
              "</div>"
            ],
            "text/plain": [
              "   user_id    basket_id  day  ...  week_no  coupon_disc  coupon_match_disc\n",
              "0     2375  26984851472    1  ...        1          0.0                0.0\n",
              "1     2375  26984851472    1  ...        1          0.0                0.0\n",
              "\n",
              "[2 rows x 12 columns]"
            ]
          },
          "metadata": {
            "tags": []
          },
          "execution_count": 4
        }
      ]
    },
    {
      "cell_type": "code",
      "metadata": {
        "id": "eBR10e77WtGu",
        "colab_type": "code",
        "colab": {}
      },
      "source": [
        "test_size_weeks = 3\n",
        "\n",
        "data_train = data[data['week_no'] < data['week_no'].max() - test_size_weeks]\n",
        "data_test = data[data['week_no'] >= data['week_no'].max() - test_size_weeks]"
      ],
      "execution_count": 5,
      "outputs": []
    },
    {
      "cell_type": "code",
      "metadata": {
        "id": "l7CECaJuhuDj",
        "colab_type": "code",
        "colab": {
          "base_uri": "https://localhost:8080/",
          "height": 111
        },
        "outputId": "43eb4e8c-8c11-4d23-dc31-226073313d27"
      },
      "source": [
        "data.tail(2)"
      ],
      "execution_count": null,
      "outputs": [
        {
          "output_type": "execute_result",
          "data": {
            "text/html": [
              "<div>\n",
              "<style scoped>\n",
              "    .dataframe tbody tr th:only-of-type {\n",
              "        vertical-align: middle;\n",
              "    }\n",
              "\n",
              "    .dataframe tbody tr th {\n",
              "        vertical-align: top;\n",
              "    }\n",
              "\n",
              "    .dataframe thead th {\n",
              "        text-align: right;\n",
              "    }\n",
              "</style>\n",
              "<table border=\"1\" class=\"dataframe\">\n",
              "  <thead>\n",
              "    <tr style=\"text-align: right;\">\n",
              "      <th></th>\n",
              "      <th>user_id</th>\n",
              "      <th>basket_id</th>\n",
              "      <th>day</th>\n",
              "      <th>item_id</th>\n",
              "      <th>quantity</th>\n",
              "      <th>sales_value</th>\n",
              "      <th>store_id</th>\n",
              "      <th>retail_disc</th>\n",
              "      <th>trans_time</th>\n",
              "      <th>week_no</th>\n",
              "      <th>coupon_disc</th>\n",
              "      <th>coupon_match_disc</th>\n",
              "    </tr>\n",
              "  </thead>\n",
              "  <tbody>\n",
              "    <tr>\n",
              "      <th>2396802</th>\n",
              "      <td>1167</td>\n",
              "      <td>41656790510</td>\n",
              "      <td>663</td>\n",
              "      <td>6410462</td>\n",
              "      <td>22451</td>\n",
              "      <td>43.98</td>\n",
              "      <td>3385</td>\n",
              "      <td>-0.65</td>\n",
              "      <td>1059</td>\n",
              "      <td>95</td>\n",
              "      <td>0.0</td>\n",
              "      <td>0.0</td>\n",
              "    </tr>\n",
              "    <tr>\n",
              "      <th>2396803</th>\n",
              "      <td>1167</td>\n",
              "      <td>41656790510</td>\n",
              "      <td>663</td>\n",
              "      <td>6430664</td>\n",
              "      <td>1</td>\n",
              "      <td>8.00</td>\n",
              "      <td>3385</td>\n",
              "      <td>0.00</td>\n",
              "      <td>1059</td>\n",
              "      <td>95</td>\n",
              "      <td>0.0</td>\n",
              "      <td>0.0</td>\n",
              "    </tr>\n",
              "  </tbody>\n",
              "</table>\n",
              "</div>"
            ],
            "text/plain": [
              "         user_id    basket_id  day  ...  week_no  coupon_disc  coupon_match_disc\n",
              "2396802     1167  41656790510  663  ...       95          0.0                0.0\n",
              "2396803     1167  41656790510  663  ...       95          0.0                0.0\n",
              "\n",
              "[2 rows x 12 columns]"
            ]
          },
          "metadata": {
            "tags": []
          },
          "execution_count": 64
        }
      ]
    },
    {
      "cell_type": "markdown",
      "metadata": {
        "id": "CP9EI1w1WtG2",
        "colab_type": "text"
      },
      "source": [
        "### Задание 1. Weighted Random Recommendation\n",
        "\n",
        "Напишите код для случайных рекоммендаций, в которых вероятность рекомендовать товар прямо пропорциональна логарифму продаж\n",
        "- Можно сэмплировать товары случайно, но пропорционально какому-либо весу\n",
        "- Например, прямопропорционально популярности. Вес = log(sales_sum товара)"
      ]
    },
    {
      "cell_type": "code",
      "metadata": {
        "id": "pjhPlf2KhxAE",
        "colab_type": "code",
        "colab": {
          "base_uri": "https://localhost:8080/",
          "height": 335
        },
        "outputId": "7cae9daa-6719-4b4a-cc22-d18da636b1c3"
      },
      "source": [
        "popularity = data.groupby('item_id')['sales_value'].sum().reset_index()\n",
        "\n",
        "popularity['sales_sum'] = np.log(popularity.sales_value)\n",
        "popularity['sales_sum']=  popularity['sales_sum'].apply(lambda x: '0.1' if x <0.1 else x).astype(float)\n",
        "popularity['weight'] = popularity.sales_sum/popularity.sales_sum.sum()\n",
        "popularity['weight_sum'] = 0\n",
        "popularity['weight_sum'].iloc[0]= popularity['weight'].iloc[0]\n",
        "for row in range(1, popularity['item_id'].count() ):\n",
        "  popularity['weight_sum'].iloc[row]= popularity['weight'].iloc[row] + popularity['weight_sum'].iloc[row-1]\n",
        "popularity.head()"
      ],
      "execution_count": 6,
      "outputs": [
        {
          "output_type": "stream",
          "text": [
            "/usr/local/lib/python3.6/dist-packages/pandas/core/series.py:679: RuntimeWarning: divide by zero encountered in log\n",
            "  result = getattr(ufunc, method)(*inputs, **kwargs)\n",
            "/usr/local/lib/python3.6/dist-packages/pandas/core/indexing.py:671: SettingWithCopyWarning: \n",
            "A value is trying to be set on a copy of a slice from a DataFrame\n",
            "\n",
            "See the caveats in the documentation: https://pandas.pydata.org/pandas-docs/stable/user_guide/indexing.html#returning-a-view-versus-a-copy\n",
            "  self._setitem_with_indexer(indexer, value)\n"
          ],
          "name": "stderr"
        },
        {
          "output_type": "execute_result",
          "data": {
            "text/html": [
              "<div>\n",
              "<style scoped>\n",
              "    .dataframe tbody tr th:only-of-type {\n",
              "        vertical-align: middle;\n",
              "    }\n",
              "\n",
              "    .dataframe tbody tr th {\n",
              "        vertical-align: top;\n",
              "    }\n",
              "\n",
              "    .dataframe thead th {\n",
              "        text-align: right;\n",
              "    }\n",
              "</style>\n",
              "<table border=\"1\" class=\"dataframe\">\n",
              "  <thead>\n",
              "    <tr style=\"text-align: right;\">\n",
              "      <th></th>\n",
              "      <th>item_id</th>\n",
              "      <th>sales_value</th>\n",
              "      <th>sales_sum</th>\n",
              "      <th>weight</th>\n",
              "      <th>weight_sum</th>\n",
              "    </tr>\n",
              "  </thead>\n",
              "  <tbody>\n",
              "    <tr>\n",
              "      <th>0</th>\n",
              "      <td>25671</td>\n",
              "      <td>20.94</td>\n",
              "      <td>3.041661</td>\n",
              "      <td>1.297448e-05</td>\n",
              "      <td>0.000013</td>\n",
              "    </tr>\n",
              "    <tr>\n",
              "      <th>1</th>\n",
              "      <td>26081</td>\n",
              "      <td>0.99</td>\n",
              "      <td>0.100000</td>\n",
              "      <td>4.265591e-07</td>\n",
              "      <td>0.000013</td>\n",
              "    </tr>\n",
              "    <tr>\n",
              "      <th>2</th>\n",
              "      <td>26093</td>\n",
              "      <td>1.59</td>\n",
              "      <td>0.463734</td>\n",
              "      <td>1.978100e-06</td>\n",
              "      <td>0.000015</td>\n",
              "    </tr>\n",
              "    <tr>\n",
              "      <th>3</th>\n",
              "      <td>26190</td>\n",
              "      <td>1.54</td>\n",
              "      <td>0.431782</td>\n",
              "      <td>1.841807e-06</td>\n",
              "      <td>0.000017</td>\n",
              "    </tr>\n",
              "    <tr>\n",
              "      <th>4</th>\n",
              "      <td>26355</td>\n",
              "      <td>1.98</td>\n",
              "      <td>0.683097</td>\n",
              "      <td>2.913812e-06</td>\n",
              "      <td>0.000020</td>\n",
              "    </tr>\n",
              "  </tbody>\n",
              "</table>\n",
              "</div>"
            ],
            "text/plain": [
              "   item_id  sales_value  sales_sum        weight  weight_sum\n",
              "0    25671        20.94   3.041661  1.297448e-05    0.000013\n",
              "1    26081         0.99   0.100000  4.265591e-07    0.000013\n",
              "2    26093         1.59   0.463734  1.978100e-06    0.000015\n",
              "3    26190         1.54   0.431782  1.841807e-06    0.000017\n",
              "4    26355         1.98   0.683097  2.913812e-06    0.000020"
            ]
          },
          "metadata": {
            "tags": []
          },
          "execution_count": 6
        }
      ]
    },
    {
      "cell_type": "code",
      "metadata": {
        "id": "dZlVoheAOpS2",
        "colab_type": "code",
        "colab": {
          "base_uri": "https://localhost:8080/",
          "height": 424
        },
        "outputId": "aad0131a-9eca-4148-d849-5705218f9788"
      },
      "source": [
        "popularity"
      ],
      "execution_count": 7,
      "outputs": [
        {
          "output_type": "execute_result",
          "data": {
            "text/html": [
              "<div>\n",
              "<style scoped>\n",
              "    .dataframe tbody tr th:only-of-type {\n",
              "        vertical-align: middle;\n",
              "    }\n",
              "\n",
              "    .dataframe tbody tr th {\n",
              "        vertical-align: top;\n",
              "    }\n",
              "\n",
              "    .dataframe thead th {\n",
              "        text-align: right;\n",
              "    }\n",
              "</style>\n",
              "<table border=\"1\" class=\"dataframe\">\n",
              "  <thead>\n",
              "    <tr style=\"text-align: right;\">\n",
              "      <th></th>\n",
              "      <th>item_id</th>\n",
              "      <th>sales_value</th>\n",
              "      <th>sales_sum</th>\n",
              "      <th>weight</th>\n",
              "      <th>weight_sum</th>\n",
              "    </tr>\n",
              "  </thead>\n",
              "  <tbody>\n",
              "    <tr>\n",
              "      <th>0</th>\n",
              "      <td>25671</td>\n",
              "      <td>20.94</td>\n",
              "      <td>3.041661</td>\n",
              "      <td>1.297448e-05</td>\n",
              "      <td>0.000013</td>\n",
              "    </tr>\n",
              "    <tr>\n",
              "      <th>1</th>\n",
              "      <td>26081</td>\n",
              "      <td>0.99</td>\n",
              "      <td>0.100000</td>\n",
              "      <td>4.265591e-07</td>\n",
              "      <td>0.000013</td>\n",
              "    </tr>\n",
              "    <tr>\n",
              "      <th>2</th>\n",
              "      <td>26093</td>\n",
              "      <td>1.59</td>\n",
              "      <td>0.463734</td>\n",
              "      <td>1.978100e-06</td>\n",
              "      <td>0.000015</td>\n",
              "    </tr>\n",
              "    <tr>\n",
              "      <th>3</th>\n",
              "      <td>26190</td>\n",
              "      <td>1.54</td>\n",
              "      <td>0.431782</td>\n",
              "      <td>1.841807e-06</td>\n",
              "      <td>0.000017</td>\n",
              "    </tr>\n",
              "    <tr>\n",
              "      <th>4</th>\n",
              "      <td>26355</td>\n",
              "      <td>1.98</td>\n",
              "      <td>0.683097</td>\n",
              "      <td>2.913812e-06</td>\n",
              "      <td>0.000020</td>\n",
              "    </tr>\n",
              "    <tr>\n",
              "      <th>...</th>\n",
              "      <td>...</td>\n",
              "      <td>...</td>\n",
              "      <td>...</td>\n",
              "      <td>...</td>\n",
              "      <td>...</td>\n",
              "    </tr>\n",
              "    <tr>\n",
              "      <th>89046</th>\n",
              "      <td>17991689</td>\n",
              "      <td>2.49</td>\n",
              "      <td>0.912283</td>\n",
              "      <td>3.891425e-06</td>\n",
              "      <td>0.999963</td>\n",
              "    </tr>\n",
              "    <tr>\n",
              "      <th>89047</th>\n",
              "      <td>17991691</td>\n",
              "      <td>2.49</td>\n",
              "      <td>0.912283</td>\n",
              "      <td>3.891425e-06</td>\n",
              "      <td>0.999967</td>\n",
              "    </tr>\n",
              "    <tr>\n",
              "      <th>89048</th>\n",
              "      <td>18000012</td>\n",
              "      <td>19.96</td>\n",
              "      <td>2.993730</td>\n",
              "      <td>1.277003e-05</td>\n",
              "      <td>0.999980</td>\n",
              "    </tr>\n",
              "    <tr>\n",
              "      <th>89049</th>\n",
              "      <td>18024155</td>\n",
              "      <td>3.99</td>\n",
              "      <td>1.383791</td>\n",
              "      <td>5.902687e-06</td>\n",
              "      <td>0.999985</td>\n",
              "    </tr>\n",
              "    <tr>\n",
              "      <th>89050</th>\n",
              "      <td>18024556</td>\n",
              "      <td>30.51</td>\n",
              "      <td>3.418054</td>\n",
              "      <td>1.458002e-05</td>\n",
              "      <td>1.000000</td>\n",
              "    </tr>\n",
              "  </tbody>\n",
              "</table>\n",
              "<p>89051 rows × 5 columns</p>\n",
              "</div>"
            ],
            "text/plain": [
              "        item_id  sales_value  sales_sum        weight  weight_sum\n",
              "0         25671        20.94   3.041661  1.297448e-05    0.000013\n",
              "1         26081         0.99   0.100000  4.265591e-07    0.000013\n",
              "2         26093         1.59   0.463734  1.978100e-06    0.000015\n",
              "3         26190         1.54   0.431782  1.841807e-06    0.000017\n",
              "4         26355         1.98   0.683097  2.913812e-06    0.000020\n",
              "...         ...          ...        ...           ...         ...\n",
              "89046  17991689         2.49   0.912283  3.891425e-06    0.999963\n",
              "89047  17991691         2.49   0.912283  3.891425e-06    0.999967\n",
              "89048  18000012        19.96   2.993730  1.277003e-05    0.999980\n",
              "89049  18024155         3.99   1.383791  5.902687e-06    0.999985\n",
              "89050  18024556        30.51   3.418054  1.458002e-05    1.000000\n",
              "\n",
              "[89051 rows x 5 columns]"
            ]
          },
          "metadata": {
            "tags": []
          },
          "execution_count": 7
        }
      ]
    },
    {
      "cell_type": "code",
      "metadata": {
        "id": "aHEqzV9WWtG4",
        "colab_type": "code",
        "colab": {}
      },
      "source": [
        "import random\n",
        "def weighted_random_recommendation(items_weights, n=5):\n",
        "    \"\"\"Случайные рекоммендации\n",
        "    \n",
        "    Input\n",
        "    -----\n",
        "    items_weights: pd.DataFrame\n",
        "        Датафрейм со столбцами item_id, weight. Сумма weight по всем товарам = 1\n",
        "    \"\"\"\n",
        "    items = items_weights['item_id'].values\n",
        "    weights = items_weights['weight'].values\n",
        "    recs = np.random.choice(items, size=n, replace=False, p=weights)\n",
        "    \n",
        "    # Подсказка: необходимо модифицировать функцию random_recommendation()\n",
        "    # your_code\n",
        "    \n",
        "    return recs.tolist()"
      ],
      "execution_count": 9,
      "outputs": []
    },
    {
      "cell_type": "code",
      "metadata": {
        "id": "ZzERcBELWtG-",
        "colab_type": "code",
        "colab": {
          "base_uri": "https://localhost:8080/",
          "height": 72
        },
        "outputId": "05bba5b7-0613-455c-fcbe-0535ebbad16e"
      },
      "source": [
        "%%time\n",
        "\n",
        "# your_code\n",
        "weighted_random_recommendation(popularity, 5)\n"
      ],
      "execution_count": 10,
      "outputs": [
        {
          "output_type": "stream",
          "text": [
            "CPU times: user 3.41 ms, sys: 77 µs, total: 3.49 ms\n",
            "Wall time: 3 ms\n"
          ],
          "name": "stdout"
        },
        {
          "output_type": "execute_result",
          "data": {
            "text/plain": [
              "[9858767, 1008483, 16830379, 1100375, 12171222]"
            ]
          },
          "metadata": {
            "tags": []
          },
          "execution_count": 10
        }
      ]
    },
    {
      "cell_type": "markdown",
      "metadata": {
        "id": "JcvdP7CPWtHG",
        "colab_type": "text"
      },
      "source": [
        "### Задание 2. Расчет метрик\n",
        "Рассчитайте Precision@5 для каждого алгоритма с помощью функции из вебинара 1. Какой алгоритм показывает лучшее качество?"
      ]
    },
    {
      "cell_type": "code",
      "metadata": {
        "id": "yA6Hqv90WtHI",
        "colab_type": "code",
        "colab": {
          "base_uri": "https://localhost:8080/",
          "height": 182
        },
        "outputId": "5b475d29-1682-43ba-b0b6-c4abc672af86"
      },
      "source": [
        "result = pd.read_csv('/content/data/My Drive/data/predictions_basic.csv') \n",
        "result.head(2)"
      ],
      "execution_count": 11,
      "outputs": [
        {
          "output_type": "execute_result",
          "data": {
            "text/html": [
              "<div>\n",
              "<style scoped>\n",
              "    .dataframe tbody tr th:only-of-type {\n",
              "        vertical-align: middle;\n",
              "    }\n",
              "\n",
              "    .dataframe tbody tr th {\n",
              "        vertical-align: top;\n",
              "    }\n",
              "\n",
              "    .dataframe thead th {\n",
              "        text-align: right;\n",
              "    }\n",
              "</style>\n",
              "<table border=\"1\" class=\"dataframe\">\n",
              "  <thead>\n",
              "    <tr style=\"text-align: right;\">\n",
              "      <th></th>\n",
              "      <th>user_id</th>\n",
              "      <th>actual</th>\n",
              "      <th>random_recommendation</th>\n",
              "      <th>popular_recommendation</th>\n",
              "      <th>itemitem</th>\n",
              "      <th>cosine</th>\n",
              "      <th>tfidf</th>\n",
              "      <th>own_purchases</th>\n",
              "    </tr>\n",
              "  </thead>\n",
              "  <tbody>\n",
              "    <tr>\n",
              "      <th>0</th>\n",
              "      <td>1</td>\n",
              "      <td>[  821867   834484   856942   865456   889248 ...</td>\n",
              "      <td>[8157117, 870291, 1846901, 891748, 1038560]</td>\n",
              "      <td>[6534178, 6533889, 1029743, 6534166, 1082185]</td>\n",
              "      <td>[1082185, 981760, 1127831, 995242, 1098066]</td>\n",
              "      <td>[1082185, 981760, 1127831, 1098066, 961554]</td>\n",
              "      <td>[1082185, 981760, 1127831, 1098066, 961554]</td>\n",
              "      <td>[1082185, 1029743, 995785, 1004906, 1081177]</td>\n",
              "    </tr>\n",
              "    <tr>\n",
              "      <th>1</th>\n",
              "      <td>3</td>\n",
              "      <td>[  835476   851057   872021   878302   879948 ...</td>\n",
              "      <td>[1000965, 10121560, 9878622, 13512901, 13039531]</td>\n",
              "      <td>[6534178, 6533889, 1029743, 6534166, 1082185]</td>\n",
              "      <td>[1082185, 981760, 1098066, 995242, 826249]</td>\n",
              "      <td>[1082185, 1098066, 981760, 826249, 883404]</td>\n",
              "      <td>[1082185, 981760, 1098066, 826249, 883404]</td>\n",
              "      <td>[1082185, 1098066, 6534178, 1127831, 1068719]</td>\n",
              "    </tr>\n",
              "  </tbody>\n",
              "</table>\n",
              "</div>"
            ],
            "text/plain": [
              "   user_id  ...                                  own_purchases\n",
              "0        1  ...   [1082185, 1029743, 995785, 1004906, 1081177]\n",
              "1        3  ...  [1082185, 1098066, 6534178, 1127831, 1068719]\n",
              "\n",
              "[2 rows x 8 columns]"
            ]
          },
          "metadata": {
            "tags": []
          },
          "execution_count": 11
        }
      ]
    },
    {
      "cell_type": "code",
      "metadata": {
        "id": "fUWfSo1IBeH7",
        "colab_type": "code",
        "colab": {}
      },
      "source": [
        "#Поставлю везде между товарами запятые\n",
        "result['actual'] = result['actual'].apply(lambda x: x.strip('[]').split())\n",
        "result['random_recommendation'] = result['random_recommendation'].apply(\n",
        "    lambda x: x.strip('[]').split(sep=', '))\n",
        "result['popular_recommendation'] = result['popular_recommendation'].apply(\n",
        "    lambda x: x.strip('[]').split(sep=', '))\n",
        "result['itemitem'] = result['itemitem'].apply(lambda x: x.strip('[]').split(\n",
        "    sep=', '))\n",
        "result['cosine'] = result['cosine'].apply(lambda x: x.strip('[]').split(\n",
        "    sep=', '))\n",
        "result['tfidf'] = result['tfidf'].apply(lambda x: x.strip('[]').split(sep=', '))\n",
        "result['own_purchases'] = result['own_purchases'].apply(\n",
        "    lambda x: x.strip('[]').split(sep=', '))"
      ],
      "execution_count": 12,
      "outputs": []
    },
    {
      "cell_type": "code",
      "metadata": {
        "id": "aCljBnRUWtHO",
        "colab_type": "code",
        "colab": {
          "base_uri": "https://localhost:8080/",
          "height": 182
        },
        "outputId": "02de1c31-741f-4bd0-b8bd-6c6497eb5597"
      },
      "source": [
        "result.head(2)"
      ],
      "execution_count": 13,
      "outputs": [
        {
          "output_type": "execute_result",
          "data": {
            "text/html": [
              "<div>\n",
              "<style scoped>\n",
              "    .dataframe tbody tr th:only-of-type {\n",
              "        vertical-align: middle;\n",
              "    }\n",
              "\n",
              "    .dataframe tbody tr th {\n",
              "        vertical-align: top;\n",
              "    }\n",
              "\n",
              "    .dataframe thead th {\n",
              "        text-align: right;\n",
              "    }\n",
              "</style>\n",
              "<table border=\"1\" class=\"dataframe\">\n",
              "  <thead>\n",
              "    <tr style=\"text-align: right;\">\n",
              "      <th></th>\n",
              "      <th>user_id</th>\n",
              "      <th>actual</th>\n",
              "      <th>random_recommendation</th>\n",
              "      <th>popular_recommendation</th>\n",
              "      <th>itemitem</th>\n",
              "      <th>cosine</th>\n",
              "      <th>tfidf</th>\n",
              "      <th>own_purchases</th>\n",
              "    </tr>\n",
              "  </thead>\n",
              "  <tbody>\n",
              "    <tr>\n",
              "      <th>0</th>\n",
              "      <td>1</td>\n",
              "      <td>[821867, 834484, 856942, 865456, 889248, 90795...</td>\n",
              "      <td>[8157117, 870291, 1846901, 891748, 1038560]</td>\n",
              "      <td>[6534178, 6533889, 1029743, 6534166, 1082185]</td>\n",
              "      <td>[1082185, 981760, 1127831, 995242, 1098066]</td>\n",
              "      <td>[1082185, 981760, 1127831, 1098066, 961554]</td>\n",
              "      <td>[1082185, 981760, 1127831, 1098066, 961554]</td>\n",
              "      <td>[1082185, 1029743, 995785, 1004906, 1081177]</td>\n",
              "    </tr>\n",
              "    <tr>\n",
              "      <th>1</th>\n",
              "      <td>3</td>\n",
              "      <td>[835476, 851057, 872021, 878302, 879948, 90963...</td>\n",
              "      <td>[1000965, 10121560, 9878622, 13512901, 13039531]</td>\n",
              "      <td>[6534178, 6533889, 1029743, 6534166, 1082185]</td>\n",
              "      <td>[1082185, 981760, 1098066, 995242, 826249]</td>\n",
              "      <td>[1082185, 1098066, 981760, 826249, 883404]</td>\n",
              "      <td>[1082185, 981760, 1098066, 826249, 883404]</td>\n",
              "      <td>[1082185, 1098066, 6534178, 1127831, 1068719]</td>\n",
              "    </tr>\n",
              "  </tbody>\n",
              "</table>\n",
              "</div>"
            ],
            "text/plain": [
              "   user_id  ...                                  own_purchases\n",
              "0        1  ...   [1082185, 1029743, 995785, 1004906, 1081177]\n",
              "1        3  ...  [1082185, 1098066, 6534178, 1127831, 1068719]\n",
              "\n",
              "[2 rows x 8 columns]"
            ]
          },
          "metadata": {
            "tags": []
          },
          "execution_count": 13
        }
      ]
    },
    {
      "cell_type": "code",
      "metadata": {
        "id": "x7Fgshs3C_R6",
        "colab_type": "code",
        "colab": {
          "base_uri": "https://localhost:8080/",
          "height": 35
        },
        "outputId": "17ab00be-0708-4bfd-9373-7fc5319f2e34"
      },
      "source": [
        "def precision_at_k(recommended_list, bought_list, k=5):\n",
        "    bought_list = np.array(bought_list)\n",
        "    recommended_list = np.array(recommended_list)\n",
        "    flags = np.isin(bought_list, recommended_list)\n",
        "    precision = flags.sum() / len(recommended_list)\n",
        "        \n",
        "    return precision\n",
        "  \n",
        "  \n",
        "result['precision_rndm_recom'] = [precision_at_k(\n",
        "    result['random_recommendation'][x], result['actual'][x], k=5) \n",
        "    for x in result.index]\n",
        "\n",
        "result_rrecom = (result['precision_rndm_recom'].sum() / \n",
        "    len(result['precision_rndm_recom']))\n",
        "result_rrecom\n",
        "  \n"
      ],
      "execution_count": 17,
      "outputs": [
        {
          "output_type": "execute_result",
          "data": {
            "text/plain": [
              "0.0005876591576885408"
            ]
          },
          "metadata": {
            "tags": []
          },
          "execution_count": 17
        }
      ]
    },
    {
      "cell_type": "code",
      "metadata": {
        "id": "xoXkWrp6DAIl",
        "colab_type": "code",
        "colab": {
          "base_uri": "https://localhost:8080/",
          "height": 35
        },
        "outputId": "81339608-ba5b-4000-8ed2-5c7cc30d4501"
      },
      "source": [
        "result['precision_pop_recom'] = [precision_at_k(\n",
        "    result['popular_recommendation'][x], result['actual'][x], k=5) \n",
        "    for x in result.index]\n",
        "\n",
        "result_poprecom = (result['precision_pop_recom'].sum() / \n",
        "    len(result['precision_pop_recom']))\n",
        "result_poprecom\n"
      ],
      "execution_count": 19,
      "outputs": [
        {
          "output_type": "execute_result",
          "data": {
            "text/plain": [
              "0.15523996082272282"
            ]
          },
          "metadata": {
            "tags": []
          },
          "execution_count": 19
        }
      ]
    },
    {
      "cell_type": "code",
      "metadata": {
        "id": "D9Sc1_q482qr",
        "colab_type": "code",
        "colab": {
          "base_uri": "https://localhost:8080/",
          "height": 35
        },
        "outputId": "1ce41fea-b760-48be-897f-764e41287b08"
      },
      "source": [
        "result['precision_item_recom'] = [precision_at_k(\n",
        "    result['itemitem'][x], result['actual'][x], k=5) \n",
        "    for x in result.index]\n",
        "\n",
        "result_itemrecom = (result['precision_item_recom'].sum() / \n",
        "    len(result['precision_pop_recom']))\n",
        "result_itemrecom"
      ],
      "execution_count": 21,
      "outputs": [
        {
          "output_type": "execute_result",
          "data": {
            "text/plain": [
              "0.15132223310479923"
            ]
          },
          "metadata": {
            "tags": []
          },
          "execution_count": 21
        }
      ]
    },
    {
      "cell_type": "code",
      "metadata": {
        "id": "ChaiYWOu9F-w",
        "colab_type": "code",
        "colab": {
          "base_uri": "https://localhost:8080/",
          "height": 35
        },
        "outputId": "87bc4cd1-a1be-48da-9dcd-fe2b822a45af"
      },
      "source": [
        "result['precision_cosine_recom'] = [precision_at_k(\n",
        "    result['cosine'][x], result['actual'][x], k=5) \n",
        "    for x in result.index]\n",
        "\n",
        "result_cosinerecom = (result['precision_cosine_recom'].sum() / \n",
        "    len(result['precision_pop_recom']))\n",
        "result_cosinerecom"
      ],
      "execution_count": 22,
      "outputs": [
        {
          "output_type": "execute_result",
          "data": {
            "text/plain": [
              "0.155435847208619"
            ]
          },
          "metadata": {
            "tags": []
          },
          "execution_count": 22
        }
      ]
    },
    {
      "cell_type": "code",
      "metadata": {
        "id": "KNm-wBwODAVG",
        "colab_type": "code",
        "colab": {
          "base_uri": "https://localhost:8080/",
          "height": 35
        },
        "outputId": "3629f72c-c02d-44c0-f04c-4b82b00607e4"
      },
      "source": [
        "result['precision_tfidf_recom'] = [precision_at_k(\n",
        "    result['tfidf'][x], result['actual'][x], k=5) \n",
        "    for x in result.index]\n",
        "\n",
        "result_tfidfrecom = (result['precision_tfidf_recom'].sum() / \n",
        "    len(result['precision_tfidf_recom']))\n",
        "result_tfidfrecom"
      ],
      "execution_count": 24,
      "outputs": [
        {
          "output_type": "execute_result",
          "data": {
            "text/plain": [
              "0.16121449559255635"
            ]
          },
          "metadata": {
            "tags": []
          },
          "execution_count": 24
        }
      ]
    },
    {
      "cell_type": "code",
      "metadata": {
        "id": "hXTR9ikF9ajn",
        "colab_type": "code",
        "colab": {
          "base_uri": "https://localhost:8080/",
          "height": 35
        },
        "outputId": "d8e7ff66-6224-4a93-bf21-7a01b65f9dc1"
      },
      "source": [
        "result['precision_own_purchases_recom'] = [precision_at_k(\n",
        "    result['own_purchases'][x], result['actual'][x], k=5) \n",
        "    for x in result.index]\n",
        "\n",
        "result_own_purchasesrecom = (result['precision_own_purchases_recom'].sum() / \n",
        "    len(result['precision_own_purchases_recom']))\n",
        "result_own_purchasesrecom"
      ],
      "execution_count": 26,
      "outputs": [
        {
          "output_type": "execute_result",
          "data": {
            "text/plain": [
              "0.20122428991185112"
            ]
          },
          "metadata": {
            "tags": []
          },
          "execution_count": 26
        }
      ]
    },
    {
      "cell_type": "markdown",
      "metadata": {
        "id": "nPn4qyRB9mtH",
        "colab_type": "text"
      },
      "source": [
        "Наилучший результат показывает алгоритм own_purchases 0,201"
      ]
    },
    {
      "cell_type": "markdown",
      "metadata": {
        "id": "VcDF-PZcWtHU",
        "colab_type": "text"
      },
      "source": [
        "### Задание 3*. Улучшение бейзлайнов и ItemItem\n",
        "\n",
        "- Попробуйте улучшить бейзлайны, считая их на топ- {2000, 5000, 10000} товаров. Постройте график зависимости precision@5 от топ-*\n",
        "- Попробуйте улучшить разные варианты ItemItemRecommender, выбирая число соседей $K$. Постройте график зависимости precision@5 от $K$ "
      ]
    },
    {
      "cell_type": "code",
      "metadata": {
        "id": "Na-pXftQWtHU",
        "colab_type": "code",
        "colab": {}
      },
      "source": [
        "# your_code"
      ],
      "execution_count": null,
      "outputs": []
    }
  ]
}