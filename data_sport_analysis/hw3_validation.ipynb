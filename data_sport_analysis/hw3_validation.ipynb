{
 "cells": [
  {
   "cell_type": "markdown",
   "metadata": {},
   "source": [
    "## ДЗ 3. \n",
    "Основное задание:\n",
    "Даны выборки для обучения и для тестирования. Задание заключается в том, чтобы попробовать разные способы валидации, проанализировать плюсы / минусы каждой и сделать выводы о том, какой способ валидации наиболее устойчивый в данной задаче. Метрика качества для оценки прогнозов - ROC-AUC, название целевой переменной - IsFraud. Рекомендуется использовать модели градиетного бустинга, реализация любая / гипепараметры любые. Внимание! выборка assignment_2_test.csv - наш аналог лидерборда. Будем моделировать ситуацию отправки решения на лидерборд и сравнить значение метрики на лидерборде и на локальной валидации. Для других целей использовать выборку запрещено!.\n",
    "​\n",
    "\n",
    "Терминология, используемая в задании:\n",
    "* обучающая выборка - выборка, которая передается в метод fit / train;\n",
    "* валидационная выборка - выборка, которая получается при Hold-Out на 2 выборки (train, valid);\n",
    "* тестовая выборка - выборка, которая получается при Hold-Out на 3 выборки (train, valid, test);\n",
    "* ЛБ - лидерборд, выборка assignment_2_test.csv.\n",
    "​\n",
    "Задание 1: сделать Hold-Out валидацию с разбиением, размер которого будет адеквтаным, по вашему мнению; разбиение проводить по id-транзакции (TransactionID), обучать модель градиетного бустинга любой реализации с подбором числа деревьев по early_stopping критерию до достижения сходимости. Оценить качество модели на валидационной выборке, оценить расхождение по сравнению с качеством на обучающей выборке и валидационной выборке. Оценить качество на ЛБ, сравнить с качеством на обучении и валидации. Сделать выводы.\n",
    "​\n",
    "Задание 2: сделать Hold-Out валидацию с разбиением на 3 выборки, разбиение проводить по id-транзакции (TransactionID), размер каждой выборки подобрать самостоятельно. Повторить процедуру из п.1. для каждой выборки.\n",
    "​\n",
    "Задание 3: построить доверительный интервал на данных из п.2 на основе бутстреп выборок, оценить качество модели на ЛБ относительно полученного доверительного интервала. Сделать выводы.\n",
    "​\n",
    "Задание 4: выполнить Adversarial Validation, подобрать объекты из обучающей выборки, которые сильно похожи на объекты из assignment_2_test.csv, и использовать их в качестве валидационного набора. Оценить качество модели на ЛБ, сделать выводы о полученных результатах.\n",
    "​\n",
    "Задание 5: сделать KFold / StratifiedKFold валидацию (на ваше усмотрение), оценить получаемые качество и разброс по метрике качества. Сделать выводы об устойчивости кросс-валидации, сходимости оценки на кросс-валидации и отложенном наборе данных; Оценить качество на ЛБ, сделать выводы.\n",
    "​\n",
    "Задание 6 (опциональное): сделать Hold-Out валидацию по времени (TransactionDT), повторить процедуры из п.1 / п.2 (на ваш выбор). Построить доверительный интервал, сравнить качество на ЛБ выборке с полученным доверительным интервалом. Сделать выводы.\n",
    "​\n",
    "Задание 7 (совсем опциональное): в данном наборе данных у нас есть ID-транзакции (TransactionID) и время транзакции (TransactionDT), но отсутствует ID-клиента, который совершал транзакции. Кажется, что в этой задаче валидация по клиенту работала бы хорошо. Предложить критерий, по которому можно выделить клиентов и сделать п.5, используя созданное определение клиента, используя валидацию по клиенту (GroupKFold)."
   ]
  },
  {
   "cell_type": "code",
   "execution_count": 1,
   "metadata": {},
   "outputs": [],
   "source": [
    "import warnings\n",
    "from tqdm import tqdm\n",
    "from typing import List, Tuple\n",
    "\n",
    "import numpy as np\n",
    "import pandas as pd\n",
    "\n",
    "import catboost as cb\n",
    "import xgboost as xgb\n",
    "import matplotlib.pyplot as plt\n",
    "import seaborn as sns\n",
    "from scipy.stats import ttest_rel\n",
    "\n",
    "from sklearn.metrics import f1_score, roc_auc_score\n",
    "from sklearn.ensemble import RandomForestRegressor\n",
    "from sklearn.model_selection import KFold, StratifiedKFold, train_test_split, cross_val_score\n",
    "from sklearn.metrics import classification_report, f1_score, precision_score, recall_score\n",
    "warnings.simplefilter(\"ignore\")\n",
    "%matplotlib inline"
   ]
  },
  {
   "cell_type": "code",
   "execution_count": 41,
   "metadata": {},
   "outputs": [
    {
     "name": "stdout",
     "output_type": "stream",
     "text": [
      "train.shape = 180000 rows, 394 cols\n",
      "test.shape = 100001 rows, 394 cols\n"
     ]
    },
    {
     "data": {
      "text/html": [
       "<div>\n",
       "<style scoped>\n",
       "    .dataframe tbody tr th:only-of-type {\n",
       "        vertical-align: middle;\n",
       "    }\n",
       "\n",
       "    .dataframe tbody tr th {\n",
       "        vertical-align: top;\n",
       "    }\n",
       "\n",
       "    .dataframe thead th {\n",
       "        text-align: right;\n",
       "    }\n",
       "</style>\n",
       "<table border=\"1\" class=\"dataframe\">\n",
       "  <thead>\n",
       "    <tr style=\"text-align: right;\">\n",
       "      <th></th>\n",
       "      <th>TransactionID</th>\n",
       "      <th>isFraud</th>\n",
       "      <th>TransactionDT</th>\n",
       "      <th>TransactionAmt</th>\n",
       "      <th>ProductCD</th>\n",
       "      <th>card1</th>\n",
       "      <th>card2</th>\n",
       "      <th>card3</th>\n",
       "      <th>card4</th>\n",
       "      <th>card5</th>\n",
       "      <th>...</th>\n",
       "      <th>V330</th>\n",
       "      <th>V331</th>\n",
       "      <th>V332</th>\n",
       "      <th>V333</th>\n",
       "      <th>V334</th>\n",
       "      <th>V335</th>\n",
       "      <th>V336</th>\n",
       "      <th>V337</th>\n",
       "      <th>V338</th>\n",
       "      <th>V339</th>\n",
       "    </tr>\n",
       "  </thead>\n",
       "  <tbody>\n",
       "    <tr>\n",
       "      <th>0</th>\n",
       "      <td>2987000</td>\n",
       "      <td>0</td>\n",
       "      <td>86400</td>\n",
       "      <td>68.5</td>\n",
       "      <td>W</td>\n",
       "      <td>13926</td>\n",
       "      <td>NaN</td>\n",
       "      <td>150.0</td>\n",
       "      <td>discover</td>\n",
       "      <td>142.0</td>\n",
       "      <td>...</td>\n",
       "      <td>NaN</td>\n",
       "      <td>NaN</td>\n",
       "      <td>NaN</td>\n",
       "      <td>NaN</td>\n",
       "      <td>NaN</td>\n",
       "      <td>NaN</td>\n",
       "      <td>NaN</td>\n",
       "      <td>NaN</td>\n",
       "      <td>NaN</td>\n",
       "      <td>NaN</td>\n",
       "    </tr>\n",
       "    <tr>\n",
       "      <th>1</th>\n",
       "      <td>2987001</td>\n",
       "      <td>0</td>\n",
       "      <td>86401</td>\n",
       "      <td>29.0</td>\n",
       "      <td>W</td>\n",
       "      <td>2755</td>\n",
       "      <td>404.0</td>\n",
       "      <td>150.0</td>\n",
       "      <td>mastercard</td>\n",
       "      <td>102.0</td>\n",
       "      <td>...</td>\n",
       "      <td>NaN</td>\n",
       "      <td>NaN</td>\n",
       "      <td>NaN</td>\n",
       "      <td>NaN</td>\n",
       "      <td>NaN</td>\n",
       "      <td>NaN</td>\n",
       "      <td>NaN</td>\n",
       "      <td>NaN</td>\n",
       "      <td>NaN</td>\n",
       "      <td>NaN</td>\n",
       "    </tr>\n",
       "  </tbody>\n",
       "</table>\n",
       "<p>2 rows × 394 columns</p>\n",
       "</div>"
      ],
      "text/plain": [
       "   TransactionID  isFraud  TransactionDT  TransactionAmt ProductCD  card1  \\\n",
       "0        2987000        0          86400            68.5         W  13926   \n",
       "1        2987001        0          86401            29.0         W   2755   \n",
       "\n",
       "   card2  card3       card4  card5  ... V330  V331  V332  V333  V334 V335  \\\n",
       "0    NaN  150.0    discover  142.0  ...  NaN   NaN   NaN   NaN   NaN  NaN   \n",
       "1  404.0  150.0  mastercard  102.0  ...  NaN   NaN   NaN   NaN   NaN  NaN   \n",
       "\n",
       "  V336  V337  V338  V339  \n",
       "0  NaN   NaN   NaN   NaN  \n",
       "1  NaN   NaN   NaN   NaN  \n",
       "\n",
       "[2 rows x 394 columns]"
      ]
     },
     "execution_count": 41,
     "metadata": {},
     "output_type": "execute_result"
    }
   ],
   "source": [
    "train = pd.read_csv('assignment_2_train.csv')\n",
    "test = pd.read_csv('assignment_2_test.csv')\n",
    "\n",
    "print(\"train.shape = {} rows, {} cols\".format(*train.shape))\n",
    "print(\"test.shape = {} rows, {} cols\".format(*test.shape))\n",
    "train.head(2)"
   ]
  },
  {
   "cell_type": "code",
   "execution_count": 40,
   "metadata": {},
   "outputs": [
    {
     "data": {
      "text/html": [
       "<div>\n",
       "<style scoped>\n",
       "    .dataframe tbody tr th:only-of-type {\n",
       "        vertical-align: middle;\n",
       "    }\n",
       "\n",
       "    .dataframe tbody tr th {\n",
       "        vertical-align: top;\n",
       "    }\n",
       "\n",
       "    .dataframe thead th {\n",
       "        text-align: right;\n",
       "    }\n",
       "</style>\n",
       "<table border=\"1\" class=\"dataframe\">\n",
       "  <thead>\n",
       "    <tr style=\"text-align: right;\">\n",
       "      <th></th>\n",
       "      <th>TransactionID</th>\n",
       "      <th>isFraud</th>\n",
       "      <th>TransactionDT</th>\n",
       "      <th>TransactionAmt</th>\n",
       "      <th>ProductCD</th>\n",
       "      <th>card1</th>\n",
       "      <th>card2</th>\n",
       "      <th>card3</th>\n",
       "      <th>card4</th>\n",
       "      <th>card5</th>\n",
       "      <th>...</th>\n",
       "      <th>V330</th>\n",
       "      <th>V331</th>\n",
       "      <th>V332</th>\n",
       "      <th>V333</th>\n",
       "      <th>V334</th>\n",
       "      <th>V335</th>\n",
       "      <th>V336</th>\n",
       "      <th>V337</th>\n",
       "      <th>V338</th>\n",
       "      <th>V339</th>\n",
       "    </tr>\n",
       "  </thead>\n",
       "  <tbody>\n",
       "    <tr>\n",
       "      <th>179995</th>\n",
       "      <td>3166995</td>\n",
       "      <td>0</td>\n",
       "      <td>3958217</td>\n",
       "      <td>39.00</td>\n",
       "      <td>W</td>\n",
       "      <td>1877</td>\n",
       "      <td>310.0</td>\n",
       "      <td>150.0</td>\n",
       "      <td>mastercard</td>\n",
       "      <td>224.0</td>\n",
       "      <td>...</td>\n",
       "      <td>NaN</td>\n",
       "      <td>NaN</td>\n",
       "      <td>NaN</td>\n",
       "      <td>NaN</td>\n",
       "      <td>NaN</td>\n",
       "      <td>NaN</td>\n",
       "      <td>NaN</td>\n",
       "      <td>NaN</td>\n",
       "      <td>NaN</td>\n",
       "      <td>NaN</td>\n",
       "    </tr>\n",
       "    <tr>\n",
       "      <th>179996</th>\n",
       "      <td>3166996</td>\n",
       "      <td>0</td>\n",
       "      <td>3958237</td>\n",
       "      <td>59.95</td>\n",
       "      <td>W</td>\n",
       "      <td>10075</td>\n",
       "      <td>514.0</td>\n",
       "      <td>150.0</td>\n",
       "      <td>mastercard</td>\n",
       "      <td>224.0</td>\n",
       "      <td>...</td>\n",
       "      <td>NaN</td>\n",
       "      <td>NaN</td>\n",
       "      <td>NaN</td>\n",
       "      <td>NaN</td>\n",
       "      <td>NaN</td>\n",
       "      <td>NaN</td>\n",
       "      <td>NaN</td>\n",
       "      <td>NaN</td>\n",
       "      <td>NaN</td>\n",
       "      <td>NaN</td>\n",
       "    </tr>\n",
       "    <tr>\n",
       "      <th>179997</th>\n",
       "      <td>3166997</td>\n",
       "      <td>0</td>\n",
       "      <td>3958241</td>\n",
       "      <td>34.00</td>\n",
       "      <td>W</td>\n",
       "      <td>6053</td>\n",
       "      <td>122.0</td>\n",
       "      <td>150.0</td>\n",
       "      <td>mastercard</td>\n",
       "      <td>195.0</td>\n",
       "      <td>...</td>\n",
       "      <td>NaN</td>\n",
       "      <td>NaN</td>\n",
       "      <td>NaN</td>\n",
       "      <td>NaN</td>\n",
       "      <td>NaN</td>\n",
       "      <td>NaN</td>\n",
       "      <td>NaN</td>\n",
       "      <td>NaN</td>\n",
       "      <td>NaN</td>\n",
       "      <td>NaN</td>\n",
       "    </tr>\n",
       "    <tr>\n",
       "      <th>179998</th>\n",
       "      <td>3166998</td>\n",
       "      <td>0</td>\n",
       "      <td>3958260</td>\n",
       "      <td>59.00</td>\n",
       "      <td>W</td>\n",
       "      <td>7726</td>\n",
       "      <td>555.0</td>\n",
       "      <td>150.0</td>\n",
       "      <td>visa</td>\n",
       "      <td>226.0</td>\n",
       "      <td>...</td>\n",
       "      <td>NaN</td>\n",
       "      <td>NaN</td>\n",
       "      <td>NaN</td>\n",
       "      <td>NaN</td>\n",
       "      <td>NaN</td>\n",
       "      <td>NaN</td>\n",
       "      <td>NaN</td>\n",
       "      <td>NaN</td>\n",
       "      <td>NaN</td>\n",
       "      <td>NaN</td>\n",
       "    </tr>\n",
       "    <tr>\n",
       "      <th>179999</th>\n",
       "      <td>3166999</td>\n",
       "      <td>0</td>\n",
       "      <td>3958317</td>\n",
       "      <td>226.00</td>\n",
       "      <td>W</td>\n",
       "      <td>17480</td>\n",
       "      <td>528.0</td>\n",
       "      <td>150.0</td>\n",
       "      <td>visa</td>\n",
       "      <td>226.0</td>\n",
       "      <td>...</td>\n",
       "      <td>NaN</td>\n",
       "      <td>NaN</td>\n",
       "      <td>NaN</td>\n",
       "      <td>NaN</td>\n",
       "      <td>NaN</td>\n",
       "      <td>NaN</td>\n",
       "      <td>NaN</td>\n",
       "      <td>NaN</td>\n",
       "      <td>NaN</td>\n",
       "      <td>NaN</td>\n",
       "    </tr>\n",
       "  </tbody>\n",
       "</table>\n",
       "<p>5 rows × 394 columns</p>\n",
       "</div>"
      ],
      "text/plain": [
       "        TransactionID  isFraud  TransactionDT  TransactionAmt ProductCD  \\\n",
       "179995        3166995        0        3958217           39.00         W   \n",
       "179996        3166996        0        3958237           59.95         W   \n",
       "179997        3166997        0        3958241           34.00         W   \n",
       "179998        3166998        0        3958260           59.00         W   \n",
       "179999        3166999        0        3958317          226.00         W   \n",
       "\n",
       "        card1  card2  card3       card4  card5  ... V330  V331  V332  V333  \\\n",
       "179995   1877  310.0  150.0  mastercard  224.0  ...  NaN   NaN   NaN   NaN   \n",
       "179996  10075  514.0  150.0  mastercard  224.0  ...  NaN   NaN   NaN   NaN   \n",
       "179997   6053  122.0  150.0  mastercard  195.0  ...  NaN   NaN   NaN   NaN   \n",
       "179998   7726  555.0  150.0        visa  226.0  ...  NaN   NaN   NaN   NaN   \n",
       "179999  17480  528.0  150.0        visa  226.0  ...  NaN   NaN   NaN   NaN   \n",
       "\n",
       "        V334 V335 V336  V337  V338  V339  \n",
       "179995   NaN  NaN  NaN   NaN   NaN   NaN  \n",
       "179996   NaN  NaN  NaN   NaN   NaN   NaN  \n",
       "179997   NaN  NaN  NaN   NaN   NaN   NaN  \n",
       "179998   NaN  NaN  NaN   NaN   NaN   NaN  \n",
       "179999   NaN  NaN  NaN   NaN   NaN   NaN  \n",
       "\n",
       "[5 rows x 394 columns]"
      ]
     },
     "execution_count": 40,
     "metadata": {},
     "output_type": "execute_result"
    }
   ],
   "source": [
    "train.tail(n=5)"
   ]
  },
  {
   "cell_type": "markdown",
   "metadata": {},
   "source": [
    "Видно, что TransactionID растет вместе с ID, так что можно сделать рабиение без перемешивания, и это будет соответствовать задаче по разбиению по TransactionID\n"
   ]
  },
  {
   "cell_type": "markdown",
   "metadata": {},
   "source": [
    "**Задание 1:** сделать Hold-Out валидацию с разбиением, размер которого будет адеквтаным, по вашему мнению; разбиение проводить по id-транзакции (TransactionID), обучать модель градиетного бустинга любой реализации с подбором числа деревьев по early_stopping критерию до достижения сходимости. Оценить качество модели на валидационной выборке, оценить расхождение по сравнению с качеством на обучающей выборке и валидационной выборке. Оценить качество на ЛБ, сравнить с качеством на обучении и валидации. Сделать выводы."
   ]
  },
  {
   "cell_type": "code",
   "execution_count": 4,
   "metadata": {},
   "outputs": [],
   "source": [
    "target = train['isFraud']\n",
    "data = train.set_index('TransactionID')\n",
    "data.drop(['isFraud'], axis=1, inplace=True)"
   ]
  },
  {
   "cell_type": "code",
   "execution_count": 5,
   "metadata": {},
   "outputs": [
    {
     "name": "stdout",
     "output_type": "stream",
     "text": [
      "Всего числовых признаков 378\n"
     ]
    }
   ],
   "source": [
    "numerical_ft = data.select_dtypes(include=[np.number])\n",
    "print(f'Всего числовых признаков {numerical_ft.shape[1]}')\n",
    "numerical_ft= numerical_ft.columns.tolist()"
   ]
  },
  {
   "cell_type": "code",
   "execution_count": 6,
   "metadata": {},
   "outputs": [
    {
     "name": "stdout",
     "output_type": "stream",
     "text": [
      "Всего категориальных признаков 14\n"
     ]
    }
   ],
   "source": [
    "categorical_ft = data.select_dtypes(include=[np.object])\n",
    "print(f'Всего категориальных признаков {categorical_ft.shape[1]}')\n",
    "categorical_ft = categorical_ft.columns.tolist()"
   ]
  },
  {
   "cell_type": "code",
   "execution_count": 7,
   "metadata": {},
   "outputs": [],
   "source": [
    "for col in categorical_ft:\n",
    "    data[col] = data[col].astype(str)"
   ]
  },
  {
   "cell_type": "code",
   "execution_count": 35,
   "metadata": {},
   "outputs": [
    {
     "data": {
      "text/html": [
       "<div>\n",
       "<style scoped>\n",
       "    .dataframe tbody tr th:only-of-type {\n",
       "        vertical-align: middle;\n",
       "    }\n",
       "\n",
       "    .dataframe tbody tr th {\n",
       "        vertical-align: top;\n",
       "    }\n",
       "\n",
       "    .dataframe thead th {\n",
       "        text-align: right;\n",
       "    }\n",
       "</style>\n",
       "<table border=\"1\" class=\"dataframe\">\n",
       "  <thead>\n",
       "    <tr style=\"text-align: right;\">\n",
       "      <th></th>\n",
       "      <th>isFraud</th>\n",
       "      <th>TransactionDT</th>\n",
       "      <th>TransactionAmt</th>\n",
       "      <th>ProductCD</th>\n",
       "      <th>card1</th>\n",
       "      <th>card2</th>\n",
       "      <th>card3</th>\n",
       "      <th>card4</th>\n",
       "      <th>card5</th>\n",
       "      <th>card6</th>\n",
       "      <th>...</th>\n",
       "      <th>V330</th>\n",
       "      <th>V331</th>\n",
       "      <th>V332</th>\n",
       "      <th>V333</th>\n",
       "      <th>V334</th>\n",
       "      <th>V335</th>\n",
       "      <th>V336</th>\n",
       "      <th>V337</th>\n",
       "      <th>V338</th>\n",
       "      <th>V339</th>\n",
       "    </tr>\n",
       "    <tr>\n",
       "      <th>TransactionID</th>\n",
       "      <th></th>\n",
       "      <th></th>\n",
       "      <th></th>\n",
       "      <th></th>\n",
       "      <th></th>\n",
       "      <th></th>\n",
       "      <th></th>\n",
       "      <th></th>\n",
       "      <th></th>\n",
       "      <th></th>\n",
       "      <th></th>\n",
       "      <th></th>\n",
       "      <th></th>\n",
       "      <th></th>\n",
       "      <th></th>\n",
       "      <th></th>\n",
       "      <th></th>\n",
       "      <th></th>\n",
       "      <th></th>\n",
       "      <th></th>\n",
       "      <th></th>\n",
       "    </tr>\n",
       "  </thead>\n",
       "  <tbody>\n",
       "    <tr>\n",
       "      <th>3287000</th>\n",
       "      <td>1</td>\n",
       "      <td>7415038</td>\n",
       "      <td>226.00</td>\n",
       "      <td>W</td>\n",
       "      <td>12473</td>\n",
       "      <td>555.0</td>\n",
       "      <td>150.0</td>\n",
       "      <td>visa</td>\n",
       "      <td>226.0</td>\n",
       "      <td>credit</td>\n",
       "      <td>...</td>\n",
       "      <td>NaN</td>\n",
       "      <td>NaN</td>\n",
       "      <td>NaN</td>\n",
       "      <td>NaN</td>\n",
       "      <td>NaN</td>\n",
       "      <td>NaN</td>\n",
       "      <td>NaN</td>\n",
       "      <td>NaN</td>\n",
       "      <td>NaN</td>\n",
       "      <td>NaN</td>\n",
       "    </tr>\n",
       "    <tr>\n",
       "      <th>3287001</th>\n",
       "      <td>0</td>\n",
       "      <td>7415054</td>\n",
       "      <td>3072.00</td>\n",
       "      <td>W</td>\n",
       "      <td>15651</td>\n",
       "      <td>417.0</td>\n",
       "      <td>150.0</td>\n",
       "      <td>visa</td>\n",
       "      <td>226.0</td>\n",
       "      <td>debit</td>\n",
       "      <td>...</td>\n",
       "      <td>NaN</td>\n",
       "      <td>NaN</td>\n",
       "      <td>NaN</td>\n",
       "      <td>NaN</td>\n",
       "      <td>NaN</td>\n",
       "      <td>NaN</td>\n",
       "      <td>NaN</td>\n",
       "      <td>NaN</td>\n",
       "      <td>NaN</td>\n",
       "      <td>NaN</td>\n",
       "    </tr>\n",
       "    <tr>\n",
       "      <th>3287002</th>\n",
       "      <td>0</td>\n",
       "      <td>7415081</td>\n",
       "      <td>319.95</td>\n",
       "      <td>W</td>\n",
       "      <td>13844</td>\n",
       "      <td>583.0</td>\n",
       "      <td>150.0</td>\n",
       "      <td>visa</td>\n",
       "      <td>226.0</td>\n",
       "      <td>credit</td>\n",
       "      <td>...</td>\n",
       "      <td>NaN</td>\n",
       "      <td>NaN</td>\n",
       "      <td>NaN</td>\n",
       "      <td>NaN</td>\n",
       "      <td>NaN</td>\n",
       "      <td>NaN</td>\n",
       "      <td>NaN</td>\n",
       "      <td>NaN</td>\n",
       "      <td>NaN</td>\n",
       "      <td>NaN</td>\n",
       "    </tr>\n",
       "    <tr>\n",
       "      <th>3287003</th>\n",
       "      <td>0</td>\n",
       "      <td>7415111</td>\n",
       "      <td>171.00</td>\n",
       "      <td>W</td>\n",
       "      <td>11556</td>\n",
       "      <td>309.0</td>\n",
       "      <td>150.0</td>\n",
       "      <td>visa</td>\n",
       "      <td>226.0</td>\n",
       "      <td>debit</td>\n",
       "      <td>...</td>\n",
       "      <td>NaN</td>\n",
       "      <td>NaN</td>\n",
       "      <td>NaN</td>\n",
       "      <td>NaN</td>\n",
       "      <td>NaN</td>\n",
       "      <td>NaN</td>\n",
       "      <td>NaN</td>\n",
       "      <td>NaN</td>\n",
       "      <td>NaN</td>\n",
       "      <td>NaN</td>\n",
       "    </tr>\n",
       "    <tr>\n",
       "      <th>3287004</th>\n",
       "      <td>0</td>\n",
       "      <td>7415112</td>\n",
       "      <td>107.95</td>\n",
       "      <td>W</td>\n",
       "      <td>10985</td>\n",
       "      <td>555.0</td>\n",
       "      <td>150.0</td>\n",
       "      <td>visa</td>\n",
       "      <td>226.0</td>\n",
       "      <td>debit</td>\n",
       "      <td>...</td>\n",
       "      <td>NaN</td>\n",
       "      <td>NaN</td>\n",
       "      <td>NaN</td>\n",
       "      <td>NaN</td>\n",
       "      <td>NaN</td>\n",
       "      <td>NaN</td>\n",
       "      <td>NaN</td>\n",
       "      <td>NaN</td>\n",
       "      <td>NaN</td>\n",
       "      <td>NaN</td>\n",
       "    </tr>\n",
       "  </tbody>\n",
       "</table>\n",
       "<p>5 rows × 393 columns</p>\n",
       "</div>"
      ],
      "text/plain": [
       "               isFraud  TransactionDT  TransactionAmt ProductCD  card1  card2  \\\n",
       "TransactionID                                                                   \n",
       "3287000              1        7415038          226.00         W  12473  555.0   \n",
       "3287001              0        7415054         3072.00         W  15651  417.0   \n",
       "3287002              0        7415081          319.95         W  13844  583.0   \n",
       "3287003              0        7415111          171.00         W  11556  309.0   \n",
       "3287004              0        7415112          107.95         W  10985  555.0   \n",
       "\n",
       "               card3 card4  card5   card6  ...  V330  V331  V332  V333 V334  \\\n",
       "TransactionID                              ...                                \n",
       "3287000        150.0  visa  226.0  credit  ...   NaN   NaN   NaN   NaN  NaN   \n",
       "3287001        150.0  visa  226.0   debit  ...   NaN   NaN   NaN   NaN  NaN   \n",
       "3287002        150.0  visa  226.0  credit  ...   NaN   NaN   NaN   NaN  NaN   \n",
       "3287003        150.0  visa  226.0   debit  ...   NaN   NaN   NaN   NaN  NaN   \n",
       "3287004        150.0  visa  226.0   debit  ...   NaN   NaN   NaN   NaN  NaN   \n",
       "\n",
       "              V335  V336  V337  V338  V339  \n",
       "TransactionID                               \n",
       "3287000        NaN   NaN   NaN   NaN   NaN  \n",
       "3287001        NaN   NaN   NaN   NaN   NaN  \n",
       "3287002        NaN   NaN   NaN   NaN   NaN  \n",
       "3287003        NaN   NaN   NaN   NaN   NaN  \n",
       "3287004        NaN   NaN   NaN   NaN   NaN  \n",
       "\n",
       "[5 rows x 393 columns]"
      ]
     },
     "execution_count": 35,
     "metadata": {},
     "output_type": "execute_result"
    }
   ],
   "source": [
    "test_target = test['isFraud']\n",
    "test_data = test.set_index('TransactionID')\n",
    "\n",
    "for col in categorical_ft:\n",
    "    test_data[col] = test_data[col].astype(str)\n",
    "test_data.head()"
   ]
  },
  {
   "cell_type": "code",
   "execution_count": 42,
   "metadata": {},
   "outputs": [
    {
     "name": "stdout",
     "output_type": "stream",
     "text": [
      "x_train.shape = 125999 rows, 392 cols\n",
      "x_valid.shape = 54001 rows, 392 cols\n",
      "test_data.shape = 100001 rows, 393 cols\n"
     ]
    }
   ],
   "source": [
    "x_train, x_valid, y_train, y_valid = train_test_split(\n",
    "    data, target, train_size=0.7, shuffle=False, random_state=25,\n",
    ")\n",
    "print(\"x_train.shape = {} rows, {} cols\".format(*x_train.shape))\n",
    "print(\"x_valid.shape = {} rows, {} cols\".format(*x_valid.shape))\n",
    "print(\"test_data.shape = {} rows, {} cols\".format(*test_data.shape))"
   ]
  },
  {
   "cell_type": "code",
   "execution_count": 36,
   "metadata": {},
   "outputs": [],
   "source": [
    "train_pool = cb.Pool(x_train, y_train, cat_features=categorical_ft)\n",
    "valid_pool = cb.Pool(x_valid, y_valid, cat_features=categorical_ft)\n",
    "test_pool = cb.Pool(test_data, test_target, cat_features=categorical_ft)"
   ]
  },
  {
   "cell_type": "code",
   "execution_count": 37,
   "metadata": {},
   "outputs": [],
   "source": [
    "cb_params = {\n",
    "    \"n_estimators\": 2000,\n",
    "    \"loss_function\": \"Logloss\",\n",
    "    \"eval_metric\": \"AUC\",\n",
    "    \"task_type\": \"CPU\",\n",
    "    \"max_bin\": 50,\n",
    "    \"verbose\": 100,\n",
    "    \"learning_rate\": 0.01,\n",
    "    \"max_depth\": 6,\n",
    "    \"l2_leaf_reg\": 100,\n",
    "    \"early_stopping_rounds\": 50,\n",
    "    \"thread_count\": 6,\n",
    "    \"random_seed\": 42,\n",
    "    \"cat_features\": categorical_ft\n",
    "}"
   ]
  },
  {
   "cell_type": "code",
   "execution_count": 16,
   "metadata": {},
   "outputs": [
    {
     "name": "stdout",
     "output_type": "stream",
     "text": [
      "0:\ttest: 0.6221256\tbest: 0.6221256 (0)\ttotal: 701ms\tremaining: 23m 20s\n",
      "100:\ttest: 0.8464322\tbest: 0.8464322 (100)\ttotal: 56s\tremaining: 17m 33s\n",
      "200:\ttest: 0.8589559\tbest: 0.8589559 (200)\ttotal: 1m 56s\tremaining: 17m 24s\n",
      "300:\ttest: 0.8686370\tbest: 0.8686370 (300)\ttotal: 3m 3s\tremaining: 17m 16s\n",
      "400:\ttest: 0.8745718\tbest: 0.8745828 (399)\ttotal: 4m 7s\tremaining: 16m 28s\n",
      "500:\ttest: 0.8801433\tbest: 0.8801433 (500)\ttotal: 5m 16s\tremaining: 15m 45s\n",
      "600:\ttest: 0.8851255\tbest: 0.8851255 (600)\ttotal: 6m 25s\tremaining: 14m 57s\n",
      "700:\ttest: 0.8886836\tbest: 0.8886836 (700)\ttotal: 7m 32s\tremaining: 13m 58s\n",
      "800:\ttest: 0.8911853\tbest: 0.8911853 (800)\ttotal: 8m 36s\tremaining: 12m 53s\n",
      "900:\ttest: 0.8930228\tbest: 0.8930228 (900)\ttotal: 9m 38s\tremaining: 11m 45s\n",
      "1000:\ttest: 0.8947860\tbest: 0.8947860 (1000)\ttotal: 10m 43s\tremaining: 10m 42s\n",
      "1100:\ttest: 0.8956145\tbest: 0.8956150 (1099)\ttotal: 11m 47s\tremaining: 9m 37s\n",
      "1200:\ttest: 0.8959463\tbest: 0.8959463 (1200)\ttotal: 12m 54s\tremaining: 8m 35s\n",
      "1300:\ttest: 0.8960208\tbest: 0.8960215 (1299)\ttotal: 13m 59s\tremaining: 7m 31s\n",
      "1400:\ttest: 0.8965567\tbest: 0.8965567 (1400)\ttotal: 15m 6s\tremaining: 6m 27s\n",
      "1500:\ttest: 0.8970761\tbest: 0.8970761 (1500)\ttotal: 16m 10s\tremaining: 5m 22s\n",
      "1600:\ttest: 0.8979096\tbest: 0.8979097 (1599)\ttotal: 17m 14s\tremaining: 4m 17s\n",
      "1700:\ttest: 0.8987986\tbest: 0.8987988 (1698)\ttotal: 18m 17s\tremaining: 3m 12s\n",
      "1800:\ttest: 0.8998194\tbest: 0.8998194 (1800)\ttotal: 19m 30s\tremaining: 2m 9s\n",
      "1900:\ttest: 0.9005871\tbest: 0.9005935 (1899)\ttotal: 20m 39s\tremaining: 1m 4s\n",
      "1999:\ttest: 0.9016017\tbest: 0.9016017 (1999)\ttotal: 21m 45s\tremaining: 0us\n",
      "\n",
      "bestTest = 0.9016016571\n",
      "bestIteration = 1999\n",
      "\n"
     ]
    },
    {
     "data": {
      "text/plain": [
       "<catboost.core.CatBoostClassifier at 0x4faf1d0>"
      ]
     },
     "execution_count": 16,
     "metadata": {},
     "output_type": "execute_result"
    }
   ],
   "source": [
    "model = cb.CatBoostClassifier(**cb_params)\n",
    "model.fit(train_pool, eval_set=valid_pool)"
   ]
  },
  {
   "cell_type": "code",
   "execution_count": 38,
   "metadata": {},
   "outputs": [],
   "source": [
    "predictions_train = model.predict_proba(train_pool)\n",
    "predictions_valid = model.predict_proba(valid_pool)\n",
    "predictions_lb = model.predict_proba(test_pool)"
   ]
  },
  {
   "cell_type": "code",
   "execution_count": 39,
   "metadata": {},
   "outputs": [
    {
     "name": "stdout",
     "output_type": "stream",
     "text": [
      "train: 0.9029\n",
      "test: 0.9016\n",
      "l_board: 0.8602\n"
     ]
    }
   ],
   "source": [
    "print(f'train: {round(roc_auc_score(y_train, predictions_train[:, 1]), 4)}')\n",
    "print(f'test: {round(roc_auc_score(y_valid, predictions_valid[:, 1]), 4)}')\n",
    "print(f'l_board: {round(roc_auc_score(test_target, predictions_lb[:, 1]), 4)}')"
   ]
  },
  {
   "cell_type": "markdown",
   "metadata": {},
   "source": [
    "**Вывод**\n",
    "Модель ведет себя адекватно при сравнении трейна и валидации, но сравнение с лидербордом говорит о некотором переобучении, довольно существенное падение."
   ]
  },
  {
   "cell_type": "markdown",
   "metadata": {},
   "source": [
    "**Задание 2:** сделать Hold-Out валидацию с разбиением на 3 выборки, разбиение проводить по id-транзакции (TransactionID), размер каждой выборки подобрать самостоятельно. Повторить процедуру из п.1. для каждой выборки."
   ]
  },
  {
   "cell_type": "code",
   "execution_count": 43,
   "metadata": {},
   "outputs": [
    {
     "name": "stdout",
     "output_type": "stream",
     "text": [
      "x_train.shape = 125999 rows, 392 cols\n",
      "x_valid.shape = 37800 rows, 392 cols\n",
      "x_test.shape = 16201 rows, 392 cols\n"
     ]
    }
   ],
   "source": [
    "x_train, x_valid, y_train, y_valid = train_test_split(\n",
    "    data, target, train_size=0.7, shuffle=False, random_state=25,\n",
    ")\n",
    "\n",
    "x_valid, x_test, y_valid, y_test = train_test_split(\n",
    "    x_valid, y_valid, train_size=0.7, shuffle=True, random_state=25\n",
    ")\n",
    "\n",
    "print(\"x_train.shape = {} rows, {} cols\".format(*x_train.shape))\n",
    "print(\"x_valid.shape = {} rows, {} cols\".format(*x_valid.shape))\n",
    "print(\"x_test.shape = {} rows, {} cols\".format(*x_test.shape))"
   ]
  },
  {
   "cell_type": "code",
   "execution_count": 44,
   "metadata": {},
   "outputs": [],
   "source": [
    "train_pool = cb.Pool(x_train, y_train, cat_features=categorical_ft)\n",
    "valid_pool = cb.Pool(x_valid, y_valid, cat_features=categorical_ft)\n",
    "test_pool = cb.Pool(x_test, y_test, cat_features=categorical_ft)\n",
    "lb_pool = cb.Pool(test_data, cat_features=categorical_ft)"
   ]
  },
  {
   "cell_type": "code",
   "execution_count": null,
   "metadata": {},
   "outputs": [
    {
     "name": "stdout",
     "output_type": "stream",
     "text": [
      "0:\ttest: 0.5598128\tbest: 0.5598128 (0)\ttotal: 828ms\tremaining: 27m 34s\n",
      "100:\ttest: 0.8265603\tbest: 0.8265603 (100)\ttotal: 58.6s\tremaining: 18m 22s\n",
      "200:\ttest: 0.8444204\tbest: 0.8444204 (200)\ttotal: 1m 56s\tremaining: 17m 26s\n",
      "300:\ttest: 0.8509534\tbest: 0.8509534 (300)\ttotal: 2m 57s\tremaining: 16m 40s\n",
      "400:\ttest: 0.8532893\tbest: 0.8533632 (399)\ttotal: 4m 2s\tremaining: 16m 5s\n",
      "500:\ttest: 0.8557426\tbest: 0.8557430 (499)\ttotal: 5m 5s\tremaining: 15m 13s\n",
      "600:\ttest: 0.8568165\tbest: 0.8568681 (572)\ttotal: 6m 6s\tremaining: 14m 14s\n",
      "700:\ttest: 0.8581630\tbest: 0.8581702 (698)\ttotal: 7m 8s\tremaining: 13m 14s\n",
      "800:\ttest: 0.8591618\tbest: 0.8591627 (794)\ttotal: 8m 12s\tremaining: 12m 17s\n",
      "900:\ttest: 0.8611610\tbest: 0.8611615 (898)\ttotal: 9m 21s\tremaining: 11m 25s\n",
      "1000:\ttest: 0.8625656\tbest: 0.8625656 (1000)\ttotal: 10m 21s\tremaining: 10m 20s\n"
     ]
    }
   ],
   "source": [
    "model = cb.CatBoostClassifier(**cb_params)\n",
    "model.fit(train_pool, eval_set=valid_pool)"
   ]
  },
  {
   "cell_type": "code",
   "execution_count": null,
   "metadata": {},
   "outputs": [],
   "source": [
    "predictions_train = model.predict_proba(train_pool)\n",
    "predictions_valid = model.predict_proba(valid_pool)\n",
    "predictions_test = model.predict_proba(test_pool)\n",
    "predictions_lb = model.predict_proba(lb_pool)"
   ]
  },
  {
   "cell_type": "code",
   "execution_count": null,
   "metadata": {},
   "outputs": [],
   "source": [
    "print(f'train: {round(roc_auc_score(y_train, predictions_train[:, 1]), 4)}')\n",
    "print(f'valid: {round(roc_auc_score(y_valid, predictions_valid[:, 1]), 4)}')\n",
    "print(f'test: {round(roc_auc_score(y_valid, predictions_valid[:, 1]), 4)}')\n",
    "print(f'l_board: {round(roc_auc_score(test_target, predictions_lb[:, 1]), 4)}')"
   ]
  },
  {
   "cell_type": "markdown",
   "metadata": {},
   "source": [
    "Значение на валидационной выборке и тесте стали хуже, на лидерборде почти не изменились. "
   ]
  },
  {
   "cell_type": "markdown",
   "metadata": {},
   "source": [
    "**Задание 3:** построить доверительный интервал на данных из п.2 на основе бутстреп выборок, оценить качество модели на ЛБ относительно полученного доверительного интервала. Сделать выводы."
   ]
  },
  {
   "cell_type": "code",
   "execution_count": 48,
   "metadata": {},
   "outputs": [],
   "source": [
    "def create_bootstrap_samples(data: np.array, n_samples: int = 1000) -> np.array:\n",
    "    \n",
    "    bootstrap_idx = np.random.randint(\n",
    "        low=0, high=len(data), size=(n_samples, len(data))\n",
    "    )\n",
    "    return bootstrap_idx\n",
    "\n",
    "\n",
    "def create_bootstrap_metrics(y_true: np.array,\n",
    "                             y_pred: np.array,\n",
    "                             metric: callable,\n",
    "                             n_samlpes: int = 1000) -> List[float]:\n",
    "   \n",
    "    scores = []\n",
    "\n",
    "    if isinstance(y_true, pd.Series):\n",
    "        y_true = y_true.values\n",
    "\n",
    "    bootstrap_idx = create_bootstrap_samples(y_true)\n",
    "    for idx in bootstrap_idx:\n",
    "        y_true_bootstrap = y_true[idx]\n",
    "        y_pred_bootstrap = y_pred[idx]\n",
    "\n",
    "        score = metric(y_true_bootstrap, y_pred_bootstrap)\n",
    "        scores.append(score)\n",
    "\n",
    "    return scores\n",
    "\n",
    "\n",
    "def calculate_confidence_interval(scores: list, conf_interval: float = 0.95) -> Tuple[float]:\n",
    "   \n",
    "    left_bound = np.percentile(\n",
    "        scores, ((1 - conf_interval) / 2) * 100\n",
    "    )\n",
    "    right_bound = np.percentile(\n",
    "        scores, (conf_interval + ((1 - conf_interval) / 2)) * 100\n",
    "    )\n",
    "\n",
    "    return left_bound, right_bound"
   ]
  },
  {
   "cell_type": "code",
   "execution_count": 49,
   "metadata": {},
   "outputs": [
    {
     "data": {
      "text/plain": [
       "(0.8550486742571126, 0.8685616052281834)"
      ]
     },
     "execution_count": 49,
     "metadata": {},
     "output_type": "execute_result"
    }
   ],
   "source": [
    "np.random.seed(27)\n",
    "scores = create_bootstrap_metrics(test_target, predictions_lb[:, 1], roc_auc_score)\n",
    "\n",
    "calculate_confidence_interval(scores)"
   ]
  },
  {
   "cell_type": "markdown",
   "metadata": {},
   "source": [
    "**Вывод** \n",
    "* Значение метрики на лидерборде попадает в доверительный интервал, что показывает неплохое качество валидации. Валидация устойчивая. Ширина доверительного интервала допустима."
   ]
  },
  {
   "cell_type": "markdown",
   "metadata": {},
   "source": [
    "**Задание 4:** выполнить Adversarial Validation, подобрать объекты из обучающей выборки, которые сильно похожи на объекты из assignment_2_test.csv, и использовать их в качестве валидационного набора. Оценить качество модели на ЛБ, сделать выводы о полученных результатах."
   ]
  },
  {
   "cell_type": "code",
   "execution_count": 50,
   "metadata": {},
   "outputs": [],
   "source": [
    "x_adv = pd.concat([\n",
    "    data, test_data], axis=0\n",
    ")\n",
    "y_adv = np.hstack((np.zeros(data.shape[0]), np.ones(test_data.shape[0])))\n",
    "assert x_adv.shape[0] == y_adv.shape[0]"
   ]
  },
  {
   "cell_type": "code",
   "execution_count": 52,
   "metadata": {},
   "outputs": [
    {
     "data": {
      "text/plain": [
       "XGBClassifier(base_score=0.5, booster='gbtree', colsample_bylevel=1,\n",
       "              colsample_bynode=1, colsample_bytree=1, gamma=0,\n",
       "              learning_rate=0.1, max_delta_step=0, max_depth=3,\n",
       "              min_child_weight=1, missing=None, n_estimators=100, n_jobs=1,\n",
       "              nthread=None, objective='binary:logistic', random_state=0,\n",
       "              reg_alpha=0, reg_lambda=1, scale_pos_weight=1, seed=None,\n",
       "              silent=None, subsample=1, verbosity=1)"
      ]
     },
     "execution_count": 52,
     "metadata": {},
     "output_type": "execute_result"
    }
   ],
   "source": [
    "model = xgb.XGBClassifier(n_estimators=100)\n",
    "model.fit(x_adv[numerical_ft], y_adv)"
   ]
  },
  {
   "cell_type": "code",
   "execution_count": null,
   "metadata": {},
   "outputs": [],
   "source": [
    "y_pred_adv = model.predict_proba(x_adv[numerical_ft])\n",
    "score = roc_auc_score(y_adv, y_pred_adv[:, 1])\n",
    "print(round(score, 4))"
   ]
  },
  {
   "cell_type": "code",
   "execution_count": null,
   "metadata": {},
   "outputs": [],
   "source": [
    "y_pred = model.predict_proba(x_train[numerical_ft])\n",
    "y_pred"
   ]
  },
  {
   "cell_type": "code",
   "execution_count": null,
   "metadata": {},
   "outputs": [],
   "source": [
    "pd.cut(\n",
    "    y_pred[:, 1], bins=np.arange(0, 1.01, 0.1)\n",
    ").value_counts().sort_index()"
   ]
  },
  {
   "cell_type": "markdown",
   "metadata": {},
   "source": [
    "**Вывод**\n",
    "* Данные на трейне и тесте совсем не совпадают, что подтверждает roc_auc_score = 1.0 Модель идеально отличает данные трейна и теста"
   ]
  },
  {
   "cell_type": "markdown",
   "metadata": {},
   "source": [
    "**Задание 5:** сделать KFold / StratifiedKFold валидацию (на ваше усмотрение), оценить получаемые качество и разброс по метрике качества. Сделать выводы об устойчивости кросс-валидации, сходимости оценки на кросс-валидации и отложенном наборе данных; Оценить качество на ЛБ, сделать выводы."
   ]
  },
  {
   "cell_type": "code",
   "execution_count": 36,
   "metadata": {},
   "outputs": [
    {
     "name": "stdout",
     "output_type": "stream",
     "text": [
      "0:\ttest: 0.6518597\tbest: 0.6518597 (0)\ttotal: 895ms\tremaining: 29m 49s\n",
      "100:\ttest: 0.8631351\tbest: 0.8631351 (100)\ttotal: 1m 14s\tremaining: 23m 21s\n",
      "200:\ttest: 0.8797378\tbest: 0.8797378 (200)\ttotal: 2m 28s\tremaining: 22m 7s\n",
      "300:\ttest: 0.8874365\tbest: 0.8874365 (300)\ttotal: 3m 39s\tremaining: 20m 40s\n",
      "400:\ttest: 0.8919986\tbest: 0.8919986 (400)\ttotal: 4m 52s\tremaining: 19m 25s\n",
      "500:\ttest: 0.8934776\tbest: 0.8934776 (500)\ttotal: 6m 2s\tremaining: 18m 4s\n",
      "600:\ttest: 0.8942905\tbest: 0.8942905 (600)\ttotal: 7m 11s\tremaining: 16m 44s\n",
      "700:\ttest: 0.8953205\tbest: 0.8953206 (697)\ttotal: 8m 19s\tremaining: 15m 25s\n",
      "800:\ttest: 0.8960420\tbest: 0.8960422 (799)\ttotal: 9m 27s\tremaining: 14m 9s\n",
      "900:\ttest: 0.8970305\tbest: 0.8970305 (900)\ttotal: 10m 34s\tremaining: 12m 54s\n",
      "1000:\ttest: 0.8991212\tbest: 0.8991246 (999)\ttotal: 11m 45s\tremaining: 11m 44s\n",
      "1100:\ttest: 0.9008175\tbest: 0.9008175 (1100)\ttotal: 12m 57s\tremaining: 10m 35s\n",
      "1200:\ttest: 0.9014755\tbest: 0.9014755 (1200)\ttotal: 14m 7s\tremaining: 9m 23s\n",
      "1300:\ttest: 0.9019738\tbest: 0.9019742 (1298)\ttotal: 15m 16s\tremaining: 8m 12s\n",
      "1400:\ttest: 0.9027063\tbest: 0.9027063 (1400)\ttotal: 16m 24s\tremaining: 7m\n",
      "1500:\ttest: 0.9036433\tbest: 0.9036433 (1500)\ttotal: 17m 34s\tremaining: 5m 50s\n",
      "1600:\ttest: 0.9046153\tbest: 0.9046157 (1598)\ttotal: 18m 44s\tremaining: 4m 40s\n",
      "1700:\ttest: 0.9052976\tbest: 0.9052976 (1700)\ttotal: 19m 54s\tremaining: 3m 29s\n",
      "1800:\ttest: 0.9059316\tbest: 0.9059316 (1800)\ttotal: 21m 3s\tremaining: 2m 19s\n",
      "1900:\ttest: 0.9063335\tbest: 0.9063335 (1900)\ttotal: 22m 11s\tremaining: 1m 9s\n",
      "1999:\ttest: 0.9071864\tbest: 0.9071864 (1999)\ttotal: 23m 20s\tremaining: 0us\n"
     ]
    }
   ],
   "source": [
    "cv_data = cb.cv(\n",
    "    cb.Pool(data, target, cat_features=categorical_features),\n",
    "    cb_params,\n",
    ")"
   ]
  },
  {
   "cell_type": "code",
   "execution_count": null,
   "metadata": {},
   "outputs": [],
   "source": []
  },
  {
   "cell_type": "code",
   "execution_count": null,
   "metadata": {},
   "outputs": [],
   "source": []
  },
  {
   "cell_type": "code",
   "execution_count": null,
   "metadata": {},
   "outputs": [],
   "source": []
  },
  {
   "cell_type": "code",
   "execution_count": null,
   "metadata": {},
   "outputs": [],
   "source": []
  },
  {
   "cell_type": "code",
   "execution_count": null,
   "metadata": {},
   "outputs": [],
   "source": []
  }
 ],
 "metadata": {
  "kernelspec": {
   "display_name": "Python 3",
   "language": "python",
   "name": "python3"
  },
  "language_info": {
   "codemirror_mode": {
    "name": "ipython",
    "version": 3
   },
   "file_extension": ".py",
   "mimetype": "text/x-python",
   "name": "python",
   "nbconvert_exporter": "python",
   "pygments_lexer": "ipython3",
   "version": "3.7.1"
  }
 },
 "nbformat": 4,
 "nbformat_minor": 4
}
