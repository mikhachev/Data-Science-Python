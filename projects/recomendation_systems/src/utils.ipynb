{
 "cells": [
  {
   "cell_type": "code",
   "execution_count": null,
   "metadata": {},
   "outputs": [],
   "source": [
    "# 1. Удаление товаров, со средней ценой < 1$\n",
    "    data = data[data.sales_value / data.quantity < 1]\n",
    "    \n",
    "    # 2. Удаление товаров со соедней ценой > 30$\n",
    "    data = data[data.sales_value / data.quantity < 30]\n",
    "    \n",
    "    # 3. Придумайте свой фильтр\n",
    "    data = data[data['retail_disc'] < 0]\n",
    "    # Уберем товары со скидкой больше 30% (если купили не только из-за цены, то будут встречаться еще без дисконта) \n",
    "    data = data[data['retail_disc'] > -30]\n",
    "    # Удаление 0.5% самых невыгодных с точки зрения объема продаж (количество х средняя цена) товаров\n",
    "#     data['sold'] = data.groupby('item_id').quantity.transform('sum') \n",
    "#     data['revenue'] = data['sold'] * data['price']\n",
    "#     max_revenue = data['revenue'].max()\n",
    "#     min_revenue = data['revenue'].min()\n",
    "#     revenue_treshold = min_revenue + 0.005 * (max_revenue - min_revenue)\n",
    "#     data = data[data['revenue'] > revenue_treshold]\n",
    "#     data = data.drop(['price', 'sold', 'revenue'], axis=1)\n",
    "    # Если товар покупает более половины пользователей, то его рекомендовать не стоит, так как его и так купят.\n",
    "    popular = data.groupby('item_id')['user_id'].nunique().reset_index()\n",
    "    users_count = data['user_id'].nunique()\n",
    "    popular['user_id'] = popular['user_id'].apply(lambda x: x / users_count)\n",
    "    popular.rename(columns={'user_id': 'share_unique_users'}, inplace=True)\n",
    "    popular.sort_values(by='share_unique_users', ascending=False, inplace=True)\n",
    "    top_popular = popular[popular['share_unique_users'] > 0.5].item_id.tolist()\n",
    "    data = data[~data['item_id'].isin(top_popular)]\n",
    "    \n",
    "    \n",
    "    # 4. Выбор топ-N самых популярных товаров (N = take_n_popular)\n",
    "    popularity_sales = data.groupby('item_id')['sales_value'].sum().reset_index()\n",
    "    popularity_sales.sort_values('sales_value', ascending=False, inplace=True)\n",
    "    n_popular = popularity_sales['item_id'][:take_n_popular].tolist()\n",
    "\n",
    "    # Заведем фиктивный item_id (если юзер не покупал товары из топ-5000, то он \"купил\" такой товар)\n",
    "    data.loc[~data['item_id'].isin(n_popular), 'item_id'] = 9999999\n",
    "    n_popular.append(9999999)\n",
    "    \n",
    "    data = data[data['item_id'].isin(n_popular)]"
   ]
  }
 ],
 "metadata": {
  "kernelspec": {
   "display_name": "Python 3",
   "language": "python",
   "name": "python3"
  },
  "language_info": {
   "codemirror_mode": {
    "name": "ipython",
    "version": 3
   },
   "file_extension": ".py",
   "mimetype": "text/x-python",
   "name": "python",
   "nbconvert_exporter": "python",
   "pygments_lexer": "ipython3",
   "version": "3.8.2"
  }
 },
 "nbformat": 4,
 "nbformat_minor": 4
}
