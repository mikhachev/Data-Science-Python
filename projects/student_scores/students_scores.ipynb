{
 "cells": [
  {
   "cell_type": "markdown",
   "metadata": {},
   "source": [
    "In this competition your task will be to predict the mean math exam result (from 0 to 100 points) for students of tutors in test.csv. You will be given two datasets: train.csv (contains all features and the target) and test.csv (only features).\n",
    "\n",
    "Ваша задача этом соревновании - предсказать средний балл на экзамене по математике, который получают ученики репетиторов из датасета test.csv. Вам будут даны два датасета: train.csv (содержит признаки и целевую переменную) и test.csv (только признаки).\n",
    "\n",
    "https://www.kaggle.com/c/tutors-expected-math-exam-results"
   ]
  },
  {
   "cell_type": "markdown",
   "metadata": {},
   "source": [
    "Вам нужно будет построить модель классификации/регрессии без использования sklearn!\n",
    "\n",
    "You can only use these imports:\n",
    "\n",
    "import numpy as np\n",
    "import pandas as pd\n",
    "from sklearn.model_selection import train_test_split\n",
    "import matplotlib.pyplot as plt\n",
    "import seaborn as sns"
   ]
  },
  {
   "cell_type": "code",
   "execution_count": 31,
   "metadata": {},
   "outputs": [],
   "source": [
    "import csv\n",
    "import numpy as np\n",
    "import pandas as pd\n",
    "from sklearn.model_selection import train_test_split\n",
    "from matplotlib import pyplot as plt\n",
    "import seaborn as sns\n",
    "%matplotlib inline"
   ]
  },
  {
   "cell_type": "code",
   "execution_count": 32,
   "metadata": {},
   "outputs": [],
   "source": [
    "TRAIN_PATH = 'train.csv'\n",
    "TEST_PATH = 'test.csv'"
   ]
  },
  {
   "cell_type": "code",
   "execution_count": 33,
   "metadata": {},
   "outputs": [],
   "source": [
    "#with open(FILE_TRAIN, 'r') as f_n:"
   ]
  },
  {
   "cell_type": "code",
   "execution_count": 34,
   "metadata": {},
   "outputs": [],
   "source": [
    "with open(TRAIN_PATH, 'r') as f:\n",
    "    reader = csv.reader(f, delimiter=',')\n",
    "    headers = next(reader)\n",
    "    data = np.array(list(reader)).astype(float)\n",
    "    data = data.astype(int)"
   ]
  },
  {
   "cell_type": "markdown",
   "metadata": {},
   "source": [
    "### Обзор и анализ данных <a class=\"anchor\" id=\"load_data\"></a>"
   ]
  },
  {
   "cell_type": "code",
   "execution_count": 35,
   "metadata": {},
   "outputs": [
    {
     "data": {
      "text/html": [
       "<div>\n",
       "<style scoped>\n",
       "    .dataframe tbody tr th:only-of-type {\n",
       "        vertical-align: middle;\n",
       "    }\n",
       "\n",
       "    .dataframe tbody tr th {\n",
       "        vertical-align: top;\n",
       "    }\n",
       "\n",
       "    .dataframe thead th {\n",
       "        text-align: right;\n",
       "    }\n",
       "</style>\n",
       "<table border=\"1\" class=\"dataframe\">\n",
       "  <thead>\n",
       "    <tr style=\"text-align: right;\">\n",
       "      <th></th>\n",
       "      <th>Id</th>\n",
       "      <th>age</th>\n",
       "      <th>years_of_experience</th>\n",
       "      <th>lesson_price</th>\n",
       "      <th>qualification</th>\n",
       "      <th>physics</th>\n",
       "      <th>chemistry</th>\n",
       "      <th>biology</th>\n",
       "      <th>english</th>\n",
       "      <th>geography</th>\n",
       "      <th>history</th>\n",
       "      <th>mean_exam_points</th>\n",
       "    </tr>\n",
       "  </thead>\n",
       "  <tbody>\n",
       "    <tr>\n",
       "      <th>0</th>\n",
       "      <td>0</td>\n",
       "      <td>40.0</td>\n",
       "      <td>0.0</td>\n",
       "      <td>1400.0</td>\n",
       "      <td>1.0</td>\n",
       "      <td>1.0</td>\n",
       "      <td>0.0</td>\n",
       "      <td>0.0</td>\n",
       "      <td>0.0</td>\n",
       "      <td>1.0</td>\n",
       "      <td>0.0</td>\n",
       "      <td>63.0</td>\n",
       "    </tr>\n",
       "    <tr>\n",
       "      <th>1</th>\n",
       "      <td>1</td>\n",
       "      <td>48.0</td>\n",
       "      <td>4.0</td>\n",
       "      <td>2850.0</td>\n",
       "      <td>3.0</td>\n",
       "      <td>1.0</td>\n",
       "      <td>0.0</td>\n",
       "      <td>0.0</td>\n",
       "      <td>0.0</td>\n",
       "      <td>0.0</td>\n",
       "      <td>0.0</td>\n",
       "      <td>86.0</td>\n",
       "    </tr>\n",
       "    <tr>\n",
       "      <th>2</th>\n",
       "      <td>2</td>\n",
       "      <td>39.0</td>\n",
       "      <td>0.0</td>\n",
       "      <td>1200.0</td>\n",
       "      <td>1.0</td>\n",
       "      <td>0.0</td>\n",
       "      <td>0.0</td>\n",
       "      <td>0.0</td>\n",
       "      <td>0.0</td>\n",
       "      <td>0.0</td>\n",
       "      <td>0.0</td>\n",
       "      <td>53.0</td>\n",
       "    </tr>\n",
       "    <tr>\n",
       "      <th>3</th>\n",
       "      <td>3</td>\n",
       "      <td>46.0</td>\n",
       "      <td>5.0</td>\n",
       "      <td>1400.0</td>\n",
       "      <td>1.0</td>\n",
       "      <td>0.0</td>\n",
       "      <td>0.0</td>\n",
       "      <td>0.0</td>\n",
       "      <td>0.0</td>\n",
       "      <td>0.0</td>\n",
       "      <td>0.0</td>\n",
       "      <td>56.0</td>\n",
       "    </tr>\n",
       "    <tr>\n",
       "      <th>4</th>\n",
       "      <td>4</td>\n",
       "      <td>43.0</td>\n",
       "      <td>1.0</td>\n",
       "      <td>1500.0</td>\n",
       "      <td>1.0</td>\n",
       "      <td>0.0</td>\n",
       "      <td>0.0</td>\n",
       "      <td>0.0</td>\n",
       "      <td>0.0</td>\n",
       "      <td>0.0</td>\n",
       "      <td>0.0</td>\n",
       "      <td>59.0</td>\n",
       "    </tr>\n",
       "  </tbody>\n",
       "</table>\n",
       "</div>"
      ],
      "text/plain": [
       "   Id   age  years_of_experience  lesson_price  qualification  physics  \\\n",
       "0   0  40.0                  0.0        1400.0            1.0      1.0   \n",
       "1   1  48.0                  4.0        2850.0            3.0      1.0   \n",
       "2   2  39.0                  0.0        1200.0            1.0      0.0   \n",
       "3   3  46.0                  5.0        1400.0            1.0      0.0   \n",
       "4   4  43.0                  1.0        1500.0            1.0      0.0   \n",
       "\n",
       "   chemistry  biology  english  geography  history  mean_exam_points  \n",
       "0        0.0      0.0      0.0        1.0      0.0              63.0  \n",
       "1        0.0      0.0      0.0        0.0      0.0              86.0  \n",
       "2        0.0      0.0      0.0        0.0      0.0              53.0  \n",
       "3        0.0      0.0      0.0        0.0      0.0              56.0  \n",
       "4        0.0      0.0      0.0        0.0      0.0              59.0  "
      ]
     },
     "execution_count": 35,
     "metadata": {},
     "output_type": "execute_result"
    }
   ],
   "source": [
    "df = pd.read_csv(TRAIN_PATH)\n",
    "df_test = pd.read_csv(TEST_PATH)\n",
    "df.head()"
   ]
  },
  {
   "cell_type": "code",
   "execution_count": 36,
   "metadata": {},
   "outputs": [
    {
     "data": {
      "text/plain": [
       "(10000, 12)"
      ]
     },
     "execution_count": 36,
     "metadata": {},
     "output_type": "execute_result"
    }
   ],
   "source": [
    "df.shape"
   ]
  },
  {
   "cell_type": "code",
   "execution_count": 37,
   "metadata": {},
   "outputs": [
    {
     "name": "stdout",
     "output_type": "stream",
     "text": [
      "<class 'pandas.core.frame.DataFrame'>\n",
      "RangeIndex: 10000 entries, 0 to 9999\n",
      "Data columns (total 12 columns):\n",
      " #   Column               Non-Null Count  Dtype  \n",
      "---  ------               --------------  -----  \n",
      " 0   Id                   10000 non-null  int64  \n",
      " 1   age                  10000 non-null  float64\n",
      " 2   years_of_experience  10000 non-null  float64\n",
      " 3   lesson_price         10000 non-null  float64\n",
      " 4   qualification        10000 non-null  float64\n",
      " 5   physics              10000 non-null  float64\n",
      " 6   chemistry            10000 non-null  float64\n",
      " 7   biology              10000 non-null  float64\n",
      " 8   english              10000 non-null  float64\n",
      " 9   geography            10000 non-null  float64\n",
      " 10  history              10000 non-null  float64\n",
      " 11  mean_exam_points     10000 non-null  float64\n",
      "dtypes: float64(11), int64(1)\n",
      "memory usage: 937.6 KB\n"
     ]
    }
   ],
   "source": [
    "df.info()"
   ]
  },
  {
   "cell_type": "markdown",
   "metadata": {},
   "source": [
    "**Обзор целевой переменной**"
   ]
  },
  {
   "cell_type": "code",
   "execution_count": 38,
   "metadata": {},
   "outputs": [
    {
     "data": {
      "text/plain": [
       "65.0     338\n",
       "58.0     326\n",
       "63.0     324\n",
       "67.0     317\n",
       "61.0     316\n",
       "        ... \n",
       "98.0       4\n",
       "32.0       2\n",
       "99.0       1\n",
       "100.0      1\n",
       "33.0       1\n",
       "Name: mean_exam_points, Length: 69, dtype: int64"
      ]
     },
     "execution_count": 38,
     "metadata": {},
     "output_type": "execute_result"
    }
   ],
   "source": [
    "df['mean_exam_points'].value_counts()"
   ]
  },
  {
   "cell_type": "markdown",
   "metadata": {},
   "source": [
    "**Обзор количественных признаков**"
   ]
  },
  {
   "cell_type": "code",
   "execution_count": 39,
   "metadata": {},
   "outputs": [
    {
     "data": {
      "text/html": [
       "<div>\n",
       "<style scoped>\n",
       "    .dataframe tbody tr th:only-of-type {\n",
       "        vertical-align: middle;\n",
       "    }\n",
       "\n",
       "    .dataframe tbody tr th {\n",
       "        vertical-align: top;\n",
       "    }\n",
       "\n",
       "    .dataframe thead th {\n",
       "        text-align: right;\n",
       "    }\n",
       "</style>\n",
       "<table border=\"1\" class=\"dataframe\">\n",
       "  <thead>\n",
       "    <tr style=\"text-align: right;\">\n",
       "      <th></th>\n",
       "      <th>Id</th>\n",
       "      <th>age</th>\n",
       "      <th>years_of_experience</th>\n",
       "      <th>lesson_price</th>\n",
       "      <th>qualification</th>\n",
       "      <th>physics</th>\n",
       "      <th>chemistry</th>\n",
       "      <th>biology</th>\n",
       "      <th>english</th>\n",
       "      <th>geography</th>\n",
       "      <th>history</th>\n",
       "      <th>mean_exam_points</th>\n",
       "    </tr>\n",
       "  </thead>\n",
       "  <tbody>\n",
       "    <tr>\n",
       "      <th>count</th>\n",
       "      <td>10000.00000</td>\n",
       "      <td>10000.000000</td>\n",
       "      <td>10000.000000</td>\n",
       "      <td>10000.000000</td>\n",
       "      <td>10000.000000</td>\n",
       "      <td>10000.000000</td>\n",
       "      <td>10000.000000</td>\n",
       "      <td>10000.000000</td>\n",
       "      <td>10000.000000</td>\n",
       "      <td>10000.000000</td>\n",
       "      <td>10000.000000</td>\n",
       "      <td>10000.000000</td>\n",
       "    </tr>\n",
       "    <tr>\n",
       "      <th>mean</th>\n",
       "      <td>4999.50000</td>\n",
       "      <td>45.878000</td>\n",
       "      <td>1.986800</td>\n",
       "      <td>1699.105000</td>\n",
       "      <td>1.719500</td>\n",
       "      <td>0.375000</td>\n",
       "      <td>0.132900</td>\n",
       "      <td>0.109600</td>\n",
       "      <td>0.053700</td>\n",
       "      <td>0.032100</td>\n",
       "      <td>0.019400</td>\n",
       "      <td>64.340800</td>\n",
       "    </tr>\n",
       "    <tr>\n",
       "      <th>std</th>\n",
       "      <td>2886.89568</td>\n",
       "      <td>8.043929</td>\n",
       "      <td>1.772213</td>\n",
       "      <td>524.886654</td>\n",
       "      <td>0.792264</td>\n",
       "      <td>0.484147</td>\n",
       "      <td>0.339484</td>\n",
       "      <td>0.312406</td>\n",
       "      <td>0.225436</td>\n",
       "      <td>0.176274</td>\n",
       "      <td>0.137933</td>\n",
       "      <td>13.536823</td>\n",
       "    </tr>\n",
       "    <tr>\n",
       "      <th>min</th>\n",
       "      <td>0.00000</td>\n",
       "      <td>23.000000</td>\n",
       "      <td>0.000000</td>\n",
       "      <td>200.000000</td>\n",
       "      <td>1.000000</td>\n",
       "      <td>0.000000</td>\n",
       "      <td>0.000000</td>\n",
       "      <td>0.000000</td>\n",
       "      <td>0.000000</td>\n",
       "      <td>0.000000</td>\n",
       "      <td>0.000000</td>\n",
       "      <td>32.000000</td>\n",
       "    </tr>\n",
       "    <tr>\n",
       "      <th>25%</th>\n",
       "      <td>2499.75000</td>\n",
       "      <td>40.000000</td>\n",
       "      <td>0.000000</td>\n",
       "      <td>1300.000000</td>\n",
       "      <td>1.000000</td>\n",
       "      <td>0.000000</td>\n",
       "      <td>0.000000</td>\n",
       "      <td>0.000000</td>\n",
       "      <td>0.000000</td>\n",
       "      <td>0.000000</td>\n",
       "      <td>0.000000</td>\n",
       "      <td>55.000000</td>\n",
       "    </tr>\n",
       "    <tr>\n",
       "      <th>50%</th>\n",
       "      <td>4999.50000</td>\n",
       "      <td>46.000000</td>\n",
       "      <td>2.000000</td>\n",
       "      <td>1500.000000</td>\n",
       "      <td>2.000000</td>\n",
       "      <td>0.000000</td>\n",
       "      <td>0.000000</td>\n",
       "      <td>0.000000</td>\n",
       "      <td>0.000000</td>\n",
       "      <td>0.000000</td>\n",
       "      <td>0.000000</td>\n",
       "      <td>63.000000</td>\n",
       "    </tr>\n",
       "    <tr>\n",
       "      <th>75%</th>\n",
       "      <td>7499.25000</td>\n",
       "      <td>51.000000</td>\n",
       "      <td>3.000000</td>\n",
       "      <td>2150.000000</td>\n",
       "      <td>2.000000</td>\n",
       "      <td>1.000000</td>\n",
       "      <td>0.000000</td>\n",
       "      <td>0.000000</td>\n",
       "      <td>0.000000</td>\n",
       "      <td>0.000000</td>\n",
       "      <td>0.000000</td>\n",
       "      <td>73.000000</td>\n",
       "    </tr>\n",
       "    <tr>\n",
       "      <th>max</th>\n",
       "      <td>9999.00000</td>\n",
       "      <td>68.000000</td>\n",
       "      <td>10.000000</td>\n",
       "      <td>3950.000000</td>\n",
       "      <td>4.000000</td>\n",
       "      <td>1.000000</td>\n",
       "      <td>1.000000</td>\n",
       "      <td>1.000000</td>\n",
       "      <td>1.000000</td>\n",
       "      <td>1.000000</td>\n",
       "      <td>1.000000</td>\n",
       "      <td>100.000000</td>\n",
       "    </tr>\n",
       "  </tbody>\n",
       "</table>\n",
       "</div>"
      ],
      "text/plain": [
       "                Id           age  years_of_experience  lesson_price  \\\n",
       "count  10000.00000  10000.000000         10000.000000  10000.000000   \n",
       "mean    4999.50000     45.878000             1.986800   1699.105000   \n",
       "std     2886.89568      8.043929             1.772213    524.886654   \n",
       "min        0.00000     23.000000             0.000000    200.000000   \n",
       "25%     2499.75000     40.000000             0.000000   1300.000000   \n",
       "50%     4999.50000     46.000000             2.000000   1500.000000   \n",
       "75%     7499.25000     51.000000             3.000000   2150.000000   \n",
       "max     9999.00000     68.000000            10.000000   3950.000000   \n",
       "\n",
       "       qualification       physics     chemistry       biology       english  \\\n",
       "count   10000.000000  10000.000000  10000.000000  10000.000000  10000.000000   \n",
       "mean        1.719500      0.375000      0.132900      0.109600      0.053700   \n",
       "std         0.792264      0.484147      0.339484      0.312406      0.225436   \n",
       "min         1.000000      0.000000      0.000000      0.000000      0.000000   \n",
       "25%         1.000000      0.000000      0.000000      0.000000      0.000000   \n",
       "50%         2.000000      0.000000      0.000000      0.000000      0.000000   \n",
       "75%         2.000000      1.000000      0.000000      0.000000      0.000000   \n",
       "max         4.000000      1.000000      1.000000      1.000000      1.000000   \n",
       "\n",
       "          geography       history  mean_exam_points  \n",
       "count  10000.000000  10000.000000      10000.000000  \n",
       "mean       0.032100      0.019400         64.340800  \n",
       "std        0.176274      0.137933         13.536823  \n",
       "min        0.000000      0.000000         32.000000  \n",
       "25%        0.000000      0.000000         55.000000  \n",
       "50%        0.000000      0.000000         63.000000  \n",
       "75%        0.000000      0.000000         73.000000  \n",
       "max        1.000000      1.000000        100.000000  "
      ]
     },
     "execution_count": 39,
     "metadata": {},
     "output_type": "execute_result"
    }
   ],
   "source": [
    "df.describe()"
   ]
  },
  {
   "cell_type": "code",
   "execution_count": null,
   "metadata": {},
   "outputs": [],
   "source": []
  },
  {
   "cell_type": "code",
   "execution_count": 40,
   "metadata": {},
   "outputs": [
    {
     "name": "stdout",
     "output_type": "stream",
     "text": [
      "['age', 'years_of_experience', 'lesson_price', 'qualification', 'physics', 'chemistry', 'biology', 'english', 'geography', 'history']\n"
     ]
    },
    {
     "data": {
      "image/png": "[encoded data removed]",
      "text/plain": [
       "<Figure size 720x576 with 1 Axes>"
      ]
     },
     "metadata": {
      "needs_background": "light"
     },
     "output_type": "display_data"
    }
   ],
   "source": [
    "TARGET_NAME = 'mean_exam_points'\n",
    "BASE_FEATURE_NAMES = df.columns.drop(TARGET_NAME).tolist()\n",
    "BASE_FEATURE_NAMES = BASE_FEATURE_NAMES[1:11]\n",
    "print(BASE_FEATURE_NAMES)\n",
    "corr_with_target = df[BASE_FEATURE_NAMES + [TARGET_NAME]].corr().iloc[:-1, -1].sort_values(ascending=False)\n",
    "\n",
    "plt.figure(figsize=(10, 8))\n",
    "\n",
    "sns.barplot(x=corr_with_target.values, y=corr_with_target.index)\n",
    "\n",
    "plt.title('Correlation with target variable')\n",
    "plt.show()"
   ]
  },
  {
   "cell_type": "code",
   "execution_count": 41,
   "metadata": {},
   "outputs": [
    {
     "data": {
      "image/png": "[encoded data removed]",
      "text/plain": [
       "<Figure size 1800x1440 with 2 Axes>"
      ]
     },
     "metadata": {
      "needs_background": "light"
     },
     "output_type": "display_data"
    }
   ],
   "source": [
    "plt.figure(figsize = (25,20))\n",
    "\n",
    "sns.set(font_scale=1.4)\n",
    "sns.heatmap(df[BASE_FEATURE_NAMES].corr().round(3), annot=True, linewidths=.5, cmap='GnBu')\n",
    "\n",
    "plt.title('Correlation matrix')\n",
    "plt.show()"
   ]
  },
  {
   "cell_type": "code",
   "execution_count": 42,
   "metadata": {},
   "outputs": [
    {
     "data": {
      "text/plain": [
       "<matplotlib.axes._subplots.AxesSubplot at 0x1c86310cc50>"
      ]
     },
     "execution_count": 42,
     "metadata": {},
     "output_type": "execute_result"
    },
    {
     "data": {
      "image/png": "[encoded data removed]",
      "text/plain": [
       "<Figure size 432x288 with 1 Axes>"
      ]
     },
     "metadata": {},
     "output_type": "display_data"
    }
   ],
   "source": [
    "(df['age']).plot(kind=\"hist\")"
   ]
  },
  {
   "cell_type": "code",
   "execution_count": 43,
   "metadata": {},
   "outputs": [
    {
     "data": {
      "text/plain": [
       "<matplotlib.axes._subplots.AxesSubplot at 0x1c86320b8d0>"
      ]
     },
     "execution_count": 43,
     "metadata": {},
     "output_type": "execute_result"
    },
    {
     "data": {
      "image/png": "[encoded data removed]",
      "text/plain": [
       "<Figure size 432x288 with 1 Axes>"
      ]
     },
     "metadata": {},
     "output_type": "display_data"
    }
   ],
   "source": [
    "(df['years_of_experience']).plot(kind=\"hist\")"
   ]
  },
  {
   "cell_type": "code",
   "execution_count": 44,
   "metadata": {},
   "outputs": [
    {
     "data": {
      "text/plain": [
       "<matplotlib.axes._subplots.AxesSubplot at 0x1c8630e8cc0>"
      ]
     },
     "execution_count": 44,
     "metadata": {},
     "output_type": "execute_result"
    },
    {
     "data": {
      "image/png": "[encoded data removed]",
      "text/plain": [
       "<Figure size 432x288 with 1 Axes>"
      ]
     },
     "metadata": {},
     "output_type": "display_data"
    }
   ],
   "source": [
    "(df['lesson_price']).plot(kind=\"hist\")"
   ]
  },
  {
   "cell_type": "code",
   "execution_count": 45,
   "metadata": {},
   "outputs": [
    {
     "data": {
      "text/plain": [
       "<matplotlib.axes._subplots.AxesSubplot at 0x1c862cba518>"
      ]
     },
     "execution_count": 45,
     "metadata": {},
     "output_type": "execute_result"
    },
    {
     "data": {
      "image/png": "[encoded data removed]",
      "text/plain": [
       "<Figure size 432x288 with 1 Axes>"
      ]
     },
     "metadata": {},
     "output_type": "display_data"
    }
   ],
   "source": [
    "(df['qualification']).plot(kind=\"hist\")"
   ]
  },
  {
   "cell_type": "markdown",
   "metadata": {},
   "source": [
    "### Предобработка данных"
   ]
  },
  {
   "cell_type": "markdown",
   "metadata": {},
   "source": [
    "Не обнаружено пропущенных значений и выбросов, но можно выбросить несколько признаков.А также сделать преобразования. Также не видно признаков, которые можно бы объединить для понижения размерности."
   ]
  },
  {
   "cell_type": "code",
   "execution_count": 157,
   "metadata": {},
   "outputs": [
    {
     "name": "stdout",
     "output_type": "stream",
     "text": [
      "['years_of_experience', 'lesson_price', 'qualification', 'physics', 'chemistry', 'biology', 'english']\n",
      "(10000, 7) (10000,)\n"
     ]
    }
   ],
   "source": [
    "# Теперь приведём наши данные к формату np.array\n",
    "\n",
    "FINAL_FEATURE_NAMES = BASE_FEATURE_NAMES[1:8]\n",
    "X = df[FINAL_FEATURE_NAMES].values\n",
    "y = df[TARGET_NAME].values\n",
    "print(FINAL_FEATURE_NAMES)\n",
    "print(X.shape, y.shape)"
   ]
  },
  {
   "cell_type": "code",
   "execution_count": 158,
   "metadata": {},
   "outputs": [
    {
     "data": {
      "text/html": [
       "<div>\n",
       "<style scoped>\n",
       "    .dataframe tbody tr th:only-of-type {\n",
       "        vertical-align: middle;\n",
       "    }\n",
       "\n",
       "    .dataframe tbody tr th {\n",
       "        vertical-align: top;\n",
       "    }\n",
       "\n",
       "    .dataframe thead th {\n",
       "        text-align: right;\n",
       "    }\n",
       "</style>\n",
       "<table border=\"1\" class=\"dataframe\">\n",
       "  <thead>\n",
       "    <tr style=\"text-align: right;\">\n",
       "      <th></th>\n",
       "      <th>years_of_experience</th>\n",
       "      <th>lesson_price</th>\n",
       "      <th>qualification</th>\n",
       "      <th>physics</th>\n",
       "      <th>chemistry</th>\n",
       "      <th>biology</th>\n",
       "      <th>english</th>\n",
       "    </tr>\n",
       "  </thead>\n",
       "  <tbody>\n",
       "    <tr>\n",
       "      <th>0</th>\n",
       "      <td>0.0</td>\n",
       "      <td>1400.0</td>\n",
       "      <td>1.0</td>\n",
       "      <td>1.0</td>\n",
       "      <td>0.0</td>\n",
       "      <td>0.0</td>\n",
       "      <td>0.0</td>\n",
       "    </tr>\n",
       "    <tr>\n",
       "      <th>1</th>\n",
       "      <td>4.0</td>\n",
       "      <td>2850.0</td>\n",
       "      <td>3.0</td>\n",
       "      <td>1.0</td>\n",
       "      <td>0.0</td>\n",
       "      <td>0.0</td>\n",
       "      <td>0.0</td>\n",
       "    </tr>\n",
       "    <tr>\n",
       "      <th>2</th>\n",
       "      <td>0.0</td>\n",
       "      <td>1200.0</td>\n",
       "      <td>1.0</td>\n",
       "      <td>0.0</td>\n",
       "      <td>0.0</td>\n",
       "      <td>0.0</td>\n",
       "      <td>0.0</td>\n",
       "    </tr>\n",
       "    <tr>\n",
       "      <th>3</th>\n",
       "      <td>5.0</td>\n",
       "      <td>1400.0</td>\n",
       "      <td>1.0</td>\n",
       "      <td>0.0</td>\n",
       "      <td>0.0</td>\n",
       "      <td>0.0</td>\n",
       "      <td>0.0</td>\n",
       "    </tr>\n",
       "    <tr>\n",
       "      <th>4</th>\n",
       "      <td>1.0</td>\n",
       "      <td>1500.0</td>\n",
       "      <td>1.0</td>\n",
       "      <td>0.0</td>\n",
       "      <td>0.0</td>\n",
       "      <td>0.0</td>\n",
       "      <td>0.0</td>\n",
       "    </tr>\n",
       "  </tbody>\n",
       "</table>\n",
       "</div>"
      ],
      "text/plain": [
       "   years_of_experience  lesson_price  qualification  physics  chemistry  \\\n",
       "0                  0.0        1400.0            1.0      1.0        0.0   \n",
       "1                  4.0        2850.0            3.0      1.0        0.0   \n",
       "2                  0.0        1200.0            1.0      0.0        0.0   \n",
       "3                  5.0        1400.0            1.0      0.0        0.0   \n",
       "4                  1.0        1500.0            1.0      0.0        0.0   \n",
       "\n",
       "   biology  english  \n",
       "0      0.0      0.0  \n",
       "1      0.0      0.0  \n",
       "2      0.0      0.0  \n",
       "3      0.0      0.0  \n",
       "4      0.0      0.0  "
      ]
     },
     "execution_count": 158,
     "metadata": {},
     "output_type": "execute_result"
    }
   ],
   "source": [
    "df[FINAL_FEATURE_NAMES].head()"
   ]
  },
  {
   "cell_type": "markdown",
   "metadata": {},
   "source": [
    "### Нормализация  \n",
    "забегая вперед,  нормализация price понизила оценку, поэтому отключил"
   ]
  },
  {
   "cell_type": "code",
   "execution_count": 138,
   "metadata": {},
   "outputs": [],
   "source": [
    "'''\n",
    "Xt = X.T\n",
    "Xt[1] = (Xt[1] - Xt[1].min()) / (Xt[1].max() - Xt[1].min())\n",
    "Xt[1]\n",
    "X = Xt.T'''"
   ]
  },
  {
   "cell_type": "code",
   "execution_count": 124,
   "metadata": {},
   "outputs": [
    {
     "data": {
      "text/plain": [
       "array([0.35474132, 0.72165312, 0.3041328 , ..., 0.31678493, 0.27882854,\n",
       "       0.36739345])"
      ]
     },
     "execution_count": 124,
     "metadata": {},
     "output_type": "execute_result"
    }
   ],
   "source": []
  },
  {
   "cell_type": "markdown",
   "metadata": {},
   "source": [
    "## Реализация градиентного бустинга"
   ]
  },
  {
   "cell_type": "code",
   "execution_count": 47,
   "metadata": {},
   "outputs": [],
   "source": [
    "# Реализуем класс узла\n",
    "\n",
    "class Node:\n",
    "    \n",
    "    def __init__(self, index, t, true_branch, false_branch):\n",
    "        self.index = index  # индекс признака, по которому ведется сравнение с порогом в этом узле\n",
    "        self.t = t  # значение порога\n",
    "        self.true_branch = true_branch  # поддерево, удовлетворяющее условию в узле\n",
    "        self.false_branch = false_branch  # поддерево, не удовлетворяющее условию в узле\n",
    "        "
   ]
  },
  {
   "cell_type": "code",
   "execution_count": 48,
   "metadata": {},
   "outputs": [],
   "source": [
    " \n",
    "# класс терминального узла (листа)\n",
    "class Leaf:\n",
    "    \n",
    "    def __init__(self, data, labels):\n",
    "        self.data = data\n",
    "        self.labels = labels\n",
    "        self.prediction_classification = self.predict()\n",
    "        self.prediction_regression = self.predict_reg()\n",
    "        \n",
    "    def predict(self):\n",
    "        # подсчет количества объектов разных классов\n",
    "        classes = {}  # сформируем словарь \"класс: количество объектов\"\n",
    "        for label in self.labels:\n",
    "            if label not in classes:\n",
    "                classes[label] = 0\n",
    "            classes[label] += 1\n",
    "        #  найдем класс, количество объектов которого будет максимальным в этом листе и вернем его    \n",
    "        prediction = max(classes, key=classes.get)\n",
    "        return prediction  \n",
    "\n",
    "    def predict_reg(self):\n",
    "        #  найдем значение как среднее по выборке   \n",
    "        prediction = np.mean(self.labels)\n",
    "        return prediction  "
   ]
  },
  {
   "cell_type": "code",
   "execution_count": 193,
   "metadata": {},
   "outputs": [],
   "source": [
    "# класс дерева\n",
    "class Tree: \n",
    "    \n",
    "\n",
    "    def __init__(self, max_depth=10):\n",
    "        self.max_depth = max_depth\n",
    "        self.tree = None\n",
    "\n",
    "    # Расчёт дисперсии значений\n",
    "    def dispersion(self, labels):\n",
    "        return np.std(labels)\n",
    "\n",
    "    # Расчет качества для задачи регрессии\n",
    "    def quality_regression(self, left_labels, right_labels, current_dispersion):\n",
    "\n",
    "        # доля выбоки, ушедшая в левое поддерево\n",
    "        p = float(left_labels.shape[0]) / (left_labels.shape[0] + right_labels.shape[0])\n",
    "    \n",
    "        return current_dispersion - p * self.dispersion(left_labels) - (1 - p) * self.dispersion(right_labels)\n",
    "\n",
    "    # Разбиение датасета в узле\n",
    "\n",
    "    def split(self, data, labels, index, t):\n",
    "    \n",
    "        left = np.where(data[:, index] <= t)\n",
    "        right = np.where(data[:, index] > t)\n",
    "        \n",
    "        true_data = data[left]\n",
    "        false_data = data[right]\n",
    "        true_labels = labels[left]\n",
    "        false_labels = labels[right]\n",
    "        \n",
    "        return true_data, false_data, true_labels, false_labels\n",
    "\n",
    "    \n",
    "    # Нахождение наилучшего разбиения для задачи регрессии\n",
    "    def find_best_split_regression(self, data, labels):\n",
    "    \n",
    "        #  обозначим минимальное количество объектов в узле\n",
    "        min_leaf = 10\n",
    "\n",
    "        current_dispersion = self.dispersion(labels)\n",
    "\n",
    "        best_quality = 0\n",
    "        best_t = None\n",
    "        best_index = None\n",
    "    \n",
    "        n_features = data.shape[1]\n",
    "    \n",
    "        for index in range(n_features):\n",
    "            # будем проверять только уникальные значения признака, исключая повторения\n",
    "            t_values = np.unique([row[index] for row in data])\n",
    "        \n",
    "            for t in t_values:\n",
    "                true_data, false_data, true_labels, false_labels = self.split(data, labels, index, t)\n",
    "                #  пропускаем разбиения, в которых в узле остается менее 5 объектов\n",
    "                if len(true_data) < min_leaf or len(false_data) < min_leaf:\n",
    "                    continue\n",
    "            \n",
    "                current_quality = self.quality_regression(true_labels, false_labels, current_dispersion)\n",
    "            \n",
    "                #  выбираем порог, на котором получается максимальный прирост качества\n",
    "                if current_quality > best_quality:\n",
    "                    best_quality, best_t, best_index = current_quality, t, index\n",
    "\n",
    "        return best_quality, best_t, best_index\n",
    "\n",
    "    \n",
    "    # Построение дерева регрессии с помощью рекурсивной функции\n",
    "    def build_tree_regression(self, data, labels, tree_depth=1, max_depth=10):\n",
    "\n",
    "        quality, t, index = self.find_best_split_regression(data, labels)\n",
    "\n",
    "        #  Базовый случай - прекращаем рекурсию, когда нет прироста в качества\n",
    "        if quality == 0:\n",
    "            return Leaf(data, labels)\n",
    "\n",
    "        # Базовый случай (2) - прекращаем рекурсию, когда достигнута максимальная глубина дерева\n",
    "        if tree_depth >= max_depth:\n",
    "            return Leaf(data, labels)\n",
    "\n",
    "        # Увеличиваем глубину дерева на 1\n",
    "        tree_depth += 1\n",
    "\n",
    "        true_data, false_data, true_labels, false_labels = self.split(data, labels, index, t)\n",
    "\n",
    "        # Рекурсивно строим два поддерева\n",
    "        true_branch = self.build_tree_regression(true_data, true_labels, tree_depth, max_depth)\n",
    "        false_branch = self.build_tree_regression(false_data, false_labels, tree_depth, max_depth)\n",
    "\n",
    "        # Возвращаем класс узла со всеми поддеревьями, то есть целого дерева\n",
    "        return Node(index, t, true_branch, false_branch)\n",
    "\n",
    "    def predict_object(self, obj, node):\n",
    "\n",
    "        #  Останавливаем рекурсию, если достигли листа\n",
    "        if isinstance(node, Leaf):\n",
    "            answer = node.prediction_regression\n",
    "            return answer\n",
    "\n",
    "        if obj[node.index] <= node.t:\n",
    "            return self.predict_object(obj, node.true_branch)\n",
    "        else:\n",
    "            return self.predict_object(obj, node.false_branch)\n",
    "\n",
    "    def predict_value(self, data):\n",
    "        val = []\n",
    "        for obj in data:\n",
    "            prediction = self.predict_object(obj, self.tree)\n",
    "            val.append(prediction)\n",
    "        return val\n",
    "\n",
    "    def fit(self, data, labels):\n",
    "        self.tree = self.build_tree_regression(data, labels, 0, self.max_depth)\n",
    "        return self"
   ]
  },
  {
   "cell_type": "code",
   "execution_count": 50,
   "metadata": {},
   "outputs": [],
   "source": [
    "class GradientBoosting:\n",
    "    \n",
    "    def __init__(self, n_trees, max_depth, coefs, eta):\n",
    "        self.n_trees = n_trees\n",
    "        self.max_depth = max_depth\n",
    "        self.coefs = coefs\n",
    "        self.eta = eta\n",
    "        self.trees = []\n",
    "\n",
    "    def bias(self, y, z):\n",
    "        return (y - z)\n",
    "\n",
    "    def fit(self, X_train, y_train):\n",
    "    \n",
    "        # Деревья будем записывать в список\n",
    "        trees = []\n",
    "    \n",
    "        for i in range(self.n_trees):\n",
    "            tree = Tree(max_depth=self.max_depth)\n",
    "\n",
    "        # инициализируем бустинг начальным алгоритмом, возвращающим ноль, \n",
    "        # поэтому первый алгоритм просто обучаем на выборке и добавляем в список\n",
    "            if len(self.trees) == 0:\n",
    "                # обучаем первое дерево на обучающей выборке\n",
    "                tree.fit(X_train, y_train)\n",
    "            else:\n",
    "                # Получим ответы на текущей композиции\n",
    "                target = self.predict(X_train)\n",
    "            \n",
    "                # алгоритмы начиная со второго обучаем на сдвиг\n",
    "                bias = self.bias(y_train, target)\n",
    "                tree.fit(X_train, bias)\n",
    "\n",
    "            self.trees.append(tree)\n",
    "        \n",
    "        return self\n",
    "\n",
    "    def predict(self, X):\n",
    "        # Реализуемый алгоритм градиентного бустинга будет инициализироваться нулевыми значениями,\n",
    "        # поэтому все деревья из списка trees_list уже являются дополнительными и при предсказании прибавляются с шагом eta\n",
    "        return np.array([sum([self.eta* coef * alg.predict_value([x])[0] for alg, coef in zip(self.trees, self.coefs)]) for x in X])"
   ]
  },
  {
   "cell_type": "code",
   "execution_count": 51,
   "metadata": {},
   "outputs": [],
   "source": [
    "def r_2(y_pred, y_true):\n",
    "    numerator = ((y_true - y_pred) ** 2).sum(axis=0, dtype=np.float64)\n",
    "    denominator = ((y_true - np.average(y_true)) ** 2).sum(axis=0,\n",
    "                                                          dtype=np.float64)\n",
    "    return 1 - (numerator / denominator)"
   ]
  },
  {
   "cell_type": "markdown",
   "metadata": {},
   "source": []
  },
  {
   "cell_type": "code",
   "execution_count": 185,
   "metadata": {},
   "outputs": [
    {
     "data": {
      "text/plain": [
       "' \\nРазбиение на обучающий и валидационный датасеты\\nto_choice = list(range(X.shape[0]))\\nnp.random.seed(seed=42)\\ntrain_ids = np.random.choice(to_choice, size=int(0.7*len(to_choice)))\\ntrain_data = X[train_ids]\\ntrain_labels = y[train_ids]\\ntrain_data.insert(train_labels)\\nprint(len(train_data))\\n#print(train_data)\\n# Получим ответы на текущей выбранной композиции\\n#target = gb_predict(X_train[ids], trees, coefs, eta)\\n     \\ntrain_data, test_data, train_labels, test_labels = train_test_split(X, y, \\n                                                                    test_size = 0.3,\\n                                                                    random_state = 1)'"
      ]
     },
     "execution_count": 185,
     "metadata": {},
     "output_type": "execute_result"
    }
   ],
   "source": [
    "''' \n",
    "Разбиение на обучающий и валидационный датасеты\n",
    "to_choice = list(range(X.shape[0]))\n",
    "np.random.seed(seed=42)\n",
    "train_ids = np.random.choice(to_choice, size=int(0.7*len(to_choice)))\n",
    "train_data = X[train_ids]\n",
    "train_labels = y[train_ids]\n",
    "train_data.insert(train_labels)\n",
    "print(len(train_data))\n",
    "#print(train_data)\n",
    "# Получим ответы на текущей выбранной композиции\n",
    "#target = gb_predict(X_train[ids], trees, coefs, eta)\n",
    "     \n",
    "train_data, test_data, train_labels, test_labels = train_test_split(X, y, \n",
    "                                                                    test_size = 0.3,\n",
    "                                                                    random_state = 1)'''  \n",
    "                                                                    "
   ]
  },
  {
   "cell_type": "code",
   "execution_count": 190,
   "metadata": {},
   "outputs": [],
   "source": [
    "# Число деревьев в ансамбле\n",
    "n_trees = 20\n",
    "\n",
    "# для простоты примем коэффициенты равными 1\n",
    "coefs = [1] * n_trees\n",
    "\n",
    "# Максимальная глубина деревьев\n",
    "max_depth = 5\n",
    "\n",
    "# Шаг\n",
    "eta = 1\n",
    "\n",
    "train_data, test_data, train_labels, test_labels = train_test_split(X, y, \n",
    "                                                                    test_size = 0.3,\n",
    "                                                                    random_state = 100)"
   ]
  },
  {
   "cell_type": "code",
   "execution_count": 194,
   "metadata": {},
   "outputs": [],
   "source": [
    "gb = GradientBoosting(n_trees, max_depth, coefs, eta)\n",
    "gb.fit(train_data, train_labels)\n",
    "train_answers = gb.predict(train_data)\n",
    "test_answers = gb.predict(test_data)"
   ]
  },
  {
   "cell_type": "code",
   "execution_count": 195,
   "metadata": {},
   "outputs": [
    {
     "data": {
      "text/plain": [
       "0.786551544741422"
      ]
     },
     "execution_count": 195,
     "metadata": {},
     "output_type": "execute_result"
    }
   ],
   "source": [
    "r_2(test_answers, test_labels)"
   ]
  },
  {
   "cell_type": "code",
   "execution_count": 180,
   "metadata": {},
   "outputs": [
    {
     "data": {
      "text/plain": [
       "<__main__.GradientBoosting at 0x1c8654a5358>"
      ]
     },
     "execution_count": 180,
     "metadata": {},
     "output_type": "execute_result"
    }
   ],
   "source": [
    "#Обучение на полной выборке\n",
    "gb_final = GradientBoosting(n_trees, max_depth, coefs, eta)\n",
    "gb_final.fit(X, y)"
   ]
  },
  {
   "cell_type": "markdown",
   "metadata": {},
   "source": [
    "### Предсказания для тестового датасета"
   ]
  },
  {
   "cell_type": "code",
   "execution_count": 145,
   "metadata": {},
   "outputs": [
    {
     "data": {
      "text/plain": [
       "'\\nXt = X_test.T\\nXt[1] = (Xt[1] - Xt[1].min()) / (Xt[1].max() - Xt[1].min())\\nXt[1]\\nX_test = Xt.T'"
      ]
     },
     "execution_count": 145,
     "metadata": {},
     "output_type": "execute_result"
    }
   ],
   "source": [
    "X_test = df_test[FINAL_FEATURE_NAMES].values\n",
    "'''\n",
    "Xt = X_test.T\n",
    "Xt[1] = (Xt[1] - Xt[1].min()) / (Xt[1].max() - Xt[1].min())\n",
    "Xt[1]\n",
    "X_test = Xt.T'''"
   ]
  },
  {
   "cell_type": "code",
   "execution_count": 181,
   "metadata": {},
   "outputs": [
    {
     "name": "stdout",
     "output_type": "stream",
     "text": [
      "[55.63475485 62.02798442 50.07671613 ... 54.21761311 64.98201711\n",
      " 70.36659992]\n"
     ]
    }
   ],
   "source": [
    "test_pred = gb_final.predict(X_test)\n",
    "print(test_pred)"
   ]
  },
  {
   "cell_type": "code",
   "execution_count": 183,
   "metadata": {},
   "outputs": [],
   "source": [
    "submissions = pd.concat([df_test['Id'], pd.Series(test_pred)], axis=1)\n",
    "submissions = submissions.rename(columns={0: 'mean_exam_points'})"
   ]
  },
  {
   "cell_type": "code",
   "execution_count": 184,
   "metadata": {},
   "outputs": [],
   "source": [
    "submissions.to_csv('EMikhachev_predictions.csv',index=None)"
   ]
  },
  {
   "cell_type": "code",
   "execution_count": null,
   "metadata": {},
   "outputs": [],
   "source": [
    "# Итоговый результат 0.78136"
   ]
  }
 ],
 "metadata": {
  "kernelspec": {
   "display_name": "Python 3",
   "language": "python",
   "name": "python3"
  },
  "language_info": {
   "codemirror_mode": {
    "name": "ipython",
    "version": 3
   },
   "file_extension": ".py",
   "mimetype": "text/x-python",
   "name": "python",
   "nbconvert_exporter": "python",
   "pygments_lexer": "ipython3",
   "version": "3.7.3"
  }
 },
 "nbformat": 4,
 "nbformat_minor": 2
}
