{
 "cells": [
  {
   "cell_type": "markdown",
   "metadata": {},
   "source": [
    "# Создание первого чатбота"
   ]
  },
  {
   "cell_type": "markdown",
   "metadata": {},
   "source": [
    "Чат-бот— это программа, которая имитирует реальный разговор с пользователем. Чат-боты позволяют общаться с помощью текстовых или аудио сообщений на сайтах, в мессенджерах, мобильных приложениях "
   ]
  },
  {
   "cell_type": "markdown",
   "metadata": {},
   "source": []
  },
  {
   "cell_type": "markdown",
   "metadata": {},
   "source": [
    "Устанавливаем библиотеку python-telegram-bot. Ссылка на документацию https://github.com/python-telegram-bot/python-telegram-bot"
   ]
  },
  {
   "cell_type": "code",
   "execution_count": 1,
   "metadata": {},
   "outputs": [
    {
     "name": "stdout",
     "output_type": "stream",
     "text": [
      "Collecting python-telegram-bot\n",
      "  Downloading python_telegram_bot-13.0-py2.py3-none-any.whl (404 kB)\n",
      "Collecting APScheduler==3.6.3\n",
      "  Downloading APScheduler-3.6.3-py2.py3-none-any.whl (58 kB)\n",
      "Requirement already satisfied, skipping upgrade: certifi in c:\\programdata\\anaconda3\\lib\\site-packages (from python-telegram-bot) (2020.6.20)\n",
      "Requirement already satisfied, skipping upgrade: decorator>=4.4.0 in c:\\programdata\\anaconda3\\lib\\site-packages (from python-telegram-bot) (4.4.2)\n",
      "Requirement already satisfied, skipping upgrade: tornado>=5.1 in c:\\programdata\\anaconda3\\lib\\site-packages (from python-telegram-bot) (6.0.4)\n",
      "Requirement already satisfied, skipping upgrade: cryptography in c:\\programdata\\anaconda3\\lib\\site-packages (from python-telegram-bot) (2.9.2)\n",
      "Requirement already satisfied, skipping upgrade: setuptools>=0.7 in c:\\programdata\\anaconda3\\lib\\site-packages (from APScheduler==3.6.3->python-telegram-bot) (49.2.0.post20200714)\n",
      "Requirement already satisfied, skipping upgrade: six>=1.4.0 in c:\\programdata\\anaconda3\\lib\\site-packages (from APScheduler==3.6.3->python-telegram-bot) (1.15.0)\n",
      "Collecting tzlocal>=1.2\n",
      "  Downloading tzlocal-2.1-py2.py3-none-any.whl (16 kB)\n",
      "Requirement already satisfied, skipping upgrade: pytz in c:\\programdata\\anaconda3\\lib\\site-packages (from APScheduler==3.6.3->python-telegram-bot) (2020.1)\n",
      "Requirement already satisfied, skipping upgrade: cffi!=1.11.3,>=1.8 in c:\\programdata\\anaconda3\\lib\\site-packages (from cryptography->python-telegram-bot) (1.14.0)\n",
      "Requirement already satisfied, skipping upgrade: pycparser in c:\\programdata\\anaconda3\\lib\\site-packages (from cffi!=1.11.3,>=1.8->cryptography->python-telegram-bot) (2.20)\n",
      "Installing collected packages: tzlocal, APScheduler, python-telegram-bot\n",
      "Successfully installed APScheduler-3.6.3 python-telegram-bot-13.0 tzlocal-2.1\n"
     ]
    }
   ],
   "source": [
    "!pip install python-telegram-bot --upgrade"
   ]
  },
  {
   "cell_type": "code",
   "execution_count": 1,
   "metadata": {},
   "outputs": [],
   "source": [
    "import os\n",
    "import logging\n",
    "from telegram import Update\n",
    "from telegram.ext import Updater, CommandHandler, MessageHandler, Filters, CallbackContext\n",
    "\n",
    "import dialogflow"
   ]
  },
  {
   "cell_type": "markdown",
   "metadata": {},
   "source": [
    "Done! Congratulations on your new bot. You will find it at t.me/Evm_gb_bot. You can now add a description, about section and profile picture for your bot, see /help for a list of commands. By the way, when you've finished creating your cool bot, ping our Bot Support if you want a better username for it. Just make sure the bot is fully operational before you do this.\n",
    "\n",
    "Use this token to access the HTTP API:\n",
    "1486721342:AAFR7RPnqZHHZSjmRsBmQqaM2Kb5t8bJaes\n",
    "Keep your token secure and store it safely, it can be used by anyone to control your bot.\n",
    "\n",
    "For a description of the Bot API, see this page: https://core.telegram.org/bots/api"
   ]
  },
  {
   "cell_type": "code",
   "execution_count": 2,
   "metadata": {},
   "outputs": [],
   "source": [
    "updater = Updater(\"1486721342:AAFR7RPnqZHHZSjmRsBmQqaM2Kb5t8bJaes\", use_context=True)  # Токен API к Telegram\n",
    "dispatcher = updater.dispatcher\n",
    "os.environ[\"GOOGLE_APPLICATION_CREDENTIALS\"] = 'newbot-cfin-91c1d9900dfd.json'# скачнный JSON\n",
    "\n",
    "\n",
    "DIALOGFLOW_PROJECT_ID = 'newbot-cfin' #PROJECT ID из DialogFlow \n",
    "DIALOGFLOW_LANGUAGE_CODE = 'ru' # язык\n",
    "SESSION_ID = 'Evm_gb_bot'  # ID бота из телеграма"
   ]
  },
  {
   "cell_type": "markdown",
   "metadata": {},
   "source": [
    "Переписываем функцию textMessage"
   ]
  },
  {
   "cell_type": "code",
   "execution_count": 3,
   "metadata": {},
   "outputs": [],
   "source": [
    "def startCommand1(update: Update, context: CallbackContext):\n",
    "    update.message.reply_text('Добрый день!')\n",
    "\n",
    "    \n",
    "def textMessage1(update: Update, context: CallbackContext):\n",
    "    session_client = dialogflow.SessionsClient()\n",
    "    session = session_client.session_path(DIALOGFLOW_PROJECT_ID, SESSION_ID)\n",
    "    text_input = dialogflow.types.TextInput(text=update.message.text , language_code=DIALOGFLOW_LANGUAGE_CODE)\n",
    "    query_input = dialogflow.types.QueryInput(text=text_input)\n",
    "    \n",
    "    try:\n",
    "        response = session_client.detect_intent(session=session, query_input=query_input)\n",
    "    except InvalidArgument:\n",
    "         raise\n",
    "\n",
    "    text = response.query_result.fulfillment_text\n",
    "    if text:\n",
    "        update.message.reply_text(response.query_result.fulfillment_text)\n",
    "    else:\n",
    "        update.message.reply_text('Что?')"
   ]
  },
  {
   "cell_type": "code",
   "execution_count": 4,
   "metadata": {},
   "outputs": [],
   "source": [
    "# on different commands - answer in Telegram\n",
    "dispatcher.add_handler(CommandHandler(\"start\", startCommand1))\n",
    "dispatcher.add_handler(MessageHandler(Filters.text & ~Filters.command, textMessage1))\n",
    "\n",
    "# Start the Bot\n",
    "updater.start_polling()\n",
    "updater.idle()"
   ]
  },
  {
   "cell_type": "code",
   "execution_count": null,
   "metadata": {},
   "outputs": [],
   "source": []
  },
  {
   "cell_type": "code",
   "execution_count": null,
   "metadata": {},
   "outputs": [],
   "source": []
  },
  {
   "cell_type": "code",
   "execution_count": null,
   "metadata": {},
   "outputs": [],
   "source": []
  },
  {
   "cell_type": "code",
   "execution_count": null,
   "metadata": {},
   "outputs": [],
   "source": []
  }
 ],
 "metadata": {
  "kernelspec": {
   "display_name": "Python 3",
   "language": "python",
   "name": "python3"
  },
  "language_info": {
   "codemirror_mode": {
    "name": "ipython",
    "version": 3
   },
   "file_extension": ".py",
   "mimetype": "text/x-python",
   "name": "python",
   "nbconvert_exporter": "python",
   "pygments_lexer": "ipython3",
   "version": "3.8.3"
  }
 },
 "nbformat": 4,
 "nbformat_minor": 4
}
