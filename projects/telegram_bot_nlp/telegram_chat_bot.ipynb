{
  "nbformat": 4,
  "nbformat_minor": 0,
  "metadata": {
    "kernelspec": {
      "display_name": "Python 3",
      "language": "python",
      "name": "python3"
    },
    "language_info": {
      "codemirror_mode": {
        "name": "ipython",
        "version": 3
      },
      "file_extension": ".py",
      "mimetype": "text/x-python",
      "name": "python",
      "nbconvert_exporter": "python",
      "pygments_lexer": "ipython3",
      "version": "3.8.3"
    },
    "colab": {
      "name": "my_chat-bot.ipynb",
      "provenance": [],
      "collapsed_sections": []
    }
  },
  "cells": [
    {
      "cell_type": "markdown",
      "metadata": {
        "id": "jMzH9tVrt4dN"
      },
      "source": [
        "Устанавливаем библиотеку python-telegram-bot. Ссылка на документацию https://github.com/python-telegram-bot/python-telegram-bot"
      ]
    },
    {
      "cell_type": "code",
      "metadata": {
        "colab": {
          "base_uri": "https://localhost:8080/"
        },
        "id": "ep1wUfJjt4dN",
        "outputId": "aebc370b-4edc-43bf-c098-e4db58656d5a"
      },
      "source": [
        "!pip install python-telegram-bot --upgrade"
      ],
      "execution_count": 19,
      "outputs": [
        {
          "output_type": "stream",
          "text": [
            "Requirement already up-to-date: python-telegram-bot in /usr/local/lib/python3.6/dist-packages (13.1)\n",
            "Requirement already satisfied, skipping upgrade: decorator>=4.4.0 in /usr/local/lib/python3.6/dist-packages (from python-telegram-bot) (4.4.2)\n",
            "Requirement already satisfied, skipping upgrade: tornado>=5.1 in /usr/local/lib/python3.6/dist-packages (from python-telegram-bot) (5.1.1)\n",
            "Requirement already satisfied, skipping upgrade: pytz>=2018.6 in /usr/local/lib/python3.6/dist-packages (from python-telegram-bot) (2018.9)\n",
            "Requirement already satisfied, skipping upgrade: cryptography in /usr/local/lib/python3.6/dist-packages (from python-telegram-bot) (3.2.1)\n",
            "Requirement already satisfied, skipping upgrade: certifi in /usr/local/lib/python3.6/dist-packages (from python-telegram-bot) (2020.11.8)\n",
            "Requirement already satisfied, skipping upgrade: APScheduler==3.6.3 in /usr/local/lib/python3.6/dist-packages (from python-telegram-bot) (3.6.3)\n",
            "Requirement already satisfied, skipping upgrade: six>=1.4.1 in /usr/local/lib/python3.6/dist-packages (from cryptography->python-telegram-bot) (1.15.0)\n",
            "Requirement already satisfied, skipping upgrade: cffi!=1.11.3,>=1.8 in /usr/local/lib/python3.6/dist-packages (from cryptography->python-telegram-bot) (1.14.3)\n",
            "Requirement already satisfied, skipping upgrade: setuptools>=0.7 in /usr/local/lib/python3.6/dist-packages (from APScheduler==3.6.3->python-telegram-bot) (50.3.2)\n",
            "Requirement already satisfied, skipping upgrade: tzlocal>=1.2 in /usr/local/lib/python3.6/dist-packages (from APScheduler==3.6.3->python-telegram-bot) (1.5.1)\n",
            "Requirement already satisfied, skipping upgrade: pycparser in /usr/local/lib/python3.6/dist-packages (from cffi!=1.11.3,>=1.8->cryptography->python-telegram-bot) (2.20)\n",
            "Requirement already up-to-date: python-telegram-bot in /usr/local/lib/python3.6/dist-packages (13.1)\n",
            "Requirement already satisfied, skipping upgrade: tornado>=5.1 in /usr/local/lib/python3.6/dist-packages (from python-telegram-bot) (5.1.1)\n",
            "Requirement already satisfied, skipping upgrade: cryptography in /usr/local/lib/python3.6/dist-packages (from python-telegram-bot) (3.2.1)\n",
            "Requirement already satisfied, skipping upgrade: certifi in /usr/local/lib/python3.6/dist-packages (from python-telegram-bot) (2020.11.8)\n",
            "Requirement already satisfied, skipping upgrade: APScheduler==3.6.3 in /usr/local/lib/python3.6/dist-packages (from python-telegram-bot) (3.6.3)\n",
            "Requirement already satisfied, skipping upgrade: decorator>=4.4.0 in /usr/local/lib/python3.6/dist-packages (from python-telegram-bot) (4.4.2)\n",
            "Requirement already satisfied, skipping upgrade: pytz>=2018.6 in /usr/local/lib/python3.6/dist-packages (from python-telegram-bot) (2018.9)\n",
            "Requirement already satisfied, skipping upgrade: cffi!=1.11.3,>=1.8 in /usr/local/lib/python3.6/dist-packages (from cryptography->python-telegram-bot) (1.14.3)\n",
            "Requirement already satisfied, skipping upgrade: six>=1.4.1 in /usr/local/lib/python3.6/dist-packages (from cryptography->python-telegram-bot) (1.15.0)\n",
            "Requirement already satisfied, skipping upgrade: tzlocal>=1.2 in /usr/local/lib/python3.6/dist-packages (from APScheduler==3.6.3->python-telegram-bot) (1.5.1)\n",
            "Requirement already satisfied, skipping upgrade: setuptools>=0.7 in /usr/local/lib/python3.6/dist-packages (from APScheduler==3.6.3->python-telegram-bot) (50.3.2)\n",
            "Requirement already satisfied, skipping upgrade: pycparser in /usr/local/lib/python3.6/dist-packages (from cffi!=1.11.3,>=1.8->cryptography->python-telegram-bot) (2.20)\n"
          ],
          "name": "stdout"
        }
      ]
    },
    {
      "cell_type": "code",
      "metadata": {
        "colab": {
          "base_uri": "https://localhost:8080/"
        },
        "id": "MlXunAq4uKyk",
        "outputId": "83a504fa-36ac-4445-ae50-35168102856c"
      },
      "source": [
        "!pip install pymorphy2\n",
        "\n"
      ],
      "execution_count": 20,
      "outputs": [
        {
          "output_type": "stream",
          "text": [
            "Requirement already satisfied: pymorphy2 in /usr/local/lib/python3.6/dist-packages (0.9.1)\n",
            "Requirement already satisfied: pymorphy2-dicts-ru<3.0,>=2.4 in /usr/local/lib/python3.6/dist-packages (from pymorphy2) (2.4.417127.4579844)\n",
            "Requirement already satisfied: dawg-python>=0.7.1 in /usr/local/lib/python3.6/dist-packages (from pymorphy2) (0.7.2)\n",
            "Requirement already satisfied: docopt>=0.6 in /usr/local/lib/python3.6/dist-packages (from pymorphy2) (0.6.2)\n",
            "Requirement already satisfied: pymorphy2 in /usr/local/lib/python3.6/dist-packages (0.9.1)\n",
            "Requirement already satisfied: docopt>=0.6 in /usr/local/lib/python3.6/dist-packages (from pymorphy2) (0.6.2)\n",
            "Requirement already satisfied: pymorphy2-dicts-ru<3.0,>=2.4 in /usr/local/lib/python3.6/dist-packages (from pymorphy2) (2.4.417127.4579844)\n",
            "Requirement already satisfied: dawg-python>=0.7.1 in /usr/local/lib/python3.6/dist-packages (from pymorphy2) (0.7.2)\n"
          ],
          "name": "stdout"
        }
      ]
    },
    {
      "cell_type": "code",
      "metadata": {
        "colab": {
          "base_uri": "https://localhost:8080/"
        },
        "id": "LiDpWtYDuNTZ",
        "outputId": "c9f247c0-c64c-4308-9ee3-e30b88dd77b1"
      },
      "source": [
        "!pip install stop_words"
      ],
      "execution_count": 21,
      "outputs": [
        {
          "output_type": "stream",
          "text": [
            "Requirement already satisfied: stop_words in /usr/local/lib/python3.6/dist-packages (2018.7.23)\n",
            "Requirement already satisfied: stop_words in /usr/local/lib/python3.6/dist-packages (2018.7.23)\n"
          ],
          "name": "stdout"
        }
      ]
    },
    {
      "cell_type": "code",
      "metadata": {
        "colab": {
          "base_uri": "https://localhost:8080/"
        },
        "id": "m01q8ILguTP5",
        "outputId": "590e2387-70bf-4a85-8e00-9c9addfee28c"
      },
      "source": [
        "!pip install annoy"
      ],
      "execution_count": 22,
      "outputs": [
        {
          "output_type": "stream",
          "text": [
            "Requirement already satisfied: annoy in /usr/local/lib/python3.6/dist-packages (1.17.0)\n",
            "Requirement already satisfied: annoy in /usr/local/lib/python3.6/dist-packages (1.17.0)\n"
          ],
          "name": "stdout"
        }
      ]
    },
    {
      "cell_type": "code",
      "metadata": {
        "colab": {
          "base_uri": "https://localhost:8080/"
        },
        "id": "v5kPxE8FuXJQ",
        "outputId": "6077d362-3391-4ad6-eea1-8209a2c0d4b6"
      },
      "source": [
        "!pip install dialogflow"
      ],
      "execution_count": 23,
      "outputs": [
        {
          "output_type": "stream",
          "text": [
            "Requirement already satisfied: dialogflow in /usr/local/lib/python3.6/dist-packages (1.1.0)\n",
            "Requirement already satisfied: google-api-core[grpc]<2.0.0dev,>=1.14.0 in /usr/local/lib/python3.6/dist-packages (from dialogflow) (1.16.0)\n",
            "Requirement already satisfied: pytz in /usr/local/lib/python3.6/dist-packages (from google-api-core[grpc]<2.0.0dev,>=1.14.0->dialogflow) (2018.9)\n",
            "Requirement already satisfied: six>=1.10.0 in /usr/local/lib/python3.6/dist-packages (from google-api-core[grpc]<2.0.0dev,>=1.14.0->dialogflow) (1.15.0)\n",
            "Requirement already satisfied: setuptools>=34.0.0 in /usr/local/lib/python3.6/dist-packages (from google-api-core[grpc]<2.0.0dev,>=1.14.0->dialogflow) (50.3.2)\n",
            "Requirement already satisfied: googleapis-common-protos<2.0dev,>=1.6.0 in /usr/local/lib/python3.6/dist-packages (from google-api-core[grpc]<2.0.0dev,>=1.14.0->dialogflow) (1.52.0)\n",
            "Requirement already satisfied: protobuf>=3.4.0 in /usr/local/lib/python3.6/dist-packages (from google-api-core[grpc]<2.0.0dev,>=1.14.0->dialogflow) (3.12.4)\n",
            "Requirement already satisfied: requests<3.0.0dev,>=2.18.0 in /usr/local/lib/python3.6/dist-packages (from google-api-core[grpc]<2.0.0dev,>=1.14.0->dialogflow) (2.23.0)\n",
            "Requirement already satisfied: google-auth<2.0dev,>=0.4.0 in /usr/local/lib/python3.6/dist-packages (from google-api-core[grpc]<2.0.0dev,>=1.14.0->dialogflow) (1.17.2)\n",
            "Requirement already satisfied: grpcio<2.0dev,>=1.8.2; extra == \"grpc\" in /usr/local/lib/python3.6/dist-packages (from google-api-core[grpc]<2.0.0dev,>=1.14.0->dialogflow) (1.33.2)\n",
            "Requirement already satisfied: certifi>=2017.4.17 in /usr/local/lib/python3.6/dist-packages (from requests<3.0.0dev,>=2.18.0->google-api-core[grpc]<2.0.0dev,>=1.14.0->dialogflow) (2020.11.8)\n",
            "Requirement already satisfied: idna<3,>=2.5 in /usr/local/lib/python3.6/dist-packages (from requests<3.0.0dev,>=2.18.0->google-api-core[grpc]<2.0.0dev,>=1.14.0->dialogflow) (2.10)\n",
            "Requirement already satisfied: chardet<4,>=3.0.2 in /usr/local/lib/python3.6/dist-packages (from requests<3.0.0dev,>=2.18.0->google-api-core[grpc]<2.0.0dev,>=1.14.0->dialogflow) (3.0.4)\n",
            "Requirement already satisfied: urllib3!=1.25.0,!=1.25.1,<1.26,>=1.21.1 in /usr/local/lib/python3.6/dist-packages (from requests<3.0.0dev,>=2.18.0->google-api-core[grpc]<2.0.0dev,>=1.14.0->dialogflow) (1.24.3)\n",
            "Requirement already satisfied: cachetools<5.0,>=2.0.0 in /usr/local/lib/python3.6/dist-packages (from google-auth<2.0dev,>=0.4.0->google-api-core[grpc]<2.0.0dev,>=1.14.0->dialogflow) (4.1.1)\n",
            "Requirement already satisfied: pyasn1-modules>=0.2.1 in /usr/local/lib/python3.6/dist-packages (from google-auth<2.0dev,>=0.4.0->google-api-core[grpc]<2.0.0dev,>=1.14.0->dialogflow) (0.2.8)\n",
            "Requirement already satisfied: rsa<5,>=3.1.4; python_version >= \"3\" in /usr/local/lib/python3.6/dist-packages (from google-auth<2.0dev,>=0.4.0->google-api-core[grpc]<2.0.0dev,>=1.14.0->dialogflow) (4.6)\n",
            "Requirement already satisfied: pyasn1<0.5.0,>=0.4.6 in /usr/local/lib/python3.6/dist-packages (from pyasn1-modules>=0.2.1->google-auth<2.0dev,>=0.4.0->google-api-core[grpc]<2.0.0dev,>=1.14.0->dialogflow) (0.4.8)\n",
            "Requirement already satisfied: dialogflow in /usr/local/lib/python3.6/dist-packages (1.1.0)\n",
            "Requirement already satisfied: google-api-core[grpc]<2.0.0dev,>=1.14.0 in /usr/local/lib/python3.6/dist-packages (from dialogflow) (1.16.0)\n",
            "Requirement already satisfied: google-auth<2.0dev,>=0.4.0 in /usr/local/lib/python3.6/dist-packages (from google-api-core[grpc]<2.0.0dev,>=1.14.0->dialogflow) (1.17.2)\n",
            "Requirement already satisfied: pytz in /usr/local/lib/python3.6/dist-packages (from google-api-core[grpc]<2.0.0dev,>=1.14.0->dialogflow) (2018.9)\n",
            "Requirement already satisfied: protobuf>=3.4.0 in /usr/local/lib/python3.6/dist-packages (from google-api-core[grpc]<2.0.0dev,>=1.14.0->dialogflow) (3.12.4)\n",
            "Requirement already satisfied: six>=1.10.0 in /usr/local/lib/python3.6/dist-packages (from google-api-core[grpc]<2.0.0dev,>=1.14.0->dialogflow) (1.15.0)\n",
            "Requirement already satisfied: requests<3.0.0dev,>=2.18.0 in /usr/local/lib/python3.6/dist-packages (from google-api-core[grpc]<2.0.0dev,>=1.14.0->dialogflow) (2.23.0)\n",
            "Requirement already satisfied: googleapis-common-protos<2.0dev,>=1.6.0 in /usr/local/lib/python3.6/dist-packages (from google-api-core[grpc]<2.0.0dev,>=1.14.0->dialogflow) (1.52.0)\n",
            "Requirement already satisfied: setuptools>=34.0.0 in /usr/local/lib/python3.6/dist-packages (from google-api-core[grpc]<2.0.0dev,>=1.14.0->dialogflow) (50.3.2)\n",
            "Requirement already satisfied: grpcio<2.0dev,>=1.8.2; extra == \"grpc\" in /usr/local/lib/python3.6/dist-packages (from google-api-core[grpc]<2.0.0dev,>=1.14.0->dialogflow) (1.33.2)\n",
            "Requirement already satisfied: cachetools<5.0,>=2.0.0 in /usr/local/lib/python3.6/dist-packages (from google-auth<2.0dev,>=0.4.0->google-api-core[grpc]<2.0.0dev,>=1.14.0->dialogflow) (4.1.1)\n",
            "Requirement already satisfied: rsa<5,>=3.1.4; python_version >= \"3\" in /usr/local/lib/python3.6/dist-packages (from google-auth<2.0dev,>=0.4.0->google-api-core[grpc]<2.0.0dev,>=1.14.0->dialogflow) (4.6)\n",
            "Requirement already satisfied: pyasn1-modules>=0.2.1 in /usr/local/lib/python3.6/dist-packages (from google-auth<2.0dev,>=0.4.0->google-api-core[grpc]<2.0.0dev,>=1.14.0->dialogflow) (0.2.8)\n",
            "Requirement already satisfied: chardet<4,>=3.0.2 in /usr/local/lib/python3.6/dist-packages (from requests<3.0.0dev,>=2.18.0->google-api-core[grpc]<2.0.0dev,>=1.14.0->dialogflow) (3.0.4)\n",
            "Requirement already satisfied: idna<3,>=2.5 in /usr/local/lib/python3.6/dist-packages (from requests<3.0.0dev,>=2.18.0->google-api-core[grpc]<2.0.0dev,>=1.14.0->dialogflow) (2.10)\n",
            "Requirement already satisfied: urllib3!=1.25.0,!=1.25.1,<1.26,>=1.21.1 in /usr/local/lib/python3.6/dist-packages (from requests<3.0.0dev,>=2.18.0->google-api-core[grpc]<2.0.0dev,>=1.14.0->dialogflow) (1.24.3)\n",
            "Requirement already satisfied: certifi>=2017.4.17 in /usr/local/lib/python3.6/dist-packages (from requests<3.0.0dev,>=2.18.0->google-api-core[grpc]<2.0.0dev,>=1.14.0->dialogflow) (2020.11.8)\n",
            "Requirement already satisfied: pyasn1>=0.1.3 in /usr/local/lib/python3.6/dist-packages (from rsa<5,>=3.1.4; python_version >= \"3\"->google-auth<2.0dev,>=0.4.0->google-api-core[grpc]<2.0.0dev,>=1.14.0->dialogflow) (0.4.8)\n"
          ],
          "name": "stdout"
        }
      ]
    },
    {
      "cell_type": "code",
      "metadata": {
        "id": "GjXjT8Vkt4dO"
      },
      "source": [
        "import os\n",
        "import logging\n",
        "from telegram import Update\n",
        "from telegram.ext import Updater, CommandHandler, MessageHandler, Filters, CallbackContext\n",
        "from pymorphy2 import MorphAnalyzer\n",
        "from tqdm.notebook import tqdm_notebook\n",
        "import dialogflow\n",
        "from stop_words import get_stop_words\n",
        "from google.colab import drive\n",
        "from gensim.models import Word2Vec, FastText\n",
        "import annoy\n",
        "import pickle\n",
        "import numpy as np\n",
        "import string\n",
        "import regex as re\n",
        "import random\n"
      ],
      "execution_count": 40,
      "outputs": []
    },
    {
      "cell_type": "code",
      "metadata": {
        "colab": {
          "base_uri": "https://localhost:8080/"
        },
        "id": "f_5wznGB2rAI",
        "outputId": "634cab0e-6cc5-4790-b056-2c4b7bd286a0"
      },
      "source": [
        "drive.mount('/content/drive/')"
      ],
      "execution_count": 41,
      "outputs": [
        {
          "output_type": "stream",
          "text": [
            "Drive already mounted at /content/drive/; to attempt to forcibly remount, call drive.mount(\"/content/drive/\", force_remount=True).\n"
          ],
          "name": "stdout"
        }
      ]
    },
    {
      "cell_type": "code",
      "metadata": {
        "id": "bp13d3anAKJ4"
      },
      "source": [
        "#!ls '/content/drive/MyDrive/Colab Notebooks/data'"
      ],
      "execution_count": 42,
      "outputs": []
    },
    {
      "cell_type": "code",
      "metadata": {
        "id": "LLSK7ky4zL0Z"
      },
      "source": [
        "#DATA_PATH = \"data/Otvety.txt\"\n",
        "#ANSWERS_PATH = 'data/prepared_answers.txt'\n",
        "FASTTEXT_MODEL_PATH = '/content/drive/MyDrive/Colab Notebooks/data/ft_model.h5'\n",
        "RAW_SENTENCES_PATH = '/content/drive/MyDrive/Colab Notebooks/data/sentences.pkl'\n",
        "INDEX_MAP_PATH = '/content/drive/MyDrive/Colab Notebooks/data/map_ind.pkl'\n",
        "FT_IND_PATH = '/content/drive/MyDrive/Colab Notebooks/data/ft_ind'\n",
        "FT_VECTOR_MAX_LEN = 100\n",
        "\n"
      ],
      "execution_count": 43,
      "outputs": []
    },
    {
      "cell_type": "code",
      "metadata": {
        "id": "Nf1dscV8MWyb"
      },
      "source": [
        "morpher = MorphAnalyzer()\n",
        "stopw = set(get_stop_words(\"ru\"))\n",
        "exclude = set(string.punctuation)"
      ],
      "execution_count": 44,
      "outputs": []
    },
    {
      "cell_type": "markdown",
      "metadata": {
        "id": "GJI2FUHou1Pc"
      },
      "source": [
        "## Подготовка и обучение FastText модели на ответах mail.ru"
      ]
    },
    {
      "cell_type": "code",
      "metadata": {
        "id": "-BHwPtf2zKeR",
        "colab": {
          "base_uri": "https://localhost:8080/",
          "height": 107
        },
        "outputId": "e851bc67-535e-4990-de44-8256846c0eef"
      },
      "source": [
        "model_FT = FastText.load(FASTTEXT_MODEL_PATH)\n",
        "\n",
        "'''\n",
        "# Создание индексов FastText\n",
        "ft_ind = annoy.AnnoyIndex(FT_VECTOR_MAX_LEN ,'angular')\n",
        "\n",
        "index_map = {}\n",
        "counter = 0\n",
        "\n",
        "with open(ANSWERS_PATH, \"r\", encoding='utf-8') as fout:\n",
        "    for line in tqdm_notebook(fin):\n",
        "        num_ft = 0\n",
        "        spls = line.split(\"\\t\")\n",
        "        index_map[counter] = spls[1]\n",
        "        question = preprocess_txt(spls[0])\n",
        "        vector_ft = np.zeros(FT_VECTOR_MAX_LEN)\n",
        "        for word in question:\n",
        "            if word in modelFT:\n",
        "                vector_ft += modelFT[word]\n",
        "                num_ft += 1\n",
        "        if num_ft > 0:\n",
        "            vector_ft = vector_ft / num_ft\n",
        "        ft_ind.add_item(counter, vector_ft)\n",
        "            \n",
        "        counter += 1\n",
        "\n",
        "# Сохранение просчитанной карты индексов\n",
        "with open(INDEX_MAP_PATH, 'wb') as fout:\n",
        "    pickle.dump(index_map, fout)\n",
        "    \n",
        "# Построение индексов на 20 деревьях \n",
        "ft_ind.build(20)\n",
        "ft_ind.save(FT_INDEX_PATH)\n",
        "'''"
      ],
      "execution_count": 45,
      "outputs": [
        {
          "output_type": "execute_result",
          "data": {
            "application/vnd.google.colaboratory.intrinsic+json": {
              "type": "string"
            },
            "text/plain": [
              "'\\n# Создание индексов FastText\\nft_ind = annoy.AnnoyIndex(FT_VECTOR_MAX_LEN ,\\'angular\\')\\n\\nindex_map = {}\\ncounter = 0\\n\\nwith open(ANSWERS_PATH, \"r\", encoding=\\'utf-8\\') as fout:\\n    for line in tqdm_notebook(fin):\\n        num_ft = 0\\n        spls = line.split(\"\\t\")\\n        index_map[counter] = spls[1]\\n        question = preprocess_txt(spls[0])\\n        vector_ft = np.zeros(FT_VECTOR_MAX_LEN)\\n        for word in question:\\n            if word in modelFT:\\n                vector_ft += modelFT[word]\\n                num_ft += 1\\n        if num_ft > 0:\\n            vector_ft = vector_ft / num_ft\\n        ft_ind.add_item(counter, vector_ft)\\n            \\n        counter += 1\\n\\n# Сохранение просчитанной карты индексов\\nwith open(INDEX_MAP_PATH, \\'wb\\') as fout:\\n    pickle.dump(index_map, fout)\\n    \\n# Построение индексов на 20 деревьях \\nft_ind.build(20)\\nft_ind.save(FT_INDEX_PATH)\\n'"
            ]
          },
          "metadata": {
            "tags": []
          },
          "execution_count": 45
        }
      ]
    },
    {
      "cell_type": "code",
      "metadata": {
        "colab": {
          "base_uri": "https://localhost:8080/"
        },
        "id": "j9F-kuZvCUPp",
        "outputId": "6ba6b8ab-2c8b-4928-9a23-a209ce5249cc"
      },
      "source": [
        "ft_ind = annoy.AnnoyIndex(FT_VECTOR_MAX_LEN, 'angular')\n",
        "ft_ind.load(FT_IND_PATH)"
      ],
      "execution_count": 46,
      "outputs": [
        {
          "output_type": "execute_result",
          "data": {
            "text/plain": [
              "True"
            ]
          },
          "metadata": {
            "tags": []
          },
          "execution_count": 46
        }
      ]
    },
    {
      "cell_type": "code",
      "metadata": {
        "id": "oboBF6EoDFwo"
      },
      "source": [
        "with open(INDEX_MAP_PATH, 'rb') as fout:\n",
        "    index_map = pickle.load(fout)"
      ],
      "execution_count": 47,
      "outputs": []
    },
    {
      "cell_type": "code",
      "metadata": {
        "id": "l589nmMSDk1Y"
      },
      "source": [
        "def preprocess_txt(line):\n",
        "    \"\"\"Препроцессинг строки\"\"\"\n",
        "    spls = \"\".join(i for i in line.strip() if i not in exclude).split()\n",
        "    spls = [morpher.parse(i.lower())[0].normal_form for i in spls]\n",
        "    spls = [i for i in spls if i not in stopw and i != \"\"]\n",
        "    return spls\n",
        "\n",
        "def get_response(question, index, model, index_map):\n",
        "    \n",
        "    \"\"\"Получение ответа из модели fast text\"\"\"\n",
        "    \n",
        "    question = preprocess_txt(question)\n",
        "    vect_ft = np.zeros(FT_VECTOR_MAX_LEN)\n",
        "    num = 0\n",
        "    for word in question:\n",
        "        if word in model:\n",
        "            vect_ft += model[word]\n",
        "            num += 1\n",
        "    if num > 0:\n",
        "        vect_ft = vect_ft / num\n",
        "    answers = index.get_nns_by_vector(vect_ft, 5) \n",
        "    return [index_map[i] for i in answers if len(index_map[i]) < 300] # \n"
      ],
      "execution_count": 48,
      "outputs": []
    },
    {
      "cell_type": "code",
      "metadata": {
        "colab": {
          "base_uri": "https://localhost:8080/"
        },
        "id": "zIvm65IADmlO",
        "outputId": "7ceafa3d-bbdc-4aba-f69a-07a579820a81"
      },
      "source": [
        "# проверка чата на \"ответах mail.ru\"\n",
        "input_text = \"Куда мы попали?\" \n",
        "r = get_response(input_text, ft_ind, model_FT, index_map)\n",
        "r"
      ],
      "execution_count": 49,
      "outputs": [
        {
          "output_type": "stream",
          "text": [
            "/usr/local/lib/python3.6/dist-packages/ipykernel_launcher.py:16: DeprecationWarning: Call to deprecated `__contains__` (Method will be removed in 4.0.0, use self.wv.__contains__() instead).\n",
            "  app.launch_new_instance()\n",
            "/usr/local/lib/python3.6/dist-packages/ipykernel_launcher.py:17: DeprecationWarning: Call to deprecated `__getitem__` (Method will be removed in 4.0.0, use self.wv.__getitem__() instead).\n"
          ],
          "name": "stderr"
        },
        {
          "output_type": "execute_result",
          "data": {
            "text/plain": [
              "['Привет!Чего случилась-заплутала или наших лиц не узнаёшь?!Туда туда родная-всегда радуемся твоему появлению!!. \\n',\n",
              " 'Дааааа! ! Скоростя у них космические!?. \\n',\n",
              " 'Это кое как.. а куда попало, это по обстоятельствам. \\n',\n",
              " 'В клоаку, тобишь в *опу.. \\n',\n",
              " 'Здраствуйте уважаемое \"оно\" )) <br>вы попали на планету зеиля (дурдом с нулевого года ) <br>))))). \\n']"
            ]
          },
          "metadata": {
            "tags": []
          },
          "execution_count": 49
        }
      ]
    },
    {
      "cell_type": "code",
      "metadata": {
        "id": "l4UW44NtM2_o"
      },
      "source": [
        "def clean(text):\n",
        "    \n",
        "    \"\"\"Очистка текста от тегов, лишних знаков препинаний, смайлов и т.д.\"\"\"\n",
        "    cl_text = random.choice(text)  # Для выбора одного из многочисленных вариантов\n",
        "    cl_text = re.sub(r'<[^>]*>','', cl_text)\n",
        "    cl_text = re.sub(r'[\\xa0]',' ', cl_text)\n",
        "    cl_text = re.sub(r'.{1,2} [\\n]','', cl_text)\n",
        "    cl_text = re.sub(r'[\\n]','', cl_text)\n",
        "    cl_text = re.sub(r'\\s[.]\\s','', cl_text)\n",
        "    cl_text = re.sub(r\"\\)\\)\\)\\)\", \"))\", cl_text)\n",
        "    cl_text = re.sub(r\"\\)\\)\", \")\", cl_text)\n",
        "    cl_text = re.sub(r\"\\) \\)\", \"))\", cl_text)\n",
        "    cl_text = re.sub(r',{2,}','', cl_text)\n",
        "    return cl_text"
      ],
      "execution_count": 50,
      "outputs": []
    },
    {
      "cell_type": "code",
      "metadata": {
        "id": "Sb2b-9fcM4Sf"
      },
      "source": [
        ""
      ],
      "execution_count": 50,
      "outputs": []
    },
    {
      "cell_type": "markdown",
      "metadata": {
        "id": "4Q8y9cwY7d_6"
      },
      "source": [
        "Настраиваем бота"
      ]
    },
    {
      "cell_type": "markdown",
      "metadata": {
        "id": "4bQ8pNWut4dO"
      },
      "source": [
        "Done! Congratulations on your new bot. You will find it at t.me/Evm_gb_bot. You can now add a description, about section and profile picture for your bot, see /help for a list of commands. By the way, when you've finished creating your cool bot, ping our Bot Support if you want a better username for it. Just make sure the bot is fully operational before you do this.\n",
        "\n",
        "Use this token to access the HTTP API:\n",
        "1486721342:AAFR7RPnqZHHZSjmRsBmQqaM2Kb5t8bJaes\n",
        "Keep your token secure and store it safely, it can be used by anyone to control your bot.\n",
        "\n",
        "For a description of the Bot API, see this page: https://core.telegram.org/bots/api"
      ]
    },
    {
      "cell_type": "code",
      "metadata": {
        "id": "dbCqrx7rt4dO"
      },
      "source": [
        "updater = Updater(\"1486721342:AAFR7RPnqZHHZSjmRsBmQqaM2Kb5t8bJaes\")  # Токен API к Telegram , use_context=True\n",
        "dispatcher = updater.dispatcher\n",
        "os.environ[\"GOOGLE_APPLICATION_CREDENTIALS\"] = '/content/drive/MyDrive/Colab Notebooks/data/newbot-cfin-91c1d9900dfd.json'# скачнный JSON\n",
        "\n",
        "\n",
        "DIALOGFLOW_PROJECT_ID = 'newbot-cfin' #PROJECT ID из DialogFlow \n",
        "DIALOGFLOW_LANGUAGE_CODE = 'ru' # язык\n",
        "SESSION_ID = 'Evm_gb_bot'  # ID бота из телеграма\n",
        "start_msg = 'Новейший и  вероятно не самый сумасшедший бот, готов ответить на большинство вопросов по-русски.'\n"
      ],
      "execution_count": 51,
      "outputs": []
    },
    {
      "cell_type": "markdown",
      "metadata": {
        "id": "IFd35wUXt4dO"
      },
      "source": [
        "Переписываем функцию textMessage"
      ]
    },
    {
      "cell_type": "code",
      "metadata": {
        "id": "eBwVK0adt4dO"
      },
      "source": [
        "def startCommand(update: Update, context: CallbackContext):\n",
        "    update.message.reply_text('Добрый день!')\n",
        "\n",
        "    \n",
        "def textMessage(update: Update, context: CallbackContext):\n",
        "    \n",
        "    '''\n",
        "    # Подлючение бота из dialogflow\n",
        "\n",
        "    session_client = dialogflow.SessionsClient()\n",
        "    session = session_client.session_path(DIALOGFLOW_PROJECT_ID, SESSION_ID)\n",
        "    text_input = dialogflow.types.TextInput(text=update.message.text , language_code=DIALOGFLOW_LANGUAGE_CODE)\n",
        "    query_input = dialogflow.types.QueryInput(text=text_input)\n",
        "    \n",
        "    try:\n",
        "        response = session_client.detect_intent(session=session, query_input=query_input)\n",
        "    except InvalidArgument:\n",
        "         raise \n",
        "\n",
        "    text = response.query_result.fulfillment_text \n",
        "    if text:\n",
        "        update.message.reply_text(response.query_result.fulfillment_text)\n",
        "    else:\n",
        "        update.message.reply_text('Попробуйте задать вопрос иначе.')\n",
        "        '''\n",
        "    input_txt = update.message.text\n",
        "    print(input_txt)\n",
        "    response = get_response(input_txt, ft_ind, model_FT, index_map)\n",
        "    response = clean(response)\n",
        "    update.message.reply_text(response)\n",
        "    print(f\"Response is: {response}\")"
      ],
      "execution_count": 52,
      "outputs": []
    },
    {
      "cell_type": "code",
      "metadata": {
        "id": "TWTSvudMt4dO",
        "colab": {
          "base_uri": "https://localhost:8080/"
        },
        "outputId": "f19b2190-6651-4750-d0fa-33b020c1171d"
      },
      "source": [
        "# on different commands - answer in Telegram\n",
        "'''\n",
        "dispatcher.add_handler(CommandHandler(\"start\", startCommand1))\n",
        "dispatcher.add_handler(MessageHandler(Filters.text & ~Filters.command, textMessage1))\n",
        "\n",
        "# Start the Bot\n",
        "updater.start_polling()\n",
        "updater.idle()'''\n",
        "\n",
        "start_command_handler = CommandHandler('start', startCommand)\n",
        "text_message_handler = MessageHandler(Filters.text, textMessage)\n",
        "# Добавляем хендлеры в диспатчер\n",
        "dispatcher.add_handler(start_command_handler)\n",
        "dispatcher.add_handler(text_message_handler)\n",
        "# Начинаем поиск обновлений\n",
        "updater.start_polling(clean=True)\n",
        "# Останавливаем бота на Ctrl + C\n",
        "updater.idle()"
      ],
      "execution_count": null,
      "outputs": [
        {
          "output_type": "stream",
          "text": [
            "Пробуем\n"
          ],
          "name": "stdout"
        },
        {
          "output_type": "stream",
          "text": [
            "/usr/local/lib/python3.6/dist-packages/ipykernel_launcher.py:16: DeprecationWarning: Call to deprecated `__contains__` (Method will be removed in 4.0.0, use self.wv.__contains__() instead).\n",
            "  app.launch_new_instance()\n",
            "/usr/local/lib/python3.6/dist-packages/ipykernel_launcher.py:17: DeprecationWarning: Call to deprecated `__getitem__` (Method will be removed in 4.0.0, use self.wv.__getitem__() instead).\n"
          ],
          "name": "stderr"
        },
        {
          "output_type": "stream",
          "text": [
            "Response is: Я бы с удовольствием - большая любительница пирогов!! ! Угостишь??\n",
            "Конечно. Как насчет малинового, с настойкой?\n",
            "Response is: Смекта )\n",
            "Блестяще). Угадай кого топил Герасим?\n",
            "Response is: так жизнь проходит судьба уносит кого-то вспомнят кого-то не\n"
          ],
          "name": "stdout"
        },
        {
          "output_type": "stream",
          "text": [
            "No error handlers are registered, logging exception.\n",
            "Traceback (most recent call last):\n",
            "  File \"/usr/local/lib/python3.6/dist-packages/telegram/ext/dispatcher.py\", line 432, in process_update\n",
            "    handler.handle_update(update, self, check, context)\n",
            "  File \"/usr/local/lib/python3.6/dist-packages/telegram/ext/handler.py\", line 156, in handle_update\n",
            "    return self.callback(update, context)\n",
            "  File \"<ipython-input-52-2797657d588b>\", line 28, in textMessage\n",
            "    response = get_response(input_txt, ft_ind, model_FT, index_map)\n",
            "  File \"<ipython-input-48-41903e3a9ab4>\", line 16, in get_response\n",
            "    if word in model:\n",
            "  File \"/usr/local/lib/python3.6/dist-packages/gensim/utils.py\", line 1422, in new_func1\n",
            "    return func(*args, **kwargs)\n",
            "  File \"/usr/local/lib/python3.6/dist-packages/gensim/models/fasttext.py\", line 710, in __contains__\n",
            "    return self.wv.__contains__(word)\n",
            "  File \"/usr/local/lib/python3.6/dist-packages/gensim/models/keyedvectors.py\", line 1930, in __contains__\n",
            "    return any(_ft_hash(ng) % self.bucket in self.hash2index for ng in char_ngrams)\n",
            "  File \"/usr/local/lib/python3.6/dist-packages/gensim/models/keyedvectors.py\", line 1930, in <genexpr>\n",
            "    return any(_ft_hash(ng) % self.bucket in self.hash2index for ng in char_ngrams)\n",
            "AttributeError: 'FastTextKeyedVectors' object has no attribute 'hash2index'\n"
          ],
          "name": "stderr"
        },
        {
          "output_type": "stream",
          "text": [
            "Как то уклончиво. Сколько км в парсеке?\n",
            "Ладно, попроще. Сколько весит слон?\n",
            "Response is: подоидет полно цветов под нее... но самое главное модель верха.... даже классно будет иаркосинии цвет...\n",
            "Твой любимый рецепт\n",
            "Response is: салат в лаваш\n",
            "Прям народный\n",
            "Response is: Дуримар а зачем тебе, подлечиться пиявками хочешь\n"
          ],
          "name": "stdout"
        }
      ]
    },
    {
      "cell_type": "code",
      "metadata": {
        "id": "X3QkDfvtt4dP"
      },
      "source": [
        ""
      ],
      "execution_count": null,
      "outputs": []
    },
    {
      "cell_type": "code",
      "metadata": {
        "id": "KI1x4OHnt4dP"
      },
      "source": [
        ""
      ],
      "execution_count": null,
      "outputs": []
    },
    {
      "cell_type": "code",
      "metadata": {
        "id": "6NgpVbxnt4dP"
      },
      "source": [
        ""
      ],
      "execution_count": null,
      "outputs": []
    },
    {
      "cell_type": "code",
      "metadata": {
        "id": "NarS5naOt4dP"
      },
      "source": [
        ""
      ],
      "execution_count": null,
      "outputs": []
    }
  ]
}