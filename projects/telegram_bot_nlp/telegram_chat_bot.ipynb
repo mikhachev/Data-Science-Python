{
  "nbformat": 4,
  "nbformat_minor": 0,
  "metadata": {
    "kernelspec": {
      "display_name": "Python 3",
      "language": "python",
      "name": "python3"
    },
    "language_info": {
      "codemirror_mode": {
        "name": "ipython",
        "version": 3
      },
      "file_extension": ".py",
      "mimetype": "text/x-python",
      "name": "python",
      "nbconvert_exporter": "python",
      "pygments_lexer": "ipython3",
      "version": "3.8.3"
    },
    "colab": {
      "name": "my_chat-bot.ipynb",
      "provenance": [],
      "collapsed_sections": []
    }
  },
  "cells": [
    {
      "cell_type": "markdown",
      "metadata": {
        "id": "XICKs7pB8scJ"
      },
      "source": [
        "# Проект создание telegram чат-бота "
      ]
    },
    {
      "cell_type": "markdown",
      "metadata": {
        "id": "jMzH9tVrt4dN"
      },
      "source": [
        "Устанавливаем библиотеку python-telegram-bot. Ссылка на документацию https://github.com/python-telegram-bot/python-telegram-bot"
      ]
    },
    {
      "cell_type": "code",
      "metadata": {
        "colab": {
          "base_uri": "https://localhost:8080/"
        },
        "id": "ep1wUfJjt4dN",
        "outputId": "fcc445dc-5253-43f3-a3f7-5c3286d5b79a"
      },
      "source": [
        "!pip install python-telegram-bot --upgrade"
      ],
      "execution_count": 1,
      "outputs": [
        {
          "output_type": "stream",
          "text": [
            "Collecting python-telegram-bot\n",
            "\u001b[?25l  Downloading https://files.pythonhosted.org/packages/cc/b3/f363e9c5c2e4690a1fd352c01263eb2938952888c09d73c824b49d288dcc/python_telegram_bot-13.1-py3-none-any.whl (422kB)\n",
            "\r\u001b[K     |▊                               | 10kB 17.2MB/s eta 0:00:01\r\u001b[K     |█▌                              | 20kB 10.3MB/s eta 0:00:01\r\u001b[K     |██▎                             | 30kB 8.4MB/s eta 0:00:01\r\u001b[K     |███                             | 40kB 6.8MB/s eta 0:00:01\r\u001b[K     |███▉                            | 51kB 4.4MB/s eta 0:00:01\r\u001b[K     |████▋                           | 61kB 4.5MB/s eta 0:00:01\r\u001b[K     |█████▍                          | 71kB 4.8MB/s eta 0:00:01\r\u001b[K     |██████▏                         | 81kB 5.1MB/s eta 0:00:01\r\u001b[K     |███████                         | 92kB 5.0MB/s eta 0:00:01\r\u001b[K     |███████▊                        | 102kB 5.2MB/s eta 0:00:01\r\u001b[K     |████████▌                       | 112kB 5.2MB/s eta 0:00:01\r\u001b[K     |█████████▎                      | 122kB 5.2MB/s eta 0:00:01\r\u001b[K     |██████████                      | 133kB 5.2MB/s eta 0:00:01\r\u001b[K     |██████████▉                     | 143kB 5.2MB/s eta 0:00:01\r\u001b[K     |███████████▋                    | 153kB 5.2MB/s eta 0:00:01\r\u001b[K     |████████████▍                   | 163kB 5.2MB/s eta 0:00:01\r\u001b[K     |█████████████▏                  | 174kB 5.2MB/s eta 0:00:01\r\u001b[K     |██████████████                  | 184kB 5.2MB/s eta 0:00:01\r\u001b[K     |██████████████▊                 | 194kB 5.2MB/s eta 0:00:01\r\u001b[K     |███████████████▌                | 204kB 5.2MB/s eta 0:00:01\r\u001b[K     |████████████████▎               | 215kB 5.2MB/s eta 0:00:01\r\u001b[K     |█████████████████               | 225kB 5.2MB/s eta 0:00:01\r\u001b[K     |█████████████████▉              | 235kB 5.2MB/s eta 0:00:01\r\u001b[K     |██████████████████▋             | 245kB 5.2MB/s eta 0:00:01\r\u001b[K     |███████████████████▍            | 256kB 5.2MB/s eta 0:00:01\r\u001b[K     |████████████████████▏           | 266kB 5.2MB/s eta 0:00:01\r\u001b[K     |█████████████████████           | 276kB 5.2MB/s eta 0:00:01\r\u001b[K     |█████████████████████▊          | 286kB 5.2MB/s eta 0:00:01\r\u001b[K     |██████████████████████▌         | 296kB 5.2MB/s eta 0:00:01\r\u001b[K     |███████████████████████▎        | 307kB 5.2MB/s eta 0:00:01\r\u001b[K     |████████████████████████        | 317kB 5.2MB/s eta 0:00:01\r\u001b[K     |████████████████████████▉       | 327kB 5.2MB/s eta 0:00:01\r\u001b[K     |█████████████████████████▋      | 337kB 5.2MB/s eta 0:00:01\r\u001b[K     |██████████████████████████▍     | 348kB 5.2MB/s eta 0:00:01\r\u001b[K     |███████████████████████████▏    | 358kB 5.2MB/s eta 0:00:01\r\u001b[K     |████████████████████████████    | 368kB 5.2MB/s eta 0:00:01\r\u001b[K     |████████████████████████████▊   | 378kB 5.2MB/s eta 0:00:01\r\u001b[K     |█████████████████████████████▌  | 389kB 5.2MB/s eta 0:00:01\r\u001b[K     |██████████████████████████████▎ | 399kB 5.2MB/s eta 0:00:01\r\u001b[K     |███████████████████████████████ | 409kB 5.2MB/s eta 0:00:01\r\u001b[K     |███████████████████████████████▉| 419kB 5.2MB/s eta 0:00:01\r\u001b[K     |████████████████████████████████| 430kB 5.2MB/s \n",
            "\u001b[?25hRequirement already satisfied, skipping upgrade: pytz>=2018.6 in /usr/local/lib/python3.6/dist-packages (from python-telegram-bot) (2018.9)\n",
            "Collecting cryptography\n",
            "\u001b[?25l  Downloading https://files.pythonhosted.org/packages/4c/a2/6565c5271a79e3c96d7a079053b4d8408a740d4bf365f0f5f244a807bd09/cryptography-3.2.1-cp35-abi3-manylinux2010_x86_64.whl (2.6MB)\n",
            "\u001b[K     |████████████████████████████████| 2.6MB 7.9MB/s \n",
            "\u001b[?25hRequirement already satisfied, skipping upgrade: certifi in /usr/local/lib/python3.6/dist-packages (from python-telegram-bot) (2020.11.8)\n",
            "Requirement already satisfied, skipping upgrade: tornado>=5.1 in /usr/local/lib/python3.6/dist-packages (from python-telegram-bot) (5.1.1)\n",
            "Requirement already satisfied, skipping upgrade: decorator>=4.4.0 in /usr/local/lib/python3.6/dist-packages (from python-telegram-bot) (4.4.2)\n",
            "Collecting APScheduler==3.6.3\n",
            "\u001b[?25l  Downloading https://files.pythonhosted.org/packages/f3/34/9ef20ed473c4fd2c3df54ef77a27ae3fc7500b16b192add4720cab8b2c09/APScheduler-3.6.3-py2.py3-none-any.whl (58kB)\n",
            "\u001b[K     |████████████████████████████████| 61kB 6.8MB/s \n",
            "\u001b[?25hRequirement already satisfied, skipping upgrade: six>=1.4.1 in /usr/local/lib/python3.6/dist-packages (from cryptography->python-telegram-bot) (1.15.0)\n",
            "Requirement already satisfied, skipping upgrade: cffi!=1.11.3,>=1.8 in /usr/local/lib/python3.6/dist-packages (from cryptography->python-telegram-bot) (1.14.3)\n",
            "Requirement already satisfied, skipping upgrade: tzlocal>=1.2 in /usr/local/lib/python3.6/dist-packages (from APScheduler==3.6.3->python-telegram-bot) (1.5.1)\n",
            "Requirement already satisfied, skipping upgrade: setuptools>=0.7 in /usr/local/lib/python3.6/dist-packages (from APScheduler==3.6.3->python-telegram-bot) (50.3.2)\n",
            "Requirement already satisfied, skipping upgrade: pycparser in /usr/local/lib/python3.6/dist-packages (from cffi!=1.11.3,>=1.8->cryptography->python-telegram-bot) (2.20)\n",
            "Installing collected packages: cryptography, APScheduler, python-telegram-bot\n",
            "Successfully installed APScheduler-3.6.3 cryptography-3.2.1 python-telegram-bot-13.1\n"
          ],
          "name": "stdout"
        }
      ]
    },
    {
      "cell_type": "code",
      "metadata": {
        "colab": {
          "base_uri": "https://localhost:8080/"
        },
        "id": "MlXunAq4uKyk",
        "outputId": "3c05ce9d-1ec4-45e4-952e-1b9cc2b08010"
      },
      "source": [
        "!pip install pymorphy2\n",
        "\n"
      ],
      "execution_count": 2,
      "outputs": [
        {
          "output_type": "stream",
          "text": [
            "Collecting pymorphy2\n",
            "\u001b[?25l  Downloading https://files.pythonhosted.org/packages/07/57/b2ff2fae3376d4f3c697b9886b64a54b476e1a332c67eee9f88e7f1ae8c9/pymorphy2-0.9.1-py3-none-any.whl (55kB)\n",
            "\r\u001b[K     |██████                          | 10kB 16.1MB/s eta 0:00:01\r\u001b[K     |███████████▉                    | 20kB 9.8MB/s eta 0:00:01\r\u001b[K     |█████████████████▊              | 30kB 8.1MB/s eta 0:00:01\r\u001b[K     |███████████████████████▋        | 40kB 7.3MB/s eta 0:00:01\r\u001b[K     |█████████████████████████████▌  | 51kB 4.4MB/s eta 0:00:01\r\u001b[K     |████████████████████████████████| 61kB 3.2MB/s \n",
            "\u001b[?25hCollecting dawg-python>=0.7.1\n",
            "  Downloading https://files.pythonhosted.org/packages/6a/84/ff1ce2071d4c650ec85745766c0047ccc3b5036f1d03559fd46bb38b5eeb/DAWG_Python-0.7.2-py2.py3-none-any.whl\n",
            "Requirement already satisfied: docopt>=0.6 in /usr/local/lib/python3.6/dist-packages (from pymorphy2) (0.6.2)\n",
            "Collecting pymorphy2-dicts-ru<3.0,>=2.4\n",
            "\u001b[?25l  Downloading https://files.pythonhosted.org/packages/3a/79/bea0021eeb7eeefde22ef9e96badf174068a2dd20264b9a378f2be1cdd9e/pymorphy2_dicts_ru-2.4.417127.4579844-py2.py3-none-any.whl (8.2MB)\n",
            "\u001b[K     |████████████████████████████████| 8.2MB 6.2MB/s \n",
            "\u001b[?25hInstalling collected packages: dawg-python, pymorphy2-dicts-ru, pymorphy2\n",
            "Successfully installed dawg-python-0.7.2 pymorphy2-0.9.1 pymorphy2-dicts-ru-2.4.417127.4579844\n"
          ],
          "name": "stdout"
        }
      ]
    },
    {
      "cell_type": "code",
      "metadata": {
        "colab": {
          "base_uri": "https://localhost:8080/"
        },
        "id": "LiDpWtYDuNTZ",
        "outputId": "e4aabf95-598e-48cd-a744-b346b9466e58"
      },
      "source": [
        "!pip install stop_words"
      ],
      "execution_count": 3,
      "outputs": [
        {
          "output_type": "stream",
          "text": [
            "Collecting stop_words\n",
            "  Downloading https://files.pythonhosted.org/packages/1c/cb/d58290804b7a4c5daa42abbbe2a93c477ae53e45541b1825e86f0dfaaf63/stop-words-2018.7.23.tar.gz\n",
            "Building wheels for collected packages: stop-words\n",
            "  Building wheel for stop-words (setup.py) ... \u001b[?25l\u001b[?25hdone\n",
            "  Created wheel for stop-words: filename=stop_words-2018.7.23-cp36-none-any.whl size=32916 sha256=1f38931d1f8288634495395dd2715cde2ecd2b6036e7dacda4d17b620b24e28c\n",
            "  Stored in directory: /root/.cache/pip/wheels/75/37/6a/2b295e03bd07290f0da95c3adb9a74ba95fbc333aa8b0c7c78\n",
            "Successfully built stop-words\n",
            "Installing collected packages: stop-words\n",
            "Successfully installed stop-words-2018.7.23\n"
          ],
          "name": "stdout"
        }
      ]
    },
    {
      "cell_type": "code",
      "metadata": {
        "colab": {
          "base_uri": "https://localhost:8080/"
        },
        "id": "m01q8ILguTP5",
        "outputId": "41ebfc2e-c28c-4c1b-b241-bda97da64be3"
      },
      "source": [
        "!pip install annoy"
      ],
      "execution_count": 4,
      "outputs": [
        {
          "output_type": "stream",
          "text": [
            "Collecting annoy\n",
            "\u001b[?25l  Downloading https://files.pythonhosted.org/packages/a1/5b/1c22129f608b3f438713b91cd880dc681d747a860afe3e8e0af86e921942/annoy-1.17.0.tar.gz (646kB)\n",
            "\r\u001b[K     |▌                               | 10kB 14.6MB/s eta 0:00:01\r\u001b[K     |█                               | 20kB 12.8MB/s eta 0:00:01\r\u001b[K     |█▌                              | 30kB 8.9MB/s eta 0:00:01\r\u001b[K     |██                              | 40kB 7.7MB/s eta 0:00:01\r\u001b[K     |██▌                             | 51kB 4.4MB/s eta 0:00:01\r\u001b[K     |███                             | 61kB 5.0MB/s eta 0:00:01\r\u001b[K     |███▌                            | 71kB 5.0MB/s eta 0:00:01\r\u001b[K     |████                            | 81kB 5.4MB/s eta 0:00:01\r\u001b[K     |████▋                           | 92kB 5.7MB/s eta 0:00:01\r\u001b[K     |█████                           | 102kB 5.8MB/s eta 0:00:01\r\u001b[K     |█████▋                          | 112kB 5.8MB/s eta 0:00:01\r\u001b[K     |██████                          | 122kB 5.8MB/s eta 0:00:01\r\u001b[K     |██████▋                         | 133kB 5.8MB/s eta 0:00:01\r\u001b[K     |███████                         | 143kB 5.8MB/s eta 0:00:01\r\u001b[K     |███████▋                        | 153kB 5.8MB/s eta 0:00:01\r\u001b[K     |████████▏                       | 163kB 5.8MB/s eta 0:00:01\r\u001b[K     |████████▋                       | 174kB 5.8MB/s eta 0:00:01\r\u001b[K     |█████████▏                      | 184kB 5.8MB/s eta 0:00:01\r\u001b[K     |█████████▋                      | 194kB 5.8MB/s eta 0:00:01\r\u001b[K     |██████████▏                     | 204kB 5.8MB/s eta 0:00:01\r\u001b[K     |██████████▋                     | 215kB 5.8MB/s eta 0:00:01\r\u001b[K     |███████████▏                    | 225kB 5.8MB/s eta 0:00:01\r\u001b[K     |███████████▋                    | 235kB 5.8MB/s eta 0:00:01\r\u001b[K     |████████████▏                   | 245kB 5.8MB/s eta 0:00:01\r\u001b[K     |████████████▊                   | 256kB 5.8MB/s eta 0:00:01\r\u001b[K     |█████████████▏                  | 266kB 5.8MB/s eta 0:00:01\r\u001b[K     |█████████████▊                  | 276kB 5.8MB/s eta 0:00:01\r\u001b[K     |██████████████▏                 | 286kB 5.8MB/s eta 0:00:01\r\u001b[K     |██████████████▊                 | 296kB 5.8MB/s eta 0:00:01\r\u001b[K     |███████████████▏                | 307kB 5.8MB/s eta 0:00:01\r\u001b[K     |███████████████▊                | 317kB 5.8MB/s eta 0:00:01\r\u001b[K     |████████████████▎               | 327kB 5.8MB/s eta 0:00:01\r\u001b[K     |████████████████▊               | 337kB 5.8MB/s eta 0:00:01\r\u001b[K     |█████████████████▎              | 348kB 5.8MB/s eta 0:00:01\r\u001b[K     |█████████████████▊              | 358kB 5.8MB/s eta 0:00:01\r\u001b[K     |██████████████████▎             | 368kB 5.8MB/s eta 0:00:01\r\u001b[K     |██████████████████▊             | 378kB 5.8MB/s eta 0:00:01\r\u001b[K     |███████████████████▎            | 389kB 5.8MB/s eta 0:00:01\r\u001b[K     |███████████████████▊            | 399kB 5.8MB/s eta 0:00:01\r\u001b[K     |████████████████████▎           | 409kB 5.8MB/s eta 0:00:01\r\u001b[K     |████████████████████▉           | 419kB 5.8MB/s eta 0:00:01\r\u001b[K     |█████████████████████▎          | 430kB 5.8MB/s eta 0:00:01\r\u001b[K     |█████████████████████▉          | 440kB 5.8MB/s eta 0:00:01\r\u001b[K     |██████████████████████▎         | 450kB 5.8MB/s eta 0:00:01\r\u001b[K     |██████████████████████▉         | 460kB 5.8MB/s eta 0:00:01\r\u001b[K     |███████████████████████▎        | 471kB 5.8MB/s eta 0:00:01\r\u001b[K     |███████████████████████▉        | 481kB 5.8MB/s eta 0:00:01\r\u001b[K     |████████████████████████▍       | 491kB 5.8MB/s eta 0:00:01\r\u001b[K     |████████████████████████▉       | 501kB 5.8MB/s eta 0:00:01\r\u001b[K     |█████████████████████████▍      | 512kB 5.8MB/s eta 0:00:01\r\u001b[K     |█████████████████████████▉      | 522kB 5.8MB/s eta 0:00:01\r\u001b[K     |██████████████████████████▍     | 532kB 5.8MB/s eta 0:00:01\r\u001b[K     |██████████████████████████▉     | 542kB 5.8MB/s eta 0:00:01\r\u001b[K     |███████████████████████████▍    | 552kB 5.8MB/s eta 0:00:01\r\u001b[K     |███████████████████████████▉    | 563kB 5.8MB/s eta 0:00:01\r\u001b[K     |████████████████████████████▍   | 573kB 5.8MB/s eta 0:00:01\r\u001b[K     |█████████████████████████████   | 583kB 5.8MB/s eta 0:00:01\r\u001b[K     |█████████████████████████████▍  | 593kB 5.8MB/s eta 0:00:01\r\u001b[K     |██████████████████████████████  | 604kB 5.8MB/s eta 0:00:01\r\u001b[K     |██████████████████████████████▍ | 614kB 5.8MB/s eta 0:00:01\r\u001b[K     |███████████████████████████████ | 624kB 5.8MB/s eta 0:00:01\r\u001b[K     |███████████████████████████████▍| 634kB 5.8MB/s eta 0:00:01\r\u001b[K     |████████████████████████████████| 645kB 5.8MB/s eta 0:00:01\r\u001b[K     |████████████████████████████████| 655kB 5.8MB/s \n",
            "\u001b[?25hBuilding wheels for collected packages: annoy\n",
            "  Building wheel for annoy (setup.py) ... \u001b[?25l\u001b[?25hdone\n",
            "  Created wheel for annoy: filename=annoy-1.17.0-cp36-cp36m-linux_x86_64.whl size=390346 sha256=63d2bf63ee6515b628d9ed1d09a099ddb33dc5785c2cac2f74fdefc8e5f9e8ff\n",
            "  Stored in directory: /root/.cache/pip/wheels/3a/c5/59/cce7e67b52c8e987389e53f917b6bb2a9d904a03246fadcb1e\n",
            "Successfully built annoy\n",
            "Installing collected packages: annoy\n",
            "Successfully installed annoy-1.17.0\n"
          ],
          "name": "stdout"
        }
      ]
    },
    {
      "cell_type": "code",
      "metadata": {
        "colab": {
          "base_uri": "https://localhost:8080/"
        },
        "id": "v5kPxE8FuXJQ",
        "outputId": "3a51cbdc-b097-47f2-dd1d-171f6004cf29"
      },
      "source": [
        "!pip install dialogflow"
      ],
      "execution_count": 5,
      "outputs": [
        {
          "output_type": "stream",
          "text": [
            "Collecting dialogflow\n",
            "\u001b[?25l  Downloading https://files.pythonhosted.org/packages/9a/02/a1a507621c981d19265390fe52222db69b2a2ff9b53ceb694d80294144c2/dialogflow-1.1.0-py2.py3-none-any.whl (354kB)\n",
            "\r\u001b[K     |█                               | 10kB 15.5MB/s eta 0:00:01\r\u001b[K     |█▉                              | 20kB 18.7MB/s eta 0:00:01\r\u001b[K     |██▊                             | 30kB 10.5MB/s eta 0:00:01\r\u001b[K     |███▊                            | 40kB 8.4MB/s eta 0:00:01\r\u001b[K     |████▋                           | 51kB 4.4MB/s eta 0:00:01\r\u001b[K     |█████▌                          | 61kB 4.8MB/s eta 0:00:01\r\u001b[K     |██████▌                         | 71kB 5.2MB/s eta 0:00:01\r\u001b[K     |███████▍                        | 81kB 5.4MB/s eta 0:00:01\r\u001b[K     |████████▎                       | 92kB 5.3MB/s eta 0:00:01\r\u001b[K     |█████████▎                      | 102kB 4.3MB/s eta 0:00:01\r\u001b[K     |██████████▏                     | 112kB 4.3MB/s eta 0:00:01\r\u001b[K     |███████████                     | 122kB 4.3MB/s eta 0:00:01\r\u001b[K     |████████████                    | 133kB 4.3MB/s eta 0:00:01\r\u001b[K     |█████████████                   | 143kB 4.3MB/s eta 0:00:01\r\u001b[K     |█████████████▉                  | 153kB 4.3MB/s eta 0:00:01\r\u001b[K     |██████████████▉                 | 163kB 4.3MB/s eta 0:00:01\r\u001b[K     |███████████████▊                | 174kB 4.3MB/s eta 0:00:01\r\u001b[K     |████████████████▋               | 184kB 4.3MB/s eta 0:00:01\r\u001b[K     |█████████████████▌              | 194kB 4.3MB/s eta 0:00:01\r\u001b[K     |██████████████████▌             | 204kB 4.3MB/s eta 0:00:01\r\u001b[K     |███████████████████▍            | 215kB 4.3MB/s eta 0:00:01\r\u001b[K     |████████████████████▎           | 225kB 4.3MB/s eta 0:00:01\r\u001b[K     |█████████████████████▎          | 235kB 4.3MB/s eta 0:00:01\r\u001b[K     |██████████████████████▏         | 245kB 4.3MB/s eta 0:00:01\r\u001b[K     |███████████████████████         | 256kB 4.3MB/s eta 0:00:01\r\u001b[K     |████████████████████████        | 266kB 4.3MB/s eta 0:00:01\r\u001b[K     |█████████████████████████       | 276kB 4.3MB/s eta 0:00:01\r\u001b[K     |█████████████████████████▉      | 286kB 4.3MB/s eta 0:00:01\r\u001b[K     |██████████████████████████▉     | 296kB 4.3MB/s eta 0:00:01\r\u001b[K     |███████████████████████████▊    | 307kB 4.3MB/s eta 0:00:01\r\u001b[K     |████████████████████████████▋   | 317kB 4.3MB/s eta 0:00:01\r\u001b[K     |█████████████████████████████▋  | 327kB 4.3MB/s eta 0:00:01\r\u001b[K     |██████████████████████████████▌ | 337kB 4.3MB/s eta 0:00:01\r\u001b[K     |███████████████████████████████▍| 348kB 4.3MB/s eta 0:00:01\r\u001b[K     |████████████████████████████████| 358kB 4.3MB/s \n",
            "\u001b[?25hRequirement already satisfied: google-api-core[grpc]<2.0.0dev,>=1.14.0 in /usr/local/lib/python3.6/dist-packages (from dialogflow) (1.16.0)\n",
            "Requirement already satisfied: setuptools>=34.0.0 in /usr/local/lib/python3.6/dist-packages (from google-api-core[grpc]<2.0.0dev,>=1.14.0->dialogflow) (50.3.2)\n",
            "Requirement already satisfied: six>=1.10.0 in /usr/local/lib/python3.6/dist-packages (from google-api-core[grpc]<2.0.0dev,>=1.14.0->dialogflow) (1.15.0)\n",
            "Requirement already satisfied: requests<3.0.0dev,>=2.18.0 in /usr/local/lib/python3.6/dist-packages (from google-api-core[grpc]<2.0.0dev,>=1.14.0->dialogflow) (2.23.0)\n",
            "Requirement already satisfied: protobuf>=3.4.0 in /usr/local/lib/python3.6/dist-packages (from google-api-core[grpc]<2.0.0dev,>=1.14.0->dialogflow) (3.12.4)\n",
            "Requirement already satisfied: googleapis-common-protos<2.0dev,>=1.6.0 in /usr/local/lib/python3.6/dist-packages (from google-api-core[grpc]<2.0.0dev,>=1.14.0->dialogflow) (1.52.0)\n",
            "Requirement already satisfied: pytz in /usr/local/lib/python3.6/dist-packages (from google-api-core[grpc]<2.0.0dev,>=1.14.0->dialogflow) (2018.9)\n",
            "Requirement already satisfied: google-auth<2.0dev,>=0.4.0 in /usr/local/lib/python3.6/dist-packages (from google-api-core[grpc]<2.0.0dev,>=1.14.0->dialogflow) (1.17.2)\n",
            "Requirement already satisfied: grpcio<2.0dev,>=1.8.2; extra == \"grpc\" in /usr/local/lib/python3.6/dist-packages (from google-api-core[grpc]<2.0.0dev,>=1.14.0->dialogflow) (1.33.2)\n",
            "Requirement already satisfied: chardet<4,>=3.0.2 in /usr/local/lib/python3.6/dist-packages (from requests<3.0.0dev,>=2.18.0->google-api-core[grpc]<2.0.0dev,>=1.14.0->dialogflow) (3.0.4)\n",
            "Requirement already satisfied: urllib3!=1.25.0,!=1.25.1,<1.26,>=1.21.1 in /usr/local/lib/python3.6/dist-packages (from requests<3.0.0dev,>=2.18.0->google-api-core[grpc]<2.0.0dev,>=1.14.0->dialogflow) (1.24.3)\n",
            "Requirement already satisfied: certifi>=2017.4.17 in /usr/local/lib/python3.6/dist-packages (from requests<3.0.0dev,>=2.18.0->google-api-core[grpc]<2.0.0dev,>=1.14.0->dialogflow) (2020.11.8)\n",
            "Requirement already satisfied: idna<3,>=2.5 in /usr/local/lib/python3.6/dist-packages (from requests<3.0.0dev,>=2.18.0->google-api-core[grpc]<2.0.0dev,>=1.14.0->dialogflow) (2.10)\n",
            "Requirement already satisfied: cachetools<5.0,>=2.0.0 in /usr/local/lib/python3.6/dist-packages (from google-auth<2.0dev,>=0.4.0->google-api-core[grpc]<2.0.0dev,>=1.14.0->dialogflow) (4.1.1)\n",
            "Requirement already satisfied: pyasn1-modules>=0.2.1 in /usr/local/lib/python3.6/dist-packages (from google-auth<2.0dev,>=0.4.0->google-api-core[grpc]<2.0.0dev,>=1.14.0->dialogflow) (0.2.8)\n",
            "Requirement already satisfied: rsa<5,>=3.1.4; python_version >= \"3\" in /usr/local/lib/python3.6/dist-packages (from google-auth<2.0dev,>=0.4.0->google-api-core[grpc]<2.0.0dev,>=1.14.0->dialogflow) (4.6)\n",
            "Requirement already satisfied: pyasn1<0.5.0,>=0.4.6 in /usr/local/lib/python3.6/dist-packages (from pyasn1-modules>=0.2.1->google-auth<2.0dev,>=0.4.0->google-api-core[grpc]<2.0.0dev,>=1.14.0->dialogflow) (0.4.8)\n",
            "Installing collected packages: dialogflow\n",
            "Successfully installed dialogflow-1.1.0\n"
          ],
          "name": "stdout"
        }
      ]
    },
    {
      "cell_type": "code",
      "metadata": {
        "id": "GjXjT8Vkt4dO"
      },
      "source": [
        "import os\n",
        "import logging\n",
        "from telegram import Update\n",
        "from telegram.ext import Updater, CommandHandler, MessageHandler, Filters, CallbackContext\n",
        "from pymorphy2 import MorphAnalyzer\n",
        "from tqdm.notebook import tqdm_notebook\n",
        "import dialogflow\n",
        "from stop_words import get_stop_words\n",
        "from google.colab import drive\n",
        "from gensim.models import Word2Vec, FastText\n",
        "import annoy\n",
        "import pickle\n",
        "import numpy as np\n",
        "import string\n",
        "import regex as re\n",
        "import random\n"
      ],
      "execution_count": 6,
      "outputs": []
    },
    {
      "cell_type": "code",
      "metadata": {
        "colab": {
          "base_uri": "https://localhost:8080/"
        },
        "id": "f_5wznGB2rAI",
        "outputId": "4718b46b-80f2-43de-9838-cea988c183f7"
      },
      "source": [
        "drive.mount('/content/drive/')"
      ],
      "execution_count": 7,
      "outputs": [
        {
          "output_type": "stream",
          "text": [
            "Mounted at /content/drive/\n"
          ],
          "name": "stdout"
        }
      ]
    },
    {
      "cell_type": "code",
      "metadata": {
        "id": "bp13d3anAKJ4"
      },
      "source": [
        "#!ls '/content/drive/MyDrive/Colab Notebooks/data'"
      ],
      "execution_count": 8,
      "outputs": []
    },
    {
      "cell_type": "code",
      "metadata": {
        "id": "LLSK7ky4zL0Z"
      },
      "source": [
        "#DATA_PATH = \"data/Otvety.txt\"\n",
        "#ANSWERS_PATH = 'data/prepared_answers.txt'\n",
        "FASTTEXT_MODEL_PATH = '/content/drive/MyDrive/Colab Notebooks/data/ft_model.h5'\n",
        "RAW_SENTENCES_PATH = '/content/drive/MyDrive/Colab Notebooks/data/sentences.pkl'\n",
        "INDEX_MAP_PATH = '/content/drive/MyDrive/Colab Notebooks/data/map_ind.pkl'\n",
        "FT_IND_PATH = '/content/drive/MyDrive/Colab Notebooks/data/ft_ind'\n",
        "FT_VECTOR_MAX_LEN = 100\n",
        "\n"
      ],
      "execution_count": 9,
      "outputs": []
    },
    {
      "cell_type": "code",
      "metadata": {
        "id": "Nf1dscV8MWyb"
      },
      "source": [
        "morpher = MorphAnalyzer()\n",
        "stopw = set(get_stop_words(\"ru\"))\n",
        "exclude = set(string.punctuation)"
      ],
      "execution_count": 10,
      "outputs": []
    },
    {
      "cell_type": "markdown",
      "metadata": {
        "id": "GJI2FUHou1Pc"
      },
      "source": [
        "## Подготовка и обучение FastText модели на ответах mail.ru"
      ]
    },
    {
      "cell_type": "code",
      "metadata": {
        "id": "-BHwPtf2zKeR",
        "colab": {
          "base_uri": "https://localhost:8080/",
          "height": 107
        },
        "outputId": "f1fc5b94-2880-4fea-c56a-27051ed30576"
      },
      "source": [
        "model_FT = FastText.load(FASTTEXT_MODEL_PATH)\n",
        "\n",
        "'''\n",
        "# Создание индексов FastText\n",
        "ft_ind = annoy.AnnoyIndex(FT_VECTOR_MAX_LEN ,'angular')\n",
        "\n",
        "index_map = {}\n",
        "counter = 0\n",
        "\n",
        "with open(ANSWERS_PATH, \"r\", encoding='utf-8') as fout:\n",
        "    for line in tqdm_notebook(fin):\n",
        "        num_ft = 0\n",
        "        spls = line.split(\"\\t\")\n",
        "        index_map[counter] = spls[1]\n",
        "        question = preprocess_txt(spls[0])\n",
        "        vector_ft = np.zeros(FT_VECTOR_MAX_LEN)\n",
        "        for word in question:\n",
        "            if word in modelFT:\n",
        "                vector_ft += modelFT[word]\n",
        "                num_ft += 1\n",
        "        if num_ft > 0:\n",
        "            vector_ft = vector_ft / num_ft\n",
        "        ft_ind.add_item(counter, vector_ft)\n",
        "            \n",
        "        counter += 1\n",
        "\n",
        "# Сохранение просчитанной карты индексов\n",
        "with open(INDEX_MAP_PATH, 'wb') as fout:\n",
        "    pickle.dump(index_map, fout)\n",
        "    \n",
        "# Построение индексов на 20 деревьях \n",
        "ft_ind.build(20)\n",
        "ft_ind.save(FT_INDEX_PATH)\n",
        "'''"
      ],
      "execution_count": 11,
      "outputs": [
        {
          "output_type": "execute_result",
          "data": {
            "application/vnd.google.colaboratory.intrinsic+json": {
              "type": "string"
            },
            "text/plain": [
              "'\\n# Создание индексов FastText\\nft_ind = annoy.AnnoyIndex(FT_VECTOR_MAX_LEN ,\\'angular\\')\\n\\nindex_map = {}\\ncounter = 0\\n\\nwith open(ANSWERS_PATH, \"r\", encoding=\\'utf-8\\') as fout:\\n    for line in tqdm_notebook(fin):\\n        num_ft = 0\\n        spls = line.split(\"\\t\")\\n        index_map[counter] = spls[1]\\n        question = preprocess_txt(spls[0])\\n        vector_ft = np.zeros(FT_VECTOR_MAX_LEN)\\n        for word in question:\\n            if word in modelFT:\\n                vector_ft += modelFT[word]\\n                num_ft += 1\\n        if num_ft > 0:\\n            vector_ft = vector_ft / num_ft\\n        ft_ind.add_item(counter, vector_ft)\\n            \\n        counter += 1\\n\\n# Сохранение просчитанной карты индексов\\nwith open(INDEX_MAP_PATH, \\'wb\\') as fout:\\n    pickle.dump(index_map, fout)\\n    \\n# Построение индексов на 20 деревьях \\nft_ind.build(20)\\nft_ind.save(FT_INDEX_PATH)\\n'"
            ]
          },
          "metadata": {
            "tags": []
          },
          "execution_count": 11
        }
      ]
    },
    {
      "cell_type": "code",
      "metadata": {
        "colab": {
          "base_uri": "https://localhost:8080/"
        },
        "id": "j9F-kuZvCUPp",
        "outputId": "3bac79e8-794b-4084-d103-fb6e62cf10a6"
      },
      "source": [
        "ft_ind = annoy.AnnoyIndex(FT_VECTOR_MAX_LEN, 'angular')\n",
        "ft_ind.load(FT_IND_PATH)"
      ],
      "execution_count": 12,
      "outputs": [
        {
          "output_type": "execute_result",
          "data": {
            "text/plain": [
              "True"
            ]
          },
          "metadata": {
            "tags": []
          },
          "execution_count": 12
        }
      ]
    },
    {
      "cell_type": "code",
      "metadata": {
        "id": "oboBF6EoDFwo"
      },
      "source": [
        "with open(INDEX_MAP_PATH, 'rb') as fout:\n",
        "    index_map = pickle.load(fout)"
      ],
      "execution_count": 13,
      "outputs": []
    },
    {
      "cell_type": "code",
      "metadata": {
        "id": "l589nmMSDk1Y"
      },
      "source": [
        "def preprocess_txt(line):\n",
        "    \"\"\"Препроцессинг строки\"\"\"\n",
        "    spls = \"\".join(i for i in line.strip() if i not in exclude).split()\n",
        "    spls = [morpher.parse(i.lower())[0].normal_form for i in spls]\n",
        "    spls = [i for i in spls if i not in stopw and i != \"\"]\n",
        "    return spls\n",
        "\n",
        "def get_response(question, index, model, index_map):\n",
        "    \n",
        "    \"\"\"Получение ответа из модели fast text\"\"\"\n",
        "    \n",
        "    question = preprocess_txt(question)\n",
        "    vect_ft = np.zeros(FT_VECTOR_MAX_LEN)\n",
        "    num = 0\n",
        "    for word in question:\n",
        "        if word in model:\n",
        "            vect_ft += model[word]\n",
        "            num += 1\n",
        "    if num > 0:\n",
        "        vect_ft = vect_ft / num\n",
        "    answers = index.get_nns_by_vector(vect_ft, 5) \n",
        "    return [index_map[i] for i in answers if len(index_map[i]) < 300] # \n"
      ],
      "execution_count": 14,
      "outputs": []
    },
    {
      "cell_type": "code",
      "metadata": {
        "colab": {
          "base_uri": "https://localhost:8080/"
        },
        "id": "zIvm65IADmlO",
        "outputId": "7768b845-ec13-46ef-d909-f59c9da5eeb9"
      },
      "source": [
        "# проверка чата на \"ответах mail.ru\"\n",
        "input_text = \"Куда мы попали?\" \n",
        "r = get_response(input_text, ft_ind, model_FT, index_map)\n",
        "r"
      ],
      "execution_count": 15,
      "outputs": [
        {
          "output_type": "stream",
          "text": [
            "/usr/local/lib/python3.6/dist-packages/ipykernel_launcher.py:16: DeprecationWarning: Call to deprecated `__contains__` (Method will be removed in 4.0.0, use self.wv.__contains__() instead).\n",
            "  app.launch_new_instance()\n",
            "/usr/local/lib/python3.6/dist-packages/ipykernel_launcher.py:17: DeprecationWarning: Call to deprecated `__getitem__` (Method will be removed in 4.0.0, use self.wv.__getitem__() instead).\n"
          ],
          "name": "stderr"
        },
        {
          "output_type": "execute_result",
          "data": {
            "text/plain": [
              "['Привет!Чего случилась-заплутала или наших лиц не узнаёшь?!Туда туда родная-всегда радуемся твоему появлению!!. \\n',\n",
              " 'Дааааа! ! Скоростя у них космические!?. \\n',\n",
              " 'Это кое как.. а куда попало, это по обстоятельствам. \\n',\n",
              " 'В клоаку, тобишь в *опу.. \\n',\n",
              " 'Здраствуйте уважаемое \"оно\" )) <br>вы попали на планету зеиля (дурдом с нулевого года ) <br>))))). \\n']"
            ]
          },
          "metadata": {
            "tags": []
          },
          "execution_count": 15
        }
      ]
    },
    {
      "cell_type": "code",
      "metadata": {
        "id": "l4UW44NtM2_o"
      },
      "source": [
        "def clean(text):\n",
        "    \n",
        "    \"\"\"Очистка текста от тегов, лишних знаков препинаний, смайлов и т.д.\"\"\"\n",
        "    cl_text = random.choice(text)  # Для выбора одного из многочисленных вариантов\n",
        "    cl_text = re.sub(r'<[^>]*>','', cl_text)\n",
        "    cl_text = re.sub(r'[\\xa0]',' ', cl_text)\n",
        "    cl_text = re.sub(r'.{1,2} [\\n]','', cl_text)\n",
        "    cl_text = re.sub(r'[\\n]','', cl_text)\n",
        "    cl_text = re.sub(r'\\s[.]\\s','', cl_text)\n",
        "    cl_text = re.sub(r\"\\)\\)\\)\\)\", \"))\", cl_text)\n",
        "    cl_text = re.sub(r\"\\)\\)\", \")\", cl_text)\n",
        "    cl_text = re.sub(r\"\\) \\)\", \"))\", cl_text)\n",
        "    cl_text = re.sub(r',{2,}','', cl_text)\n",
        "    return cl_text"
      ],
      "execution_count": 16,
      "outputs": []
    },
    {
      "cell_type": "code",
      "metadata": {
        "id": "Sb2b-9fcM4Sf"
      },
      "source": [
        ""
      ],
      "execution_count": 16,
      "outputs": []
    },
    {
      "cell_type": "markdown",
      "metadata": {
        "id": "4Q8y9cwY7d_6"
      },
      "source": [
        "Настраиваем бота"
      ]
    },
    {
      "cell_type": "markdown",
      "metadata": {
        "id": "4bQ8pNWut4dO"
      },
      "source": [
        "Done! Congratulations on your new bot. You will find it at t.me/Evm_gb_bot. You can now add a description, about section and profile picture for your bot, see /help for a list of commands. By the way, when you've finished creating your cool bot, ping our Bot Support if you want a better username for it. Just make sure the bot is fully operational before you do this.\n",
        "\n",
        "Use this token to access the HTTP API:\n",
        "1486721342:AAFR7RPnqZHHZSjmRsBmQqaM2Kb5t8bJaes\n",
        "Keep your token secure and store it safely, it can be used by anyone to control your bot.\n",
        "\n",
        "For a description of the Bot API, see this page: https://core.telegram.org/bots/api"
      ]
    },
    {
      "cell_type": "code",
      "metadata": {
        "id": "dbCqrx7rt4dO"
      },
      "source": [
        "updater = Updater(\"1486721342:AAFR7RPnqZHHZSjmRsBmQqaM2Kb5t8bJaes\")  # Токен API к Telegram , use_context=True\n",
        "dispatcher = updater.dispatcher\n",
        "os.environ[\"GOOGLE_APPLICATION_CREDENTIALS\"] = '/content/drive/MyDrive/Colab Notebooks/data/newbot-cfin-91c1d9900dfd.json'# скачнный JSON\n",
        "\n",
        "\n",
        "DIALOGFLOW_PROJECT_ID = 'newbot-cfin' #PROJECT ID из DialogFlow \n",
        "DIALOGFLOW_LANGUAGE_CODE = 'ru' # язык\n",
        "SESSION_ID = 'Evm_gb_bot'  # ID бота из телеграма\n",
        "start_msg = 'Новейший и  вероятно не самый сумасшедший бот, готов ответить на большинство вопросов по-русски.'\n"
      ],
      "execution_count": 17,
      "outputs": []
    },
    {
      "cell_type": "markdown",
      "metadata": {
        "id": "IFd35wUXt4dO"
      },
      "source": [
        "Переписываем функцию textMessage"
      ]
    },
    {
      "cell_type": "code",
      "metadata": {
        "id": "eBwVK0adt4dO"
      },
      "source": [
        "def startCommand(update: Update, context: CallbackContext):\n",
        "    update.message.reply_text('Добрый день!')\n",
        "\n",
        "    \n",
        "def textMessage(update: Update, context: CallbackContext):\n",
        "    \n",
        "    '''\n",
        "    # Подлючение бота из dialogflow\n",
        "\n",
        "    session_client = dialogflow.SessionsClient()\n",
        "    session = session_client.session_path(DIALOGFLOW_PROJECT_ID, SESSION_ID)\n",
        "    text_input = dialogflow.types.TextInput(text=update.message.text , language_code=DIALOGFLOW_LANGUAGE_CODE)\n",
        "    query_input = dialogflow.types.QueryInput(text=text_input)\n",
        "    \n",
        "    try:\n",
        "        response = session_client.detect_intent(session=session, query_input=query_input)\n",
        "    except InvalidArgument:\n",
        "         raise \n",
        "\n",
        "    text = response.query_result.fulfillment_text \n",
        "    if text:\n",
        "        update.message.reply_text(response.query_result.fulfillment_text)\n",
        "    else:\n",
        "        update.message.reply_text('Попробуйте задать вопрос иначе.')\n",
        "        '''\n",
        "    input_txt = update.message.text\n",
        "    print(f\"Пользователь: {input_txt}\")\n",
        "    try:\n",
        "      response = get_response(input_txt, ft_ind, model_FT, index_map)\n",
        "      response = clean(response)\n",
        "      update.message.reply_text(response)\n",
        "    except AttributeError:\n",
        "      response = 'Затрудняюсь ответить. Спроси что нибудь еще.'\n",
        "      update.message.reply_text(response)\n",
        "      \n",
        "    print(f\"Бот: {response}\")"
      ],
      "execution_count": 18,
      "outputs": []
    },
    {
      "cell_type": "markdown",
      "metadata": {
        "id": "Z8OZ1Wto8qWk"
      },
      "source": [
        ""
      ]
    },
    {
      "cell_type": "code",
      "metadata": {
        "id": "TWTSvudMt4dO",
        "colab": {
          "base_uri": "https://localhost:8080/"
        },
        "outputId": "c35056dd-93a0-48f4-8e39-2186bd5e5ce4"
      },
      "source": [
        " # on different commands - answer in Telegram\n",
        "'''\n",
        "dispatcher.add_handler(CommandHandler(\"start\", startCommand1))\n",
        "dispatcher.add_handler(MessageHandler(Filters.text & ~Filters.command, textMessage1))\n",
        "\n",
        "# Start the Bot\n",
        "updater.start_polling()\n",
        "updater.idle()'''\n",
        "\n",
        "start_command_handler = CommandHandler('start', startCommand)\n",
        "text_message_handler = MessageHandler(Filters.text, textMessage)\n",
        "# Добавляем хендлеры в диспатчер\n",
        "dispatcher.add_handler(start_command_handler)\n",
        "dispatcher.add_handler(text_message_handler)\n",
        "# Начинаем поиск обновлений\n",
        "updater.start_polling(clean=True)\n",
        "# Останавливаем бота на Ctrl + C\n",
        "updater.idle()"
      ],
      "execution_count": null,
      "outputs": [
        {
          "output_type": "stream",
          "text": [
            "Пользователь: Пробуем\n"
          ],
          "name": "stdout"
        },
        {
          "output_type": "stream",
          "text": [
            "/usr/local/lib/python3.6/dist-packages/ipykernel_launcher.py:16: DeprecationWarning: Call to deprecated `__contains__` (Method will be removed in 4.0.0, use self.wv.__contains__() instead).\n",
            "  app.launch_new_instance()\n",
            "/usr/local/lib/python3.6/dist-packages/ipykernel_launcher.py:17: DeprecationWarning: Call to deprecated `__getitem__` (Method will be removed in 4.0.0, use self.wv.__getitem__() instead).\n"
          ],
          "name": "stderr"
        },
        {
          "output_type": "stream",
          "text": [
            "Бот: Полетать(Имея крылья\n",
            "Пользователь: Где бы ты хотел полетать и на чем?\n",
            "Бот: Значит, ты - Ангел.:)\n",
            "Пользователь: Это у тебя есть шансы. Как думаешь?\n",
            "Бот: Ой, извини, не узнала\n",
            "Пользователь: Твое любимое блюдо?\n",
            "Бот: шашлык и пицца!\n",
            "Пользователь: Довольно популярный ответ. Кого утопил Герасим?\n",
            "Бот: Нет нельзя, поскольку счастливый человек это тот кто не понимает степени своего собственного несчастья\n",
            "Пользователь: Сколько км в парсеке?\n",
            "Бот: Затрудняюсь ответить. Спроси что нибудь еще.\n",
            "Пользователь: Сколько весит слон?\n",
            "Бот: тонн\n",
            "Пользователь: Насколько ты разумен?\n",
            "Бот: Стрельцы поверхностны, так что обижаются мало. Но если ОЧЕНЬ обидятся, то все!! Не простят!Мстить не будут, но все отношения прервут, если есть возможност\n",
            "Пользователь: Ладно, постараюсь не обижать. Пока.\n",
            "Бот: Я простила когда-то, но забыть не смогла и моя самооценка упала тогда ниже плинтуса. Прошло 2 года и я решила его оставить, и стала встречаться с другим, вот тогда я прочувствовала полностью на себе силу любви ко мне того, кого оставила. Теперь он мой муж)\n"
          ],
          "name": "stdout"
        }
      ]
    }
  ]
}